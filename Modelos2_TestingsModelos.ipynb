{
 "cells": [
  {
   "cell_type": "markdown",
   "metadata": {},
   "source": [
    "Nuevamente, definimos modelos con la diferencia de que usamos el dataframe *df_train_arreglado1.csv* creado en *PreprocesadoTrainSinComentarios.ipynb*. \n",
    "\n",
    "Recordemos también que existen 2 nuevas variables: \n",
    "+ PV_precio_anterior: Si/No\n",
    "+ PV_cantidad_imagenes: Cantidad de imágenes que tiene asociadas el piso"
   ]
  },
  {
   "cell_type": "code",
   "execution_count": 1,
   "metadata": {
    "collapsed": true
   },
   "outputs": [],
   "source": [
    "import pandas as pd\n",
    "import numpy as np\n",
    "from matplotlib import pyplot as plt\n",
    "\n",
    "df = pd.read_csv('df_train_arreglado1.csv', sep = '|', encoding='utf-8')"
   ]
  },
  {
   "cell_type": "code",
   "execution_count": 2,
   "metadata": {},
   "outputs": [
    {
     "data": {
      "text/html": [
       "<div>\n",
       "<style scoped>\n",
       "    .dataframe tbody tr th:only-of-type {\n",
       "        vertical-align: middle;\n",
       "    }\n",
       "\n",
       "    .dataframe tbody tr th {\n",
       "        vertical-align: top;\n",
       "    }\n",
       "\n",
       "    .dataframe thead th {\n",
       "        text-align: right;\n",
       "    }\n",
       "</style>\n",
       "<table border=\"1\" class=\"dataframe\">\n",
       "  <thead>\n",
       "    <tr style=\"text-align: right;\">\n",
       "      <th></th>\n",
       "      <th>HY_id</th>\n",
       "      <th>HY_cod_postal</th>\n",
       "      <th>HY_provincia</th>\n",
       "      <th>HY_descripcion</th>\n",
       "      <th>HY_distribucion</th>\n",
       "      <th>HY_tipo</th>\n",
       "      <th>HY_antiguedad</th>\n",
       "      <th>HY_metros_utiles</th>\n",
       "      <th>HY_metros_totales</th>\n",
       "      <th>HY_num_banos</th>\n",
       "      <th>...</th>\n",
       "      <th>TARGET</th>\n",
       "      <th>PV_precio_anterior</th>\n",
       "      <th>PV_longitud_descripcion</th>\n",
       "      <th>PV_longitud_distribucion</th>\n",
       "      <th>PV_cantidad_imagenes</th>\n",
       "      <th>PV_ind_elasticidad</th>\n",
       "      <th>Viejos</th>\n",
       "      <th>Medios</th>\n",
       "      <th>Nuevos</th>\n",
       "      <th>PV_clase_piso</th>\n",
       "    </tr>\n",
       "  </thead>\n",
       "  <tbody>\n",
       "    <tr>\n",
       "      <th>0</th>\n",
       "      <td>6028499</td>\n",
       "      <td>18151</td>\n",
       "      <td>Granada</td>\n",
       "      <td>Plaza de Garaje ubicada en la planta sótano de...</td>\n",
       "      <td>NaN</td>\n",
       "      <td>Garaje</td>\n",
       "      <td>NaN</td>\n",
       "      <td>35.00</td>\n",
       "      <td>35.00</td>\n",
       "      <td>0</td>\n",
       "      <td>...</td>\n",
       "      <td>32.16</td>\n",
       "      <td>True</td>\n",
       "      <td>397</td>\n",
       "      <td>0</td>\n",
       "      <td>5</td>\n",
       "      <td>2.0</td>\n",
       "      <td>0.00</td>\n",
       "      <td>0.27</td>\n",
       "      <td>0.72</td>\n",
       "      <td>Nuevos</td>\n",
       "    </tr>\n",
       "    <tr>\n",
       "      <th>1</th>\n",
       "      <td>6028500</td>\n",
       "      <td>29915</td>\n",
       "      <td>Málaga</td>\n",
       "      <td>NaN</td>\n",
       "      <td>NaN</td>\n",
       "      <td>Casa de pueblo</td>\n",
       "      <td>NaN</td>\n",
       "      <td>151.98</td>\n",
       "      <td>151.98</td>\n",
       "      <td>2</td>\n",
       "      <td>...</td>\n",
       "      <td>30.71</td>\n",
       "      <td>False</td>\n",
       "      <td>0</td>\n",
       "      <td>0</td>\n",
       "      <td>3</td>\n",
       "      <td>2.0</td>\n",
       "      <td>0.24</td>\n",
       "      <td>0.36</td>\n",
       "      <td>0.40</td>\n",
       "      <td>Nuevos</td>\n",
       "    </tr>\n",
       "    <tr>\n",
       "      <th>2</th>\n",
       "      <td>6028502</td>\n",
       "      <td>3740</td>\n",
       "      <td>Alicante</td>\n",
       "      <td>El inmueble(piso) se encuentra situado en el d...</td>\n",
       "      <td>VIVIENDA-PISO</td>\n",
       "      <td>Piso</td>\n",
       "      <td>2008.0</td>\n",
       "      <td>92.58</td>\n",
       "      <td>102.78</td>\n",
       "      <td>1</td>\n",
       "      <td>...</td>\n",
       "      <td>63.48</td>\n",
       "      <td>False</td>\n",
       "      <td>226</td>\n",
       "      <td>13</td>\n",
       "      <td>10</td>\n",
       "      <td>3.0</td>\n",
       "      <td>0.30</td>\n",
       "      <td>0.22</td>\n",
       "      <td>0.47</td>\n",
       "      <td>Nuevos</td>\n",
       "    </tr>\n",
       "    <tr>\n",
       "      <th>3</th>\n",
       "      <td>6028512</td>\n",
       "      <td>30592</td>\n",
       "      <td>Murcia</td>\n",
       "      <td>Plaza de garaje situada en la planta semisótan...</td>\n",
       "      <td>NaN</td>\n",
       "      <td>Garaje</td>\n",
       "      <td>NaN</td>\n",
       "      <td>11.81</td>\n",
       "      <td>12.46</td>\n",
       "      <td>0</td>\n",
       "      <td>...</td>\n",
       "      <td>108.27</td>\n",
       "      <td>True</td>\n",
       "      <td>149</td>\n",
       "      <td>0</td>\n",
       "      <td>2</td>\n",
       "      <td>3.0</td>\n",
       "      <td>0.14</td>\n",
       "      <td>0.08</td>\n",
       "      <td>0.79</td>\n",
       "      <td>Nuevos</td>\n",
       "    </tr>\n",
       "    <tr>\n",
       "      <th>4</th>\n",
       "      <td>6028513</td>\n",
       "      <td>30592</td>\n",
       "      <td>Murcia</td>\n",
       "      <td>Plaza de garaje situada en la planta semisótan...</td>\n",
       "      <td>NaN</td>\n",
       "      <td>Garaje</td>\n",
       "      <td>NaN</td>\n",
       "      <td>14.29</td>\n",
       "      <td>15.43</td>\n",
       "      <td>0</td>\n",
       "      <td>...</td>\n",
       "      <td>7.50</td>\n",
       "      <td>True</td>\n",
       "      <td>149</td>\n",
       "      <td>0</td>\n",
       "      <td>2</td>\n",
       "      <td>3.0</td>\n",
       "      <td>0.14</td>\n",
       "      <td>0.08</td>\n",
       "      <td>0.79</td>\n",
       "      <td>Nuevos</td>\n",
       "    </tr>\n",
       "  </tbody>\n",
       "</table>\n",
       "<p>5 rows × 62 columns</p>\n",
       "</div>"
      ],
      "text/plain": [
       "     HY_id  HY_cod_postal HY_provincia  \\\n",
       "0  6028499          18151      Granada   \n",
       "1  6028500          29915       Málaga   \n",
       "2  6028502           3740     Alicante   \n",
       "3  6028512          30592       Murcia   \n",
       "4  6028513          30592       Murcia   \n",
       "\n",
       "                                      HY_descripcion HY_distribucion  \\\n",
       "0  Plaza de Garaje ubicada en la planta sótano de...             NaN   \n",
       "1                                                NaN             NaN   \n",
       "2  El inmueble(piso) se encuentra situado en el d...   VIVIENDA-PISO   \n",
       "3  Plaza de garaje situada en la planta semisótan...             NaN   \n",
       "4  Plaza de garaje situada en la planta semisótan...             NaN   \n",
       "\n",
       "          HY_tipo  HY_antiguedad  HY_metros_utiles  HY_metros_totales  \\\n",
       "0          Garaje            NaN             35.00              35.00   \n",
       "1  Casa de pueblo            NaN            151.98             151.98   \n",
       "2            Piso         2008.0             92.58             102.78   \n",
       "3          Garaje            NaN             11.81              12.46   \n",
       "4          Garaje            NaN             14.29              15.43   \n",
       "\n",
       "   HY_num_banos      ...        TARGET  PV_precio_anterior  \\\n",
       "0             0      ...         32.16                True   \n",
       "1             2      ...         30.71               False   \n",
       "2             1      ...         63.48               False   \n",
       "3             0      ...        108.27                True   \n",
       "4             0      ...          7.50                True   \n",
       "\n",
       "   PV_longitud_descripcion  PV_longitud_distribucion  PV_cantidad_imagenes  \\\n",
       "0                      397                         0                     5   \n",
       "1                        0                         0                     3   \n",
       "2                      226                        13                    10   \n",
       "3                      149                         0                     2   \n",
       "4                      149                         0                     2   \n",
       "\n",
       "   PV_ind_elasticidad  Viejos  Medios  Nuevos  PV_clase_piso  \n",
       "0                 2.0    0.00    0.27    0.72         Nuevos  \n",
       "1                 2.0    0.24    0.36    0.40         Nuevos  \n",
       "2                 3.0    0.30    0.22    0.47         Nuevos  \n",
       "3                 3.0    0.14    0.08    0.79         Nuevos  \n",
       "4                 3.0    0.14    0.08    0.79         Nuevos  \n",
       "\n",
       "[5 rows x 62 columns]"
      ]
     },
     "execution_count": 2,
     "metadata": {},
     "output_type": "execute_result"
    }
   ],
   "source": [
    "df.head()"
   ]
  },
  {
   "cell_type": "markdown",
   "metadata": {},
   "source": [
    "# Transformación de variables"
   ]
  },
  {
   "cell_type": "code",
   "execution_count": 3,
   "metadata": {
    "collapsed": true
   },
   "outputs": [],
   "source": [
    "# Añadimos una nueva variable que es si la longitud de la descripción es nula, va de 0 a 1000 carácteres, ó supera los 1000\n",
    "df['PV_longitud_descripcion2'] = pd.cut(df['PV_longitud_descripcion'], bins = [-1,0,1000, np.inf], labels=['Ninguna', 'Media', 'Larga'], include_lowest=False)\n",
    "\n",
    "# Precio de euro el metro\n",
    "df['PV_precio_metro'] = df.HY_precio/df.HY_metros_totales\n",
    "\n",
    "# Cambiamos Provincias por 'Castellón','Murcia','Almería','Valencia','Otros'\n",
    "def estructurar_provincias(x):\n",
    "    '''\n",
    "    Funcion que asocia a x (Nombre de provincia) su clase\n",
    "    '''\n",
    "    # Lista de clases que nos queremos quedar\n",
    "    if x in ['Castellón','Murcia','Almería','Valencia']:\n",
    "        return x\n",
    "    else:\n",
    "        return 'Otros'\n",
    "df['PV_provincia'] = df.HY_provincia.apply(lambda x: estructurar_provincias(x))\n",
    "\n",
    "# Una nueva que es si el  inmueble presenta alguna distribución\n",
    "df.loc[df['PV_longitud_distribucion'] > 0,'PV_longitud_distribucion'] = 1\n",
    "\n",
    "# Cambiamos certificado energetico a Si/No (1/0)\n",
    "df['PV_cert_energ'] = df['HY_cert_energ'].apply(lambda x: np.sum(x != 'No'))\n",
    "\n",
    "# Cambiamos las categorías de HY_tipo a solo 3: [Piso, Garaje, Otros]\n",
    "def CategorizarHY_tipo(dato):\n",
    "    if dato in ['Piso', 'Garaje']:\n",
    "        return dato\n",
    "    else:\n",
    "        return 'Otros'\n",
    "df['PV_tipo'] = df['HY_tipo'].apply(CategorizarHY_tipo)\n",
    "\n",
    "# Cambiamos la variable Garaje a Tiene/No tiene (1/0)\n",
    "df.loc[df['HY_num_garajes']>1,'HY_num_garajes'] = 1\n",
    "\n",
    "# Cambiamos baños por 0, 1, +1 (No tiene, tiene 1, tiene mas de 1)\n",
    "df['PV_num_banos'] = pd.cut(df['HY_num_banos'], [-1,0,1,np.inf], labels = [0,1,'+1'])\n",
    "\n",
    "# Cambiamos Num terrazas a Si/No (1/0)\n",
    "df.loc[df['HY_num_terrazas']>1, 'HY_num_terrazas'] = 1"
   ]
  },
  {
   "cell_type": "markdown",
   "metadata": {},
   "source": [
    "# Variables a eliminar\n",
    "+ HY_id $\\longrightarrow$\n",
    "+ HY_cod_postal $\\longrightarrow$\n",
    "+ HY_provincia $\\longrightarrow$\n",
    "+ HY_descripcion $\\longrightarrow$\n",
    "+ HY_distribucion $\\longrightarrow$\n",
    "+ HY_tipo $\\longrightarrow$\n",
    "+ HY_antiguedad $\\longrightarrow$\n",
    "+ HY_num_banos $\\longrightarrow$\n",
    "+ HY_cert_energ $\\longrightarrow$\n",
    "+ HY_num_garajes $\\longrightarrow$\n",
    "+ IDEA_area $\\longrightarrow$\n",
    "+ IDEA_poblacion $\\longrightarrow$\n",
    "+ IDEA_densidad $\\longrightarrow$\n",
    "+ IDEA_ind_elasticidad $\\longrightarrow$\n",
    "+ Viejos $\\longrightarrow$\n",
    "+ Medios $\\longrightarrow$\n",
    "+ Nuevos $\\longrightarrow$"
   ]
  },
  {
   "cell_type": "code",
   "execution_count": 4,
   "metadata": {
    "collapsed": true
   },
   "outputs": [],
   "source": [
    "drop_vars = ['HY_id', 'HY_cod_postal', 'HY_provincia', 'HY_descripcion',\n",
    "             'HY_distribucion', 'HY_tipo', 'HY_antiguedad','HY_num_banos', 'HY_cert_energ',\n",
    "             'HY_num_garajes', 'IDEA_pc_1960', 'IDEA_area', 'IDEA_poblacion', 'IDEA_densidad', 'IDEA_ind_elasticidad',\n",
    "             'Viejos', 'Medios','Nuevos']"
   ]
  },
  {
   "cell_type": "code",
   "execution_count": 65,
   "metadata": {
    "collapsed": true
   },
   "outputs": [],
   "source": [
    "X = df.drop(drop_vars+['TARGET'],axis = 1)\n",
    "y = df.TARGET.copy()"
   ]
  },
  {
   "cell_type": "markdown",
   "metadata": {},
   "source": [
    "# Transformación de la variable respuesta.\n",
    "\n",
    "Proponemos log(y+1) como transformación posible, ya que la variable respuesta presenta ceros entre sus valores.\n"
   ]
  },
  {
   "cell_type": "code",
   "execution_count": 6,
   "metadata": {},
   "outputs": [
    {
     "data": {
      "image/png": "[encoded data removed]",
      "text/plain": [
       "<Figure size 432x288 with 1 Axes>"
      ]
     },
     "metadata": {
      "needs_background": "light"
     },
     "output_type": "display_data"
    },
    {
     "data": {
      "image/png": "[encoded data removed]",
      "text/plain": [
       "<Figure size 432x288 with 1 Axes>"
      ]
     },
     "metadata": {
      "needs_background": "light"
     },
     "output_type": "display_data"
    }
   ],
   "source": [
    "plt.plot(y.sort_values().values)\n",
    "plt.title('Target')\n",
    "plt.show()\n",
    "plt.plot(np.log(y+1).sort_values().values)\n",
    "plt.title('Log')\n",
    "plt.show()"
   ]
  },
  {
   "cell_type": "code",
   "execution_count": 66,
   "metadata": {
    "collapsed": true
   },
   "outputs": [],
   "source": [
    "y_log = np.log(y+1)"
   ]
  },
  {
   "cell_type": "markdown",
   "metadata": {},
   "source": [
    "# Variables Dummy"
   ]
  },
  {
   "cell_type": "code",
   "execution_count": 8,
   "metadata": {},
   "outputs": [
    {
     "data": {
      "text/html": [
       "<div>\n",
       "<style scoped>\n",
       "    .dataframe tbody tr th:only-of-type {\n",
       "        vertical-align: middle;\n",
       "    }\n",
       "\n",
       "    .dataframe tbody tr th {\n",
       "        vertical-align: top;\n",
       "    }\n",
       "\n",
       "    .dataframe thead th {\n",
       "        text-align: right;\n",
       "    }\n",
       "</style>\n",
       "<table border=\"1\" class=\"dataframe\">\n",
       "  <thead>\n",
       "    <tr style=\"text-align: right;\">\n",
       "      <th></th>\n",
       "      <th>PV_provincia_Almería</th>\n",
       "      <th>PV_provincia_Castellón</th>\n",
       "      <th>PV_provincia_Murcia</th>\n",
       "      <th>PV_provincia_Otros</th>\n",
       "      <th>PV_provincia_Valencia</th>\n",
       "      <th>PV_longitud_descripcion2_Ninguna</th>\n",
       "      <th>PV_longitud_descripcion2_Media</th>\n",
       "      <th>PV_longitud_descripcion2_Larga</th>\n",
       "      <th>PV_clase_piso_Medios</th>\n",
       "      <th>PV_clase_piso_Nuevos</th>\n",
       "      <th>PV_clase_piso_Viejos</th>\n",
       "      <th>PV_tipo_Garaje</th>\n",
       "      <th>PV_tipo_Otros</th>\n",
       "      <th>PV_tipo_Piso</th>\n",
       "      <th>PV_num_banos_0</th>\n",
       "      <th>PV_num_banos_1</th>\n",
       "      <th>PV_num_banos_+1</th>\n",
       "    </tr>\n",
       "  </thead>\n",
       "  <tbody>\n",
       "    <tr>\n",
       "      <th>0</th>\n",
       "      <td>0</td>\n",
       "      <td>0</td>\n",
       "      <td>0</td>\n",
       "      <td>1</td>\n",
       "      <td>0</td>\n",
       "      <td>0</td>\n",
       "      <td>1</td>\n",
       "      <td>0</td>\n",
       "      <td>0</td>\n",
       "      <td>1</td>\n",
       "      <td>0</td>\n",
       "      <td>1</td>\n",
       "      <td>0</td>\n",
       "      <td>0</td>\n",
       "      <td>1</td>\n",
       "      <td>0</td>\n",
       "      <td>0</td>\n",
       "    </tr>\n",
       "    <tr>\n",
       "      <th>1</th>\n",
       "      <td>0</td>\n",
       "      <td>0</td>\n",
       "      <td>0</td>\n",
       "      <td>1</td>\n",
       "      <td>0</td>\n",
       "      <td>1</td>\n",
       "      <td>0</td>\n",
       "      <td>0</td>\n",
       "      <td>0</td>\n",
       "      <td>1</td>\n",
       "      <td>0</td>\n",
       "      <td>0</td>\n",
       "      <td>1</td>\n",
       "      <td>0</td>\n",
       "      <td>0</td>\n",
       "      <td>0</td>\n",
       "      <td>1</td>\n",
       "    </tr>\n",
       "    <tr>\n",
       "      <th>2</th>\n",
       "      <td>0</td>\n",
       "      <td>0</td>\n",
       "      <td>0</td>\n",
       "      <td>1</td>\n",
       "      <td>0</td>\n",
       "      <td>0</td>\n",
       "      <td>1</td>\n",
       "      <td>0</td>\n",
       "      <td>0</td>\n",
       "      <td>1</td>\n",
       "      <td>0</td>\n",
       "      <td>0</td>\n",
       "      <td>0</td>\n",
       "      <td>1</td>\n",
       "      <td>0</td>\n",
       "      <td>1</td>\n",
       "      <td>0</td>\n",
       "    </tr>\n",
       "    <tr>\n",
       "      <th>3</th>\n",
       "      <td>0</td>\n",
       "      <td>0</td>\n",
       "      <td>1</td>\n",
       "      <td>0</td>\n",
       "      <td>0</td>\n",
       "      <td>0</td>\n",
       "      <td>1</td>\n",
       "      <td>0</td>\n",
       "      <td>0</td>\n",
       "      <td>1</td>\n",
       "      <td>0</td>\n",
       "      <td>1</td>\n",
       "      <td>0</td>\n",
       "      <td>0</td>\n",
       "      <td>1</td>\n",
       "      <td>0</td>\n",
       "      <td>0</td>\n",
       "    </tr>\n",
       "    <tr>\n",
       "      <th>4</th>\n",
       "      <td>0</td>\n",
       "      <td>0</td>\n",
       "      <td>1</td>\n",
       "      <td>0</td>\n",
       "      <td>0</td>\n",
       "      <td>0</td>\n",
       "      <td>1</td>\n",
       "      <td>0</td>\n",
       "      <td>0</td>\n",
       "      <td>1</td>\n",
       "      <td>0</td>\n",
       "      <td>1</td>\n",
       "      <td>0</td>\n",
       "      <td>0</td>\n",
       "      <td>1</td>\n",
       "      <td>0</td>\n",
       "      <td>0</td>\n",
       "    </tr>\n",
       "  </tbody>\n",
       "</table>\n",
       "</div>"
      ],
      "text/plain": [
       "   PV_provincia_Almería  PV_provincia_Castellón  PV_provincia_Murcia  \\\n",
       "0                     0                       0                    0   \n",
       "1                     0                       0                    0   \n",
       "2                     0                       0                    0   \n",
       "3                     0                       0                    1   \n",
       "4                     0                       0                    1   \n",
       "\n",
       "   PV_provincia_Otros  PV_provincia_Valencia  \\\n",
       "0                   1                      0   \n",
       "1                   1                      0   \n",
       "2                   1                      0   \n",
       "3                   0                      0   \n",
       "4                   0                      0   \n",
       "\n",
       "   PV_longitud_descripcion2_Ninguna  PV_longitud_descripcion2_Media  \\\n",
       "0                                 0                               1   \n",
       "1                                 1                               0   \n",
       "2                                 0                               1   \n",
       "3                                 0                               1   \n",
       "4                                 0                               1   \n",
       "\n",
       "   PV_longitud_descripcion2_Larga  PV_clase_piso_Medios  PV_clase_piso_Nuevos  \\\n",
       "0                               0                     0                     1   \n",
       "1                               0                     0                     1   \n",
       "2                               0                     0                     1   \n",
       "3                               0                     0                     1   \n",
       "4                               0                     0                     1   \n",
       "\n",
       "   PV_clase_piso_Viejos  PV_tipo_Garaje  PV_tipo_Otros  PV_tipo_Piso  \\\n",
       "0                     0               1              0             0   \n",
       "1                     0               0              1             0   \n",
       "2                     0               0              0             1   \n",
       "3                     0               1              0             0   \n",
       "4                     0               1              0             0   \n",
       "\n",
       "   PV_num_banos_0  PV_num_banos_1  PV_num_banos_+1  \n",
       "0               1               0                0  \n",
       "1               0               0                1  \n",
       "2               0               1                0  \n",
       "3               1               0                0  \n",
       "4               1               0                0  "
      ]
     },
     "execution_count": 8,
     "metadata": {},
     "output_type": "execute_result"
    }
   ],
   "source": [
    "dummy_vars = ['PV_provincia','PV_longitud_descripcion2',\n",
    "              'PV_clase_piso','PV_tipo','PV_num_banos']\n",
    "\n",
    "pd.get_dummies(X[dummy_vars]).head()"
   ]
  },
  {
   "cell_type": "code",
   "execution_count": 67,
   "metadata": {
    "collapsed": true
   },
   "outputs": [],
   "source": [
    "######## Tiene un Nan ######\n",
    "#v = X.PV_precio_metro.isnull() == False\n",
    "#y = y[v]\n",
    "#y_log = y_log[v]\n",
    "#X = X[v]\n",
    "# Unimos nuestro conjunto con el de dummies\n",
    "X = X.join(pd.get_dummies(X[dummy_vars]))\n",
    "\n",
    "# Eliminamos las variables que ya n necesitamos\n",
    "X = X.drop(dummy_vars, axis=1)"
   ]
  },
  {
   "cell_type": "code",
   "execution_count": 10,
   "metadata": {},
   "outputs": [
    {
     "data": {
      "text/html": [
       "<div>\n",
       "<style scoped>\n",
       "    .dataframe tbody tr th:only-of-type {\n",
       "        vertical-align: middle;\n",
       "    }\n",
       "\n",
       "    .dataframe tbody tr th {\n",
       "        vertical-align: top;\n",
       "    }\n",
       "\n",
       "    .dataframe thead th {\n",
       "        text-align: right;\n",
       "    }\n",
       "</style>\n",
       "<table border=\"1\" class=\"dataframe\">\n",
       "  <thead>\n",
       "    <tr style=\"text-align: right;\">\n",
       "      <th></th>\n",
       "      <th>HY_metros_utiles</th>\n",
       "      <th>HY_metros_totales</th>\n",
       "      <th>HY_num_terrazas</th>\n",
       "      <th>HY_ascensor</th>\n",
       "      <th>HY_trastero</th>\n",
       "      <th>HY_precio</th>\n",
       "      <th>HY_precio_anterior</th>\n",
       "      <th>IDEA_pc_1960</th>\n",
       "      <th>IDEA_pc_1960_69</th>\n",
       "      <th>IDEA_pc_1970_79</th>\n",
       "      <th>...</th>\n",
       "      <th>PV_longitud_descripcion2_Larga</th>\n",
       "      <th>PV_clase_piso_Medios</th>\n",
       "      <th>PV_clase_piso_Nuevos</th>\n",
       "      <th>PV_clase_piso_Viejos</th>\n",
       "      <th>PV_tipo_Garaje</th>\n",
       "      <th>PV_tipo_Otros</th>\n",
       "      <th>PV_tipo_Piso</th>\n",
       "      <th>PV_num_banos_0</th>\n",
       "      <th>PV_num_banos_1</th>\n",
       "      <th>PV_num_banos_+1</th>\n",
       "    </tr>\n",
       "  </thead>\n",
       "  <tbody>\n",
       "    <tr>\n",
       "      <th>0</th>\n",
       "      <td>35.00</td>\n",
       "      <td>35.00</td>\n",
       "      <td>0</td>\n",
       "      <td>0</td>\n",
       "      <td>0</td>\n",
       "      <td>12300.0</td>\n",
       "      <td>12300.0</td>\n",
       "      <td>0.00</td>\n",
       "      <td>0.00</td>\n",
       "      <td>0.00</td>\n",
       "      <td>...</td>\n",
       "      <td>0</td>\n",
       "      <td>0</td>\n",
       "      <td>1</td>\n",
       "      <td>0</td>\n",
       "      <td>1</td>\n",
       "      <td>0</td>\n",
       "      <td>0</td>\n",
       "      <td>1</td>\n",
       "      <td>0</td>\n",
       "      <td>0</td>\n",
       "    </tr>\n",
       "    <tr>\n",
       "      <th>1</th>\n",
       "      <td>151.98</td>\n",
       "      <td>151.98</td>\n",
       "      <td>0</td>\n",
       "      <td>0</td>\n",
       "      <td>0</td>\n",
       "      <td>115000.0</td>\n",
       "      <td>125000.0</td>\n",
       "      <td>0.12</td>\n",
       "      <td>0.12</td>\n",
       "      <td>0.18</td>\n",
       "      <td>...</td>\n",
       "      <td>0</td>\n",
       "      <td>0</td>\n",
       "      <td>1</td>\n",
       "      <td>0</td>\n",
       "      <td>0</td>\n",
       "      <td>1</td>\n",
       "      <td>0</td>\n",
       "      <td>0</td>\n",
       "      <td>0</td>\n",
       "      <td>1</td>\n",
       "    </tr>\n",
       "    <tr>\n",
       "      <th>2</th>\n",
       "      <td>92.58</td>\n",
       "      <td>102.78</td>\n",
       "      <td>0</td>\n",
       "      <td>1</td>\n",
       "      <td>0</td>\n",
       "      <td>88000.0</td>\n",
       "      <td>93500.0</td>\n",
       "      <td>0.15</td>\n",
       "      <td>0.15</td>\n",
       "      <td>0.12</td>\n",
       "      <td>...</td>\n",
       "      <td>0</td>\n",
       "      <td>0</td>\n",
       "      <td>1</td>\n",
       "      <td>0</td>\n",
       "      <td>0</td>\n",
       "      <td>0</td>\n",
       "      <td>1</td>\n",
       "      <td>0</td>\n",
       "      <td>1</td>\n",
       "      <td>0</td>\n",
       "    </tr>\n",
       "    <tr>\n",
       "      <th>3</th>\n",
       "      <td>11.81</td>\n",
       "      <td>12.46</td>\n",
       "      <td>0</td>\n",
       "      <td>1</td>\n",
       "      <td>0</td>\n",
       "      <td>5800.0</td>\n",
       "      <td>5800.0</td>\n",
       "      <td>0.07</td>\n",
       "      <td>0.07</td>\n",
       "      <td>0.04</td>\n",
       "      <td>...</td>\n",
       "      <td>0</td>\n",
       "      <td>0</td>\n",
       "      <td>1</td>\n",
       "      <td>0</td>\n",
       "      <td>1</td>\n",
       "      <td>0</td>\n",
       "      <td>0</td>\n",
       "      <td>1</td>\n",
       "      <td>0</td>\n",
       "      <td>0</td>\n",
       "    </tr>\n",
       "    <tr>\n",
       "      <th>4</th>\n",
       "      <td>14.29</td>\n",
       "      <td>15.43</td>\n",
       "      <td>0</td>\n",
       "      <td>1</td>\n",
       "      <td>0</td>\n",
       "      <td>7400.0</td>\n",
       "      <td>7400.0</td>\n",
       "      <td>0.07</td>\n",
       "      <td>0.07</td>\n",
       "      <td>0.04</td>\n",
       "      <td>...</td>\n",
       "      <td>0</td>\n",
       "      <td>0</td>\n",
       "      <td>1</td>\n",
       "      <td>0</td>\n",
       "      <td>1</td>\n",
       "      <td>0</td>\n",
       "      <td>0</td>\n",
       "      <td>1</td>\n",
       "      <td>0</td>\n",
       "      <td>0</td>\n",
       "    </tr>\n",
       "  </tbody>\n",
       "</table>\n",
       "<p>5 rows × 62 columns</p>\n",
       "</div>"
      ],
      "text/plain": [
       "   HY_metros_utiles  HY_metros_totales  HY_num_terrazas  HY_ascensor  \\\n",
       "0             35.00              35.00                0            0   \n",
       "1            151.98             151.98                0            0   \n",
       "2             92.58             102.78                0            1   \n",
       "3             11.81              12.46                0            1   \n",
       "4             14.29              15.43                0            1   \n",
       "\n",
       "   HY_trastero  HY_precio  HY_precio_anterior  IDEA_pc_1960  IDEA_pc_1960_69  \\\n",
       "0            0    12300.0             12300.0          0.00             0.00   \n",
       "1            0   115000.0            125000.0          0.12             0.12   \n",
       "2            0    88000.0             93500.0          0.15             0.15   \n",
       "3            0     5800.0              5800.0          0.07             0.07   \n",
       "4            0     7400.0              7400.0          0.07             0.07   \n",
       "\n",
       "   IDEA_pc_1970_79       ...         PV_longitud_descripcion2_Larga  \\\n",
       "0             0.00       ...                                      0   \n",
       "1             0.18       ...                                      0   \n",
       "2             0.12       ...                                      0   \n",
       "3             0.04       ...                                      0   \n",
       "4             0.04       ...                                      0   \n",
       "\n",
       "   PV_clase_piso_Medios  PV_clase_piso_Nuevos  PV_clase_piso_Viejos  \\\n",
       "0                     0                     1                     0   \n",
       "1                     0                     1                     0   \n",
       "2                     0                     1                     0   \n",
       "3                     0                     1                     0   \n",
       "4                     0                     1                     0   \n",
       "\n",
       "   PV_tipo_Garaje  PV_tipo_Otros  PV_tipo_Piso  PV_num_banos_0  \\\n",
       "0               1              0             0               1   \n",
       "1               0              1             0               0   \n",
       "2               0              0             1               0   \n",
       "3               1              0             0               1   \n",
       "4               1              0             0               1   \n",
       "\n",
       "   PV_num_banos_1  PV_num_banos_+1  \n",
       "0               0                0  \n",
       "1               0                1  \n",
       "2               1                0  \n",
       "3               0                0  \n",
       "4               0                0  \n",
       "\n",
       "[5 rows x 62 columns]"
      ]
     },
     "execution_count": 10,
     "metadata": {},
     "output_type": "execute_result"
    }
   ],
   "source": [
    "X.head()"
   ]
  },
  {
   "cell_type": "markdown",
   "metadata": {},
   "source": [
    "# Modelos"
   ]
  },
  {
   "cell_type": "code",
   "execution_count": 11,
   "metadata": {
    "collapsed": true
   },
   "outputs": [],
   "source": [
    "from sklearn.model_selection import train_test_split\n",
    "\n",
    "X_train, X_test, y_train, y_test, y_log_train, y_log_test = train_test_split(X, y, y_log, test_size=0.3, random_state=7)"
   ]
  },
  {
   "cell_type": "code",
   "execution_count": 15,
   "metadata": {
    "collapsed": true
   },
   "outputs": [],
   "source": [
    "from sklearn import linear_model\n",
    "from sklearn.linear_model import LogisticRegression\n",
    "from sklearn import svm\n",
    "from sklearn import neighbors\n",
    "from sklearn import tree\n",
    "from sklearn.ensemble import RandomForestRegressor\n",
    "from sklearn.ensemble import ExtraTreesRegressor\n",
    "from sklearn.ensemble import GradientBoostingRegressor\n",
    "\n",
    "# Métrica\n",
    "from sklearn.metrics import median_absolute_error"
   ]
  },
  {
   "cell_type": "code",
   "execution_count": 13,
   "metadata": {
    "collapsed": true
   },
   "outputs": [],
   "source": [
    "models = {\n",
    "    'SVR':svm.SVR(),\n",
    "    'KNeighborsRegressor5':neighbors.KNeighborsRegressor(5, weights='uniform'),# Admite 'distance'\n",
    "    'KNeighborsRegressor10':neighbors.KNeighborsRegressor(10, weights='uniform'),\n",
    "    'KNeighborsRegressor15':neighbors.KNeighborsRegressor(15, weights='uniform'),\n",
    "    'KNeighborsRegressor25':neighbors.KNeighborsRegressor(25, weights='uniform'),\n",
    "    'KNeighborsRegressor15dist':neighbors.KNeighborsRegressor(15, weights='distance'),\n",
    "    'DecisionTreeRegressor5':tree.DecisionTreeRegressor(max_depth = 5),\n",
    "    'DecisionTreeRegressor10':tree.DecisionTreeRegressor(max_depth = 10),\n",
    "    'DecisionTreeRegressor10':tree.DecisionTreeRegressor(max_depth = 20),\n",
    "    'RandomForestRegressor20':RandomForestRegressor(max_depth=5, n_estimators = 20, random_state=0),\n",
    "    'RandomForestRegressor40':RandomForestRegressor(max_depth=3, n_estimators = 40, random_state=0),\n",
    "    'RandomForestRegressor50':RandomForestRegressor(max_depth=10, n_estimators = 50, random_state=0),\n",
    "    'RandomForestRegressor100':RandomForestRegressor(max_depth=10, n_estimators = 100, random_state=0),\n",
    "    'RandomForestRegressor150':RandomForestRegressor(max_depth=10, n_estimators = 150, random_state=0),\n",
    "    'ExtraTreesRegressor10':ExtraTreesRegressor(n_estimators=10,random_state=0),\n",
    "    'ExtraTreesRegressor50':ExtraTreesRegressor(n_estimators=50,random_state=0),\n",
    "    'ExtraTreesRegressor100':ExtraTreesRegressor(n_estimators=100, random_state=0),\n",
    "    'ExtraTreesRegressor150':ExtraTreesRegressor(n_estimators=150, random_state=0),\n",
    "    'GradientBoostingRegressor30':GradientBoostingRegressor(n_estimators=30, learning_rate=0.1, max_depth=1, random_state=0, loss='ls'),\n",
    "    'GradientBoostingRegressor50':GradientBoostingRegressor(n_estimators=50, learning_rate=0.1, max_depth=1, random_state=0, loss='ls'),\n",
    "    'GradientBoostingRegressor100':GradientBoostingRegressor(n_estimators=100, learning_rate=0.1, max_depth=1, random_state=0, loss='ls')\n",
    "    }"
   ]
  },
  {
   "cell_type": "code",
   "execution_count": 15,
   "metadata": {},
   "outputs": [
    {
     "name": "stdout",
     "output_type": "stream",
     "text": [
      "SVR: 30.28 ||| 27.84068449342901\n",
      "KNeighborsRegressor5: 31.929999999999996 ||| 25.90990236563771\n",
      "KNeighborsRegressor10: 32.017500000000005 ||| 24.88743670999665\n",
      "KNeighborsRegressor15: 32.265666666666675 ||| 23.12546016584411\n",
      "KNeighborsRegressor25: 32.7268 ||| 23.674247260703343\n",
      "KNeighborsRegressor15dist: 29.291128784289345 ||| 24.003123452238555\n",
      "DecisionTreeRegressor5: 31.76258139534887 ||| 20.938027316459333\n",
      "DecisionTreeRegressor10: 26.5625 ||| 28.181721361737495\n",
      "RandomForestRegressor20: 32.35689482073033 ||| 20.459855019380853\n",
      "RandomForestRegressor40: 33.843001776221655 ||| 21.12779728411983\n",
      "RandomForestRegressor50: 30.614654457675535 ||| 19.87602883357131\n",
      "RandomForestRegressor100: 30.38811180792194 ||| 19.84937669768137\n",
      "RandomForestRegressor150: 30.431158096293522 ||| 19.83523647016101\n",
      "ExtraTreesRegressor10: 27.006000000000004 ||| 20.720071752482426\n",
      "ExtraTreesRegressor50: 27.39500000000001 ||| 19.789429446331955\n",
      "ExtraTreesRegressor100: 27.826500000000003 ||| 20.195589061925233\n",
      "ExtraTreesRegressor150: 27.54945000000001 ||| 19.951169031491382\n",
      "GradientBoostingRegressor30: 34.264641003883355 ||| 21.674448161899747\n",
      "GradientBoostingRegressor50: 33.91443809305172 ||| 21.29105038735318\n",
      "GradientBoostingRegressor100: 33.247466239039404 ||| 20.727876722777864\n"
     ]
    }
   ],
   "source": [
    "from sklearn.metrics import median_absolute_error\n",
    "y_test_predict = {}\n",
    "y_log_test_predict = {}\n",
    "errores = {}\n",
    "errores_log = {}\n",
    "importances = {}\n",
    "for name, model in models.items():\n",
    "    #try:\n",
    "    model = model.fit(X_train, y_train)\n",
    "    y_test_predict[name] = model.predict(X_test)\n",
    "    errores[name] = median_absolute_error(y_test, y_test_predict[name])\n",
    "    \n",
    "    model_log = model.fit(X_train, y_log_train)\n",
    "    y_log_test_predict[name] = model_log.predict(X_test)\n",
    "    errores_log[name] = median_absolute_error(np.exp(y_log_test)-1, np.exp(y_log_test_predict[name])-1)\n",
    "    \n",
    "    print(name,': ', errores[name], ' ||| ', errores_log[name], sep = '')\n",
    "    #except:\n",
    "        #print('Error con '+name)"
   ]
  },
  {
   "cell_type": "markdown",
   "metadata": {},
   "source": [
    "Por lo que evidentemente tenemos una mejor precisión tras realizar la transformación del logaritmo"
   ]
  },
  {
   "cell_type": "code",
   "execution_count": 13,
   "metadata": {
    "collapsed": true
   },
   "outputs": [],
   "source": [
    "models = {\n",
    "    'SVR':svm.SVR(),\n",
    "    'KNeighborsRegressor5':neighbors.KNeighborsRegressor(5, weights='uniform'),# Admite 'distance'\n",
    "    'KNeighborsRegressor10':neighbors.KNeighborsRegressor(10, weights='uniform'),\n",
    "    'KNeighborsRegressor15':neighbors.KNeighborsRegressor(15, weights='uniform'),\n",
    "    'KNeighborsRegressor25':neighbors.KNeighborsRegressor(25, weights='uniform'),\n",
    "    'KNeighborsRegressor15dist':neighbors.KNeighborsRegressor(15, weights='distance'),\n",
    "    'DecisionTreeRegressor5':tree.DecisionTreeRegressor(max_depth = 5),\n",
    "    'DecisionTreeRegressor10':tree.DecisionTreeRegressor(max_depth = 10),\n",
    "    'DecisionTreeRegressor10':tree.DecisionTreeRegressor(max_depth = 20),\n",
    "    'RandomForestRegressor20':RandomForestRegressor(max_depth=5, n_estimators = 20, random_state=0),\n",
    "    'RandomForestRegressor40':RandomForestRegressor(max_depth=3, n_estimators = 40, random_state=0),\n",
    "    'RandomForestRegressor50':RandomForestRegressor(max_depth=10, n_estimators = 50, random_state=0),\n",
    "    'RandomForestRegressor100':RandomForestRegressor(max_depth=10, n_estimators = 100, random_state=0),\n",
    "    'RandomForestRegressor150':RandomForestRegressor(max_depth=10, n_estimators = 150, random_state=0),\n",
    "    'ExtraTreesRegressor10':ExtraTreesRegressor(n_estimators=10,random_state=0),\n",
    "    'ExtraTreesRegressor50':ExtraTreesRegressor(n_estimators=50,random_state=0),\n",
    "    'ExtraTreesRegressor100':ExtraTreesRegressor(n_estimators=100, random_state=0),\n",
    "    'ExtraTreesRegressor150':ExtraTreesRegressor(n_estimators=150, random_state=0),\n",
    "    'GradientBoostingRegressor30':GradientBoostingRegressor(n_estimators=30, learning_rate=0.1, max_depth=1, random_state=0, loss='ls'),\n",
    "    'GradientBoostingRegressor50':GradientBoostingRegressor(n_estimators=50, learning_rate=0.1, max_depth=1, random_state=0, loss='ls'),\n",
    "    'GradientBoostingRegressor100':GradientBoostingRegressor(n_estimators=100, learning_rate=0.1, max_depth=1, random_state=0, loss='ls')\n",
    "    }\n",
    "\n",
    "def EntrenarModelos(X, y, models):\n",
    "    X_train, X_test, y_train, y_test = train_test_split(X, y, test_size=0.3, random_state=7)\n",
    "    \n",
    "    y_test_predict = {}\n",
    "    errores = {}\n",
    "    \n",
    "    for name, model in models.items():\n",
    "        #try:\n",
    "        model = model.fit(X_train, y_train)\n",
    "        y_test_predict[name] = model.predict(X_test)\n",
    "        errores[name] = median_absolute_error(np.exp(y_test)-1, np.exp(y_test_predict[name])-1)\n",
    "        \n",
    "        print(name,': ', errores[name], sep = '')"
   ]
  },
  {
   "cell_type": "markdown",
   "metadata": {},
   "source": [
    "# Eliminando outliers de la variable respuesta"
   ]
  },
  {
   "cell_type": "code",
   "execution_count": 18,
   "metadata": {},
   "outputs": [
    {
     "data": {
      "text/plain": [
       "8339    1396.0\n",
       "8913    1605.0\n",
       "5850    1333.0\n",
       "Name: TARGET, dtype: float64"
      ]
     },
     "execution_count": 18,
     "metadata": {},
     "output_type": "execute_result"
    }
   ],
   "source": [
    "cota = y_log_train.mean()+3*y_log_train.std()\n",
    "np.exp(y_log_train[y_log_train>cota])"
   ]
  },
  {
   "cell_type": "code",
   "execution_count": 20,
   "metadata": {},
   "outputs": [
    {
     "data": {
      "text/plain": [
       "102"
      ]
     },
     "execution_count": 20,
     "metadata": {},
     "output_type": "execute_result"
    }
   ],
   "source": [
    "cota = y_train.mean()+3*y_train.std()\n",
    "np.sum(y_train>cota)"
   ]
  },
  {
   "cell_type": "code",
   "execution_count": 21,
   "metadata": {},
   "outputs": [
    {
     "data": {
      "text/plain": [
       "62"
      ]
     },
     "execution_count": 21,
     "metadata": {},
     "output_type": "execute_result"
    }
   ],
   "source": [
    "np.sum(y_test>cota)"
   ]
  },
  {
   "cell_type": "code",
   "execution_count": 22,
   "metadata": {},
   "outputs": [
    {
     "data": {
      "text/plain": [
       "1770.0"
      ]
     },
     "execution_count": 22,
     "metadata": {},
     "output_type": "execute_result"
    }
   ],
   "source": [
    "y_test.max()"
   ]
  },
  {
   "cell_type": "code",
   "execution_count": 31,
   "metadata": {},
   "outputs": [
    {
     "name": "stdout",
     "output_type": "stream",
     "text": [
      "5 outliers serán eliminados\n",
      "SVR: 28.27952482677657\n",
      "KNeighborsRegressor5: 27.322195571663272\n",
      "KNeighborsRegressor10: 25.591982917180765\n",
      "KNeighborsRegressor15: 24.99801999546895\n",
      "KNeighborsRegressor25: 24.803915988201002\n",
      "KNeighborsRegressor15dist: 25.22123444386213\n",
      "DecisionTreeRegressor5: 20.63452407989235\n",
      "DecisionTreeRegressor10: 27.50499999999999\n",
      "RandomForestRegressor20: 20.651704032982934\n",
      "RandomForestRegressor40: 21.522707019795817\n",
      "RandomForestRegressor50: 19.87316470311766\n",
      "RandomForestRegressor100: 20.00183463729004\n",
      "RandomForestRegressor150: 19.951471028724516\n",
      "ExtraTreesRegressor10: 21.22555738027949\n",
      "ExtraTreesRegressor50: 19.915335107421335\n",
      "ExtraTreesRegressor100: 20.2099538242747\n",
      "ExtraTreesRegressor150: 20.300319526641886\n",
      "GradientBoostingRegressor30: 22.33570508056432\n",
      "GradientBoostingRegressor50: 21.794285053700307\n",
      "GradientBoostingRegressor100: 21.192769020497117\n"
     ]
    }
   ],
   "source": [
    "cota = y_log.mean()+3*y_log.std()\n",
    "print('{} outliers serán eliminados'.format(np.sum(y_log>cota)))\n",
    "EntrenarModelos(X[y_log<=cota],y_log[y_log<=cota], models)"
   ]
  },
  {
   "cell_type": "code",
   "execution_count": 32,
   "metadata": {},
   "outputs": [
    {
     "name": "stdout",
     "output_type": "stream",
     "text": [
      "147 outliers serán eliminados\n",
      "SVR: 27.313791824043037\n",
      "KNeighborsRegressor5: 24.334654105899737\n",
      "KNeighborsRegressor10: 23.695434197190412\n",
      "KNeighborsRegressor15: 23.330681366017316\n",
      "KNeighborsRegressor25: 23.689491648322715\n",
      "KNeighborsRegressor15dist: 23.005390122207313\n",
      "DecisionTreeRegressor5: 19.263344031414782\n",
      "DecisionTreeRegressor10: 24.30075554773891\n",
      "RandomForestRegressor20: 19.010427634175024\n",
      "RandomForestRegressor40: 19.778709490321845\n",
      "RandomForestRegressor50: 18.19303093908769\n",
      "RandomForestRegressor100: 18.046376437300744\n",
      "RandomForestRegressor150: 18.140253964960266\n",
      "ExtraTreesRegressor10: 19.58601402949884\n",
      "ExtraTreesRegressor50: 18.937296413257556\n",
      "ExtraTreesRegressor100: 18.781256777708933\n",
      "ExtraTreesRegressor150: 18.44916370867773\n",
      "GradientBoostingRegressor30: 20.74513070164841\n",
      "GradientBoostingRegressor50: 20.112123549947857\n",
      "GradientBoostingRegressor100: 19.71277806910018\n"
     ]
    }
   ],
   "source": [
    "cota = y.mean()+3*y.std()\n",
    "print('{} outliers serán eliminados'.format(np.sum(y>cota)))\n",
    "EntrenarModelos(X[y<=cota],y_log[y<=cota], models)"
   ]
  },
  {
   "cell_type": "markdown",
   "metadata": {},
   "source": [
    "# XGBoost"
   ]
  },
  {
   "cell_type": "code",
   "execution_count": 17,
   "metadata": {},
   "outputs": [
    {
     "name": "stdout",
     "output_type": "stream",
     "text": [
      "147 outliers serán eliminados\n",
      "XGB50: 17.748072280883804\n",
      "XGB100: 18.505607299804677\n",
      "XGB150: 18.71764083862303\n",
      "XGB_lambda: 18.504156150817867\n"
     ]
    }
   ],
   "source": [
    "import xgboost as xgb\n",
    "from xgboost.sklearn import XGBRegressor\n",
    "\n",
    "model = {'XGB50':XGBRegressor(max_depth = 10, n_estimators= 50, random_state=7),\n",
    "        'XGB100':XGBRegressor(max_depth = 10, n_estimators= 100, random_state=7),\n",
    "        'XGB150':XGBRegressor(max_depth = 10, n_estimators= 150, random_state=7),\n",
    "        'XGB_lambda':XGBRegressor(max_depth = 10, n_estimators= 150, random_state=7, reg_lambda=0.9)}\n",
    "\n",
    "cota = y.mean()+3*y.std()\n",
    "print('{} outliers serán eliminados'.format(np.sum(y>cota)))\n",
    "EntrenarModelos(X[y<=cota],y_log[y<=cota], model)"
   ]
  },
  {
   "cell_type": "code",
   "execution_count": 19,
   "metadata": {},
   "outputs": [
    {
     "name": "stdout",
     "output_type": "stream",
     "text": [
      "147 outliers serán eliminados\n",
      "XGB_10: 40.24867446899414\n",
      "XGB_20: 21.41231891632081\n",
      "XGB_30: 17.99929534912111\n",
      "XGB_40: 17.722598953247072\n",
      "XGB_50: 17.748072280883804\n",
      "XGB_60: 18.21484733581542\n",
      "XGB_70: 18.28358825683594\n",
      "XGB_80: 18.362930374145506\n",
      "XGB_90: 18.364181823730465\n"
     ]
    }
   ],
   "source": [
    "# Entrenamos varios XGBoost\n",
    "models = {}\n",
    "for i in range(10,100, 10):\n",
    "    models['XGB_{}'.format(i)] = XGBRegressor(max_depth = 10, n_estimators= i, random_state=7)\n",
    "#print('Models:', models)\n",
    "\n",
    "cota = y.mean()+3*y.std()\n",
    "print('{} outliers serán eliminados'.format(np.sum(y>cota)))\n",
    "EntrenarModelos(X[y<=cota],y_log[y<=cota], models)"
   ]
  },
  {
   "cell_type": "code",
   "execution_count": 20,
   "metadata": {},
   "outputs": [
    {
     "name": "stdout",
     "output_type": "stream",
     "text": [
      "147 outliers serán eliminados\n",
      "XGB_20: 21.41231891632081\n",
      "XGB_25: 18.948085250854497\n",
      "XGB_30: 17.99929534912111\n",
      "XGB_35: 17.85314559936524\n",
      "XGB_40: 17.722598953247072\n",
      "XGB_45: 17.704650421142574\n",
      "XGB_50: 17.748072280883804\n",
      "XGB_55: 18.2246732711792\n",
      "XGB_60: 18.21484733581542\n"
     ]
    }
   ],
   "source": [
    "# Entrenamos varios XGBoost\n",
    "models = {}\n",
    "for i in range(20,65, 5):\n",
    "    models['XGB_{}'.format(i)] = XGBRegressor(max_depth = 10, n_estimators= i, random_state=7)\n",
    "#print('Models:', models)\n",
    "\n",
    "cota = y.mean()+3*y.std()\n",
    "print('{} outliers serán eliminados'.format(np.sum(y>cota)))\n",
    "EntrenarModelos(X[y<=cota],y_log[y<=cota], models)"
   ]
  },
  {
   "cell_type": "code",
   "execution_count": 21,
   "metadata": {},
   "outputs": [
    {
     "name": "stdout",
     "output_type": "stream",
     "text": [
      "147 outliers serán eliminados\n",
      "XGB_30: 17.99929534912111\n",
      "XGB_32: 17.657295265197753\n",
      "XGB_34: 17.840322494506832\n",
      "XGB_36: 17.743897705078137\n",
      "XGB_38: 17.698133468627933\n",
      "XGB_40: 17.722598953247072\n",
      "XGB_42: 17.587086029052706\n",
      "XGB_44: 17.759080123901366\n",
      "XGB_46: 17.50161647796631\n",
      "XGB_48: 17.767679443359366\n",
      "XGB_50: 17.748072280883804\n",
      "XGB_52: 17.824757232666002\n",
      "XGB_54: 18.104386062622062\n"
     ]
    }
   ],
   "source": [
    "# Entrenamos varios XGBoost\n",
    "models = {}\n",
    "for i in range(30,55, 2):\n",
    "    models['XGB_{}'.format(i)] = XGBRegressor(max_depth = 10, n_estimators= i, random_state=7)\n",
    "#print('Models:', models)\n",
    "\n",
    "cota = y.mean()+3*y.std()\n",
    "print('{} outliers serán eliminados'.format(np.sum(y>cota)))\n",
    "EntrenarModelos(X[y<=cota],y_log[y<=cota], models)"
   ]
  },
  {
   "cell_type": "code",
   "execution_count": 22,
   "metadata": {},
   "outputs": [
    {
     "name": "stdout",
     "output_type": "stream",
     "text": [
      "147 outliers serán eliminados\n",
      "XGB_30: 17.99929534912111\n",
      "XGB_31: 17.858248748779296\n",
      "XGB_32: 17.657295265197753\n",
      "XGB_33: 17.78284671783446\n",
      "XGB_34: 17.840322494506832\n",
      "XGB_35: 17.85314559936524\n",
      "XGB_36: 17.743897705078137\n",
      "XGB_37: 17.715836410522453\n",
      "XGB_38: 17.698133468627933\n",
      "XGB_39: 17.74742202758789\n",
      "XGB_40: 17.722598953247072\n",
      "XGB_41: 17.628169784545896\n",
      "XGB_42: 17.587086029052706\n",
      "XGB_43: 17.602094116210928\n",
      "XGB_44: 17.759080123901366\n",
      "XGB_45: 17.704650421142574\n",
      "XGB_46: 17.50161647796631\n",
      "XGB_47: 17.65002944946289\n",
      "XGB_48: 17.767679443359366\n",
      "XGB_49: 17.749590225219738\n",
      "XGB_50: 17.748072280883804\n",
      "XGB_51: 17.79204822540283\n",
      "XGB_52: 17.824757232666002\n",
      "XGB_53: 17.940932159423824\n",
      "XGB_54: 18.104386062622062\n"
     ]
    }
   ],
   "source": [
    "# Entrenamos varios XGBoost\n",
    "models = {}\n",
    "for i in range(30,55, 1):\n",
    "    models['XGB_{}'.format(i)] = XGBRegressor(max_depth = 10, n_estimators= i, random_state=7)\n",
    "#print('Models:', models)\n",
    "\n",
    "cota = y.mean()+3*y.std()\n",
    "print('{} outliers serán eliminados'.format(np.sum(y>cota)))\n",
    "EntrenarModelos(X[y<=cota],y_log[y<=cota], models)"
   ]
  },
  {
   "cell_type": "markdown",
   "metadata": {},
   "source": [
    "Por lo que tenemos que el modelo que mayor acierto tiene es el XGB con 46 árboles. Pero para asegurarnos, vamos a utilizar KFolds"
   ]
  },
  {
   "cell_type": "markdown",
   "metadata": {},
   "source": [
    "### KFolds and XGBoost\n",
    "\n",
    "Primero, hemos demostrado que obtenemos unos mejores resultados eliminando los Outliers, por lo que vamos a proceder a eliminarlos definitivamente"
   ]
  },
  {
   "cell_type": "code",
   "execution_count": 68,
   "metadata": {},
   "outputs": [
    {
     "name": "stdout",
     "output_type": "stream",
     "text": [
      "147 outliers serán eliminados\n"
     ]
    }
   ],
   "source": [
    "cota = y.mean()+3*y.std()\n",
    "print('{} outliers serán eliminados'.format(np.sum(y>cota)))\n",
    "\n",
    "# Nota: El reset index es para uniformidad del índice, ya que se salta los valores que eliminamos \n",
    "#       (Y con drop = True no crea una nueva columna llamada \"index\")\n",
    "X = X[y<=cota].reset_index(drop = True)\n",
    "y_log = y_log[y<=cota].reset_index(drop = True)\n",
    "y = y[y<=cota].reset_index(drop = True)"
   ]
  },
  {
   "cell_type": "markdown",
   "metadata": {},
   "source": [
    "Y ahora procedemos a realizar un GridSearch con XGBoost para XGBoost"
   ]
  },
  {
   "cell_type": "code",
   "execution_count": 23,
   "metadata": {
    "collapsed": true
   },
   "outputs": [],
   "source": [
    "from sklearn.model_selection import GridSearchCV, cross_val_score, KFold"
   ]
  },
  {
   "cell_type": "code",
   "execution_count": 24,
   "metadata": {},
   "outputs": [
    {
     "name": "stdout",
     "output_type": "stream",
     "text": [
      "147 outliers serán eliminados\n"
     ]
    },
    {
     "data": {
      "text/plain": [
       "GridSearchCV(cv=KFold(n_splits=5, random_state=7, shuffle=True),\n",
       "       error_score='raise-deprecating',\n",
       "       estimator=XGBRegressor(base_score=0.5, booster='gbtree', colsample_bylevel=1,\n",
       "       colsample_bytree=1, gamma=0, learning_rate=0.1, max_delta_step=0,\n",
       "       max_depth=10, min_child_weight=1, missing=None, n_estimators=100,\n",
       "       n_jobs=1, nthread=None, objective='reg:linear', random_state=7,\n",
       "       reg_alpha=0, reg_lambda=1, scale_pos_weight=1, seed=None,\n",
       "       silent=True, subsample=1),\n",
       "       fit_params=None, iid='warn', n_jobs=None,\n",
       "       param_grid={'n_estimators': array([ 20,  40,  60,  80, 100, 120, 140]), 'reg_lambda': array([0.5, 0.6, 0.7, 0.8, 0.9, 1. , 1.1])},\n",
       "       pre_dispatch='2*n_jobs', refit=True, return_train_score='warn',\n",
       "       scoring=None, verbose=0)"
      ]
     },
     "execution_count": 24,
     "metadata": {},
     "output_type": "execute_result"
    }
   ],
   "source": [
    "p_grid = {\"n_estimators\": np.arange(20,175,25),\n",
    "          \"reg_lambda\": np.arange(0.5,1.1,0.1)} # REcordemos que el último valor no entra dentro del range de np\n",
    "\n",
    "inner_cv = KFold(n_splits=5, shuffle=True, random_state=7)\n",
    "xgb_model = XGBRegressor(max_depth = 10, random_state=7)\n",
    "\n",
    "xgb_kv = GridSearchCV(estimator=xgb_model, param_grid=p_grid, cv=inner_cv)\n",
    "\n",
    "cota = y.mean()+3*y.std()\n",
    "print('{} outliers serán eliminados'.format(np.sum(y>cota)))\n",
    "\n",
    "X_train, X_test, y_log_train, y_log_test = train_test_split(X, y_log, test_size=0.3, random_state=7)\n",
    "xgb_kv.fit(X_train,y_log_train)"
   ]
  },
  {
   "cell_type": "code",
   "execution_count": 29,
   "metadata": {},
   "outputs": [
    {
     "data": {
      "text/plain": [
       "{'n_estimators': 40, 'reg_lambda': 1.0999999999999999}"
      ]
     },
     "execution_count": 29,
     "metadata": {},
     "output_type": "execute_result"
    }
   ],
   "source": [
    "xgb_kv.best_params_"
   ]
  },
  {
   "cell_type": "code",
   "execution_count": 30,
   "metadata": {
    "collapsed": true
   },
   "outputs": [],
   "source": [
    "X_train, X_test, y_log_train, y_log_test = train_test_split(X, y_log, test_size=0.3, random_state=7)"
   ]
  },
  {
   "cell_type": "code",
   "execution_count": 33,
   "metadata": {},
   "outputs": [
    {
     "data": {
      "text/plain": [
       "18.862736282348635"
      ]
     },
     "execution_count": 33,
     "metadata": {},
     "output_type": "execute_result"
    }
   ],
   "source": [
    "best_model = xgb_kv.best_estimator_\n",
    "\n",
    "y_test_predict = best_model.predict(X_test)\n",
    "median_absolute_error(np.exp(y_log_test)-1, np.exp(y_test_predict)-1)"
   ]
  },
  {
   "cell_type": "markdown",
   "metadata": {},
   "source": [
    "Los resultados son interesantes, pero como requiere demasiado tiempo (~10 min), creamos el cross validation manualmente."
   ]
  },
  {
   "cell_type": "code",
   "execution_count": 36,
   "metadata": {
    "collapsed": true
   },
   "outputs": [],
   "source": [
    "models = {\n",
    "    'KNeighborsRegressor5':neighbors.KNeighborsRegressor(5, weights='uniform'),# Admite 'distance'\n",
    "    'KNeighborsRegressor10':neighbors.KNeighborsRegressor(10, weights='uniform'),\n",
    "    'KNeighborsRegressor15':neighbors.KNeighborsRegressor(15, weights='uniform'),\n",
    "    'KNeighborsRegressor25':neighbors.KNeighborsRegressor(25, weights='uniform'),\n",
    "    'KNeighborsRegressor15dist':neighbors.KNeighborsRegressor(15, weights='distance'),\n",
    "    'DecisionTreeRegressor5':tree.DecisionTreeRegressor(max_depth = 5),\n",
    "    'DecisionTreeRegressor10':tree.DecisionTreeRegressor(max_depth = 10),\n",
    "    'DecisionTreeRegressor10':tree.DecisionTreeRegressor(max_depth = 20),\n",
    "    'RandomForestRegressor20':RandomForestRegressor(max_depth=5, n_estimators = 20, random_state=0),\n",
    "    'RandomForestRegressor40':RandomForestRegressor(max_depth=3, n_estimators = 40, random_state=0),\n",
    "    'RandomForestRegressor50':RandomForestRegressor(max_depth=10, n_estimators = 50, random_state=0),\n",
    "    'RandomForestRegressor100':RandomForestRegressor(max_depth=10, n_estimators = 100, random_state=0),\n",
    "    'RandomForestRegressor150':RandomForestRegressor(max_depth=10, n_estimators = 150, random_state=0),\n",
    "    'ExtraTreesRegressor10':ExtraTreesRegressor(n_estimators=10,random_state=0),\n",
    "    'ExtraTreesRegressor50':ExtraTreesRegressor(n_estimators=50,random_state=0),\n",
    "    'ExtraTreesRegressor100':ExtraTreesRegressor(n_estimators=100, random_state=0),\n",
    "    'ExtraTreesRegressor150':ExtraTreesRegressor(n_estimators=150, random_state=0),\n",
    "    'GradientBoostingRegressor30':GradientBoostingRegressor(n_estimators=30, learning_rate=0.1, max_depth=1, random_state=0, loss='ls'),\n",
    "    'GradientBoostingRegressor50':GradientBoostingRegressor(n_estimators=50, learning_rate=0.1, max_depth=1, random_state=0, loss='ls'),\n",
    "    'GradientBoostingRegressor100':GradientBoostingRegressor(n_estimators=100, learning_rate=0.1, max_depth=1, random_state=0, loss='ls'),\n",
    "    'GradientBoostingRegressor30_md5':GradientBoostingRegressor(n_estimators=30, learning_rate=0.1, max_depth=5, random_state=0, loss='ls'),\n",
    "    'GradientBoostingRegressor50_md5':GradientBoostingRegressor(n_estimators=50, learning_rate=0.1, max_depth=5, random_state=0, loss='ls'),\n",
    "    'GradientBoostingRegressor100_md5':GradientBoostingRegressor(n_estimators=100, learning_rate=0.1, max_depth=5, random_state=0, loss='ls'),\n",
    "    'GradientBoostingRegressor30_md10':GradientBoostingRegressor(n_estimators=30, learning_rate=0.1, max_depth=10, random_state=0, loss='ls'),\n",
    "    'GradientBoostingRegressor50_md10':GradientBoostingRegressor(n_estimators=50, learning_rate=0.1, max_depth=10, random_state=0, loss='ls'),\n",
    "    'GradientBoostingRegressor100_md10':GradientBoostingRegressor(n_estimators=100, learning_rate=0.1, max_depth=10, random_state=0, loss='ls'),\n",
    "    'XGB25':XGBRegressor(max_depth = 10, n_estimators=25, random_state=7),\n",
    "    'XGB46':XGBRegressor(max_depth = 10, n_estimators=46, random_state=7),\n",
    "    'XGB60':XGBRegressor(max_depth = 10, n_estimators=60, random_state=7),\n",
    "    'XGB100':XGBRegressor(max_depth = 10, n_estimators=100, random_state=7),\n",
    "    'XGB40_md15':XGBRegressor(max_depth = 15, n_estimators=50, random_state=7)\n",
    "    }"
   ]
  },
  {
   "cell_type": "code",
   "execution_count": 77,
   "metadata": {},
   "outputs": [
    {
     "name": "stdout",
     "output_type": "stream",
     "text": [
      "KNeighborsRegressor5: 27.50205278685425\n",
      "KNeighborsRegressor10: 25.74249415874173\n",
      "KNeighborsRegressor15: 25.55408231493341\n",
      "KNeighborsRegressor25: 24.996226790623\n",
      "KNeighborsRegressor15dist: 25.51864856518825\n",
      "DecisionTreeRegressor5: 19.836560435427394\n",
      "DecisionTreeRegressor10: 27.370658241941054\n",
      "RandomForestRegressor20: 19.253022794947423\n",
      "RandomForestRegressor40: 20.090052253160092\n",
      "RandomForestRegressor50: 19.41086406917274\n",
      "RandomForestRegressor100: 19.374997620380153\n",
      "RandomForestRegressor150: 19.280992854111215\n",
      "ExtraTreesRegressor10: 20.91758747645381\n",
      "ExtraTreesRegressor50: 20.019675004956355\n",
      "ExtraTreesRegressor100: 19.666861997057932\n",
      "ExtraTreesRegressor150: 19.78909320326064\n",
      "GradientBoostingRegressor30: 20.493258874778853\n",
      "GradientBoostingRegressor50: 20.177306765868767\n",
      "GradientBoostingRegressor100: 19.958963086528428\n",
      "GradientBoostingRegressor30_md5: 19.205948829644587\n",
      "GradientBoostingRegressor50_md5: 19.197416379552898\n",
      "GradientBoostingRegressor100_md5: 19.39166305619664\n",
      "GradientBoostingRegressor30_md10: 19.606236817884227\n",
      "GradientBoostingRegressor50_md10: 19.713300902650126\n",
      "GradientBoostingRegressor100_md10: 19.9408668475922\n",
      "XGB25: 18.683102363586418\n",
      "XGB46: 19.09082786560058\n",
      "XGB60: 19.391502037048333\n",
      "XGB100: 19.575184848785405\n",
      "XGB40_md15: 19.51459428405761\n"
     ]
    }
   ],
   "source": [
    "from sklearn.model_selection import KFold\n",
    "\n",
    "# Número de splits\n",
    "k = 5\n",
    "kf = KFold(n_splits=k)\n",
    "\n",
    "# Inicializamos el diccionario de errores (Para cada modelo tendremos una lista de errores asociada)\n",
    "errores = {}\n",
    "for name, model in models.items():\n",
    "    errores[name] = []\n",
    "\n",
    "for train_index, test_index in kf.split(X):\n",
    "    \n",
    "    for name, model in models.items():\n",
    "        #try:\n",
    "        model = model.fit(X.loc[train_index], y_log[train_index])\n",
    "        y_test_predict = model.predict(X.loc[test_index])\n",
    "        # Añadimos el error a nuestra lista\n",
    "        errores[name].append(median_absolute_error(np.exp(y_log[test_index])-1, np.exp(y_test_predict)-1))\n",
    "\n",
    "# Mostramos la media de los errores\n",
    "for name, model in models.items():\n",
    "    print(name,': ', np.mean(errores[name]), sep = '')"
   ]
  },
  {
   "cell_type": "code",
   "execution_count": 80,
   "metadata": {},
   "outputs": [
    {
     "name": "stdout",
     "output_type": "stream",
     "text": [
      "KNeighborsRegressor5: ['22.56', '23.15', '33.83', '28.80', '29.18']\n",
      "KNeighborsRegressor10: ['20.42', '21.42', '31.84', '27.90', '27.13']\n",
      "KNeighborsRegressor15: ['19.76', '21.22', '31.83', '28.35', '26.62']\n",
      "KNeighborsRegressor25: ['19.29', '20.80', '31.07', '27.74', '26.09']\n",
      "KNeighborsRegressor15dist: ['19.79', '21.13', '31.67', '28.23', '26.77']\n",
      "DecisionTreeRegressor5: ['18.16', '18.07', '22.77', '19.24', '20.94']\n",
      "DecisionTreeRegressor10: ['21.27', '22.85', '31.60', '29.47', '31.66']\n",
      "RandomForestRegressor20: ['17.59', '17.57', '22.06', '19.00', '20.05']\n",
      "RandomForestRegressor40: ['19.60', '18.89', '22.87', '18.57', '20.52']\n",
      "RandomForestRegressor50: ['16.76', '16.89', '22.63', '20.06', '20.72']\n",
      "RandomForestRegressor100: ['16.90', '16.97', '22.40', '19.98', '20.63']\n",
      "RandomForestRegressor150: ['16.82', '16.93', '22.44', '19.80', '20.41']\n",
      "ExtraTreesRegressor10: ['17.30', '17.91', '25.67', '21.92', '21.79']\n",
      "ExtraTreesRegressor50: ['16.65', '17.18', '23.93', '21.08', '21.27']\n",
      "ExtraTreesRegressor100: ['16.45', '16.64', '23.90', '20.85', '20.50']\n",
      "ExtraTreesRegressor150: ['16.21', '16.83', '24.22', '21.01', '20.68']\n",
      "GradientBoostingRegressor30: ['19.35', '19.13', '23.19', '19.88', '20.91']\n",
      "GradientBoostingRegressor50: ['19.36', '18.87', '22.86', '19.26', '20.54']\n",
      "GradientBoostingRegressor100: ['19.04', '18.48', '22.62', '19.36', '20.30']\n",
      "GradientBoostingRegressor30_md5: ['17.21', '16.98', '22.60', '19.55', '19.69']\n",
      "GradientBoostingRegressor50_md5: ['16.80', '16.79', '22.45', '20.31', '19.64']\n",
      "GradientBoostingRegressor100_md5: ['16.52', '16.73', '22.80', '20.85', '20.06']\n",
      "GradientBoostingRegressor30_md10: ['16.65', '16.91', '22.83', '20.76', '20.87']\n",
      "GradientBoostingRegressor50_md10: ['16.84', '16.96', '22.49', '21.28', '21.00']\n",
      "GradientBoostingRegressor100_md10: ['16.76', '17.14', '23.23', '21.35', '21.21']\n",
      "XGB25: ['16.52', '16.51', '22.98', '18.57', '18.83']\n",
      "XGB46: ['16.12', '16.19', '22.59', '20.43', '20.13']\n",
      "XGB60: ['16.45', '16.19', '22.73', '21.19', '20.38']\n",
      "XGB100: ['16.69', '16.95', '22.92', '21.40', '19.92']\n",
      "XGB40_md15: ['16.20', '16.37', '24.16', '20.26', '20.58']\n"
     ]
    }
   ],
   "source": [
    "for name, model in models.items():\n",
    "    print(name,': ', ['{:.2f}'.format(i) for i in errores[name]], sep = '')"
   ]
  },
  {
   "cell_type": "code",
   "execution_count": 81,
   "metadata": {},
   "outputs": [
    {
     "name": "stdout",
     "output_type": "stream",
     "text": [
      "KNeighborsRegressor5: 27.39223164371806\n",
      "KNeighborsRegressor10: 25.558651926082195\n",
      "KNeighborsRegressor15: 25.40453848259561\n",
      "KNeighborsRegressor25: 24.99807754056483\n",
      "KNeighborsRegressor15dist: 25.406471956987996\n",
      "DecisionTreeRegressor5: 19.889829577239198\n",
      "DecisionTreeRegressor10: 27.284846148846658\n",
      "RandomForestRegressor20: 19.117218568811033\n",
      "RandomForestRegressor40: 19.91315671854769\n",
      "RandomForestRegressor50: 19.210135882797424\n",
      "RandomForestRegressor100: 19.07730268422388\n",
      "RandomForestRegressor150: 19.066578880115696\n",
      "ExtraTreesRegressor10: 21.345706247534018\n",
      "ExtraTreesRegressor50: 20.06667359459412\n",
      "ExtraTreesRegressor100: 19.95230244889372\n",
      "ExtraTreesRegressor150: 19.73015179241431\n",
      "GradientBoostingRegressor30: 20.716843120619234\n",
      "GradientBoostingRegressor50: 20.163057536114945\n",
      "GradientBoostingRegressor100: 19.875476537776592\n",
      "GradientBoostingRegressor30_md5: 19.134249290424258\n",
      "GradientBoostingRegressor50_md5: 19.13418690926319\n",
      "GradientBoostingRegressor100_md5: 19.33318344227876\n",
      "GradientBoostingRegressor30_md10: 19.590528630291914\n",
      "GradientBoostingRegressor50_md10: 19.881493629307435\n",
      "GradientBoostingRegressor100_md10: 20.079527806879728\n",
      "XGB25: 18.53775937271118\n",
      "XGB46: 18.92834963607788\n",
      "XGB60: 19.064371707916262\n",
      "XGB100: 19.453707435607907\n",
      "XGB40_md15: 19.75112035751343\n"
     ]
    }
   ],
   "source": [
    "from sklearn.model_selection import KFold\n",
    "\n",
    "# Número de splits\n",
    "k = 10\n",
    "kf = KFold(n_splits=k)\n",
    "\n",
    "# Inicializamos el diccionario de errores (Para cada modelo tendremos una lista de errores asociada)\n",
    "errores = {}\n",
    "for name, model in models.items():\n",
    "    errores[name] = []\n",
    "\n",
    "for train_index, test_index in kf.split(X):\n",
    "    \n",
    "    for name, model in models.items():\n",
    "        #try:\n",
    "        model = model.fit(X.loc[train_index], y_log[train_index])\n",
    "        y_test_predict = model.predict(X.loc[test_index])\n",
    "        # Añadimos el error a nuestra lista\n",
    "        errores[name].append(median_absolute_error(np.exp(y_log[test_index])-1, np.exp(y_test_predict)-1))\n",
    "\n",
    "# Mostramos la media de los errores\n",
    "for name, model in models.items():\n",
    "    print(name,': ', np.mean(errores[name]), sep = '')"
   ]
  },
  {
   "cell_type": "code",
   "execution_count": 82,
   "metadata": {},
   "outputs": [
    {
     "name": "stdout",
     "output_type": "stream",
     "text": [
      "KNeighborsRegressor5: ['20.52', '24.03', '21.56', '24.40', '34.93', '32.62', '29.63', '28.41', '28.24', '29.57']\n",
      "KNeighborsRegressor10: ['18.87', '21.39', '19.88', '22.78', '32.52', '30.77', '28.86', '26.92', '26.46', '27.14']\n",
      "KNeighborsRegressor15: ['18.26', '20.82', '19.01', '22.35', '31.36', '32.26', '29.67', '28.12', '26.40', '25.79']\n",
      "KNeighborsRegressor25: ['17.83', '20.57', '19.65', '21.27', '31.01', '31.22', '29.53', '27.01', '25.25', '26.64']\n",
      "KNeighborsRegressor15dist: ['18.61', '20.85', '19.17', '23.20', '31.67', '30.51', '30.16', '27.19', '26.32', '26.39']\n",
      "DecisionTreeRegressor5: ['17.54', '18.36', '16.69', '19.37', '23.33', '21.40', '18.72', '21.45', '21.01', '21.04']\n",
      "DecisionTreeRegressor10: ['22.42', '22.28', '21.58', '24.62', '32.75', '31.59', '29.57', '34.11', '28.41', '25.53']\n",
      "RandomForestRegressor20: ['16.65', '17.94', '16.22', '18.27', '22.85', '21.17', '18.14', '20.26', '19.53', '20.15']\n",
      "RandomForestRegressor40: ['18.43', '18.66', '16.94', '19.49', '24.49', '21.31', '18.34', '19.88', '20.47', '21.10']\n",
      "RandomForestRegressor50: ['16.19', '17.60', '15.70', '18.46', '21.97', '22.74', '18.96', '20.91', '19.57', '20.00']\n",
      "RandomForestRegressor100: ['16.39', '17.36', '15.46', '18.28', '22.34', '22.44', '18.86', '20.46', '19.14', '20.04']\n",
      "RandomForestRegressor150: ['16.26', '17.27', '15.24', '18.01', '22.59', '22.94', '19.00', '20.14', '19.00', '20.23']\n",
      "ExtraTreesRegressor10: ['16.68', '18.14', '17.01', '19.40', '26.16', '27.05', '21.14', '22.22', '22.09', '23.58']\n",
      "ExtraTreesRegressor50: ['15.64', '17.23', '15.43', '19.34', '23.70', '24.43', '20.70', '21.86', '20.47', '21.86']\n",
      "ExtraTreesRegressor100: ['15.87', '17.53', '15.31', '18.62', '24.08', '25.04', '20.12', '21.73', '19.62', '21.60']\n",
      "ExtraTreesRegressor150: ['15.93', '17.17', '15.06', '19.00', '23.55', '24.57', '19.64', '21.46', '20.08', '20.83']\n",
      "GradientBoostingRegressor30: ['18.57', '19.21', '18.54', '20.16', '25.39', '22.31', '19.16', '20.90', '20.79', '22.12']\n",
      "GradientBoostingRegressor50: ['18.64', '18.61', '17.90', '19.98', '24.20', '21.71', '18.59', '20.40', '20.93', '20.68']\n",
      "GradientBoostingRegressor100: ['18.62', '18.49', '17.49', '19.07', '24.56', '21.33', '18.57', '20.15', '20.56', '19.91']\n",
      "GradientBoostingRegressor30_md5: ['16.65', '17.39', '16.04', '18.38', '22.76', '21.99', '18.74', '20.77', '19.36', '19.25']\n",
      "GradientBoostingRegressor50_md5: ['16.06', '17.25', '15.41', '17.95', '22.41', '23.08', '18.47', '22.05', '19.37', '19.28']\n",
      "GradientBoostingRegressor100_md5: ['15.94', '16.47', '14.82', '18.29', '23.01', '22.62', '19.47', '23.08', '19.76', '19.88']\n",
      "GradientBoostingRegressor30_md10: ['16.11', '17.60', '15.63', '17.65', '23.03', '23.27', '19.63', '22.36', '20.66', '19.96']\n",
      "GradientBoostingRegressor50_md10: ['16.32', '17.51', '15.72', '18.76', '22.84', '24.06', '19.97', '21.97', '20.72', '20.94']\n",
      "GradientBoostingRegressor100_md10: ['15.64', '17.28', '15.92', '18.45', '23.27', '24.20', '20.71', '22.65', '21.28', '21.39']\n",
      "XGB25: ['14.53', '17.72', '15.69', '17.80', '23.31', '21.61', '18.31', '18.94', '19.96', '17.51']\n",
      "XGB46: ['15.33', '16.24', '14.97', '17.30', '21.86', '23.99', '19.05', '20.86', '19.40', '20.29']\n",
      "XGB60: ['15.71', '15.99', '15.39', '17.02', '21.52', '23.91', '19.59', '21.60', '19.78', '20.13']\n",
      "XGB100: ['15.84', '15.92', '15.51', '18.25', '21.91', '24.30', '20.31', '21.83', '19.98', '20.68']\n",
      "XGB40_md15: ['15.79', '16.05', '15.15', '18.34', '23.30', '23.63', '19.57', '22.56', '20.01', '23.11']\n"
     ]
    }
   ],
   "source": [
    "for name, model in models.items():\n",
    "    print(name,': ', ['{:.2f}'.format(i) for i in errores[name]], sep = '')"
   ]
  },
  {
   "cell_type": "markdown",
   "metadata": {},
   "source": [
    "**Nota:** Parece que tenemos suerte y en los primeros KFolds nuestro conjunto de train se parece al de test, pero en el resto no tenemos esa suerte."
   ]
  },
  {
   "cell_type": "markdown",
   "metadata": {},
   "source": [
    "# Ensemble\n",
    "\n",
    "Como base de nuestro Ensemble emplearemos los siguientes modelos:\n",
    "+ DecisionTreeRegressor5\n",
    "+ RandomForestRegressor50\n",
    "+ ExtraTreesRegressor100\n",
    "+ GradientBoostingRegressor50_md5\n",
    "+ XGB46"
   ]
  },
  {
   "cell_type": "code",
   "execution_count": 104,
   "metadata": {
    "collapsed": true
   },
   "outputs": [],
   "source": [
    "ensemble_models = {\n",
    "    'DecisionTreeRegressor5':tree.DecisionTreeRegressor(max_depth = 5),\n",
    "    'RandomForestRegressor50':RandomForestRegressor(max_depth=10, n_estimators = 50, random_state=0),\n",
    "    'ExtraTreesRegressor100':ExtraTreesRegressor(n_estimators=100, random_state=0),\n",
    "    'GradientBoostingRegressor50_md5':GradientBoostingRegressor(n_estimators=50, learning_rate=0.1, max_depth=5, random_state=0, loss='ls'),\n",
    "    'XGB46':XGBRegressor(max_depth = 10, n_estimators=46, random_state=7)\n",
    "}"
   ]
  },
  {
   "cell_type": "markdown",
   "metadata": {},
   "source": [
    "Definición de los conjuntos de train y test junto a la matriz donde almacenaremos las predicciones de nuestros modelos."
   ]
  },
  {
   "cell_type": "code",
   "execution_count": 105,
   "metadata": {},
   "outputs": [
    {
     "data": {
      "text/html": [
       "<div>\n",
       "<style scoped>\n",
       "    .dataframe tbody tr th:only-of-type {\n",
       "        vertical-align: middle;\n",
       "    }\n",
       "\n",
       "    .dataframe tbody tr th {\n",
       "        vertical-align: top;\n",
       "    }\n",
       "\n",
       "    .dataframe thead th {\n",
       "        text-align: right;\n",
       "    }\n",
       "</style>\n",
       "<table border=\"1\" class=\"dataframe\">\n",
       "  <thead>\n",
       "    <tr style=\"text-align: right;\">\n",
       "      <th></th>\n",
       "      <th>DecisionTreeRegressor5</th>\n",
       "      <th>RandomForestRegressor50</th>\n",
       "      <th>ExtraTreesRegressor100</th>\n",
       "      <th>GradientBoostingRegressor50_md5</th>\n",
       "      <th>XGB46</th>\n",
       "    </tr>\n",
       "  </thead>\n",
       "  <tbody>\n",
       "    <tr>\n",
       "      <th>0</th>\n",
       "      <td>0.0</td>\n",
       "      <td>0.0</td>\n",
       "      <td>0.0</td>\n",
       "      <td>0.0</td>\n",
       "      <td>0.0</td>\n",
       "    </tr>\n",
       "    <tr>\n",
       "      <th>1</th>\n",
       "      <td>0.0</td>\n",
       "      <td>0.0</td>\n",
       "      <td>0.0</td>\n",
       "      <td>0.0</td>\n",
       "      <td>0.0</td>\n",
       "    </tr>\n",
       "    <tr>\n",
       "      <th>2</th>\n",
       "      <td>0.0</td>\n",
       "      <td>0.0</td>\n",
       "      <td>0.0</td>\n",
       "      <td>0.0</td>\n",
       "      <td>0.0</td>\n",
       "    </tr>\n",
       "    <tr>\n",
       "      <th>3</th>\n",
       "      <td>0.0</td>\n",
       "      <td>0.0</td>\n",
       "      <td>0.0</td>\n",
       "      <td>0.0</td>\n",
       "      <td>0.0</td>\n",
       "    </tr>\n",
       "    <tr>\n",
       "      <th>4</th>\n",
       "      <td>0.0</td>\n",
       "      <td>0.0</td>\n",
       "      <td>0.0</td>\n",
       "      <td>0.0</td>\n",
       "      <td>0.0</td>\n",
       "    </tr>\n",
       "  </tbody>\n",
       "</table>\n",
       "</div>"
      ],
      "text/plain": [
       "   DecisionTreeRegressor5  RandomForestRegressor50  ExtraTreesRegressor100  \\\n",
       "0                     0.0                      0.0                     0.0   \n",
       "1                     0.0                      0.0                     0.0   \n",
       "2                     0.0                      0.0                     0.0   \n",
       "3                     0.0                      0.0                     0.0   \n",
       "4                     0.0                      0.0                     0.0   \n",
       "\n",
       "   GradientBoostingRegressor50_md5  XGB46  \n",
       "0                              0.0    0.0  \n",
       "1                              0.0    0.0  \n",
       "2                              0.0    0.0  \n",
       "3                              0.0    0.0  \n",
       "4                              0.0    0.0  "
      ]
     },
     "execution_count": 105,
     "metadata": {},
     "output_type": "execute_result"
    }
   ],
   "source": [
    "X_train_ensemble, X_test_ensemble, y_log_train_ensemble, y_log_test_ensemble = train_test_split(X, y_log, test_size=0.3, random_state=7)\n",
    "\n",
    "# Conjuntos sobre los que trabajaremos\n",
    "X_train, X_test, y_log_train, y_log_test = train_test_split(X_train_ensemble, y_log_train_ensemble, test_size=0.3, random_state=7)\n",
    "\n",
    "# Dataframe donde almacenaremos los resultados de nuestros modelos\n",
    "pred_ensemble_models = pd.DataFrame(data = np.zeros((X_test.shape[0],len(ensemble_models))), \n",
    "                                    columns = list(ensemble_models.keys()))\n",
    "pred_ensemble_models.head()"
   ]
  },
  {
   "cell_type": "code",
   "execution_count": 106,
   "metadata": {},
   "outputs": [
    {
     "data": {
      "text/html": [
       "<div>\n",
       "<style scoped>\n",
       "    .dataframe tbody tr th:only-of-type {\n",
       "        vertical-align: middle;\n",
       "    }\n",
       "\n",
       "    .dataframe tbody tr th {\n",
       "        vertical-align: top;\n",
       "    }\n",
       "\n",
       "    .dataframe thead th {\n",
       "        text-align: right;\n",
       "    }\n",
       "</style>\n",
       "<table border=\"1\" class=\"dataframe\">\n",
       "  <thead>\n",
       "    <tr style=\"text-align: right;\">\n",
       "      <th></th>\n",
       "      <th>DecisionTreeRegressor5</th>\n",
       "      <th>RandomForestRegressor50</th>\n",
       "      <th>ExtraTreesRegressor100</th>\n",
       "      <th>GradientBoostingRegressor50_md5</th>\n",
       "      <th>XGB46</th>\n",
       "    </tr>\n",
       "  </thead>\n",
       "  <tbody>\n",
       "    <tr>\n",
       "      <th>0</th>\n",
       "      <td>3.402059</td>\n",
       "      <td>3.507956</td>\n",
       "      <td>3.512940</td>\n",
       "      <td>3.417132</td>\n",
       "      <td>3.833163</td>\n",
       "    </tr>\n",
       "    <tr>\n",
       "      <th>1</th>\n",
       "      <td>3.957825</td>\n",
       "      <td>3.955098</td>\n",
       "      <td>3.858310</td>\n",
       "      <td>3.900227</td>\n",
       "      <td>3.883547</td>\n",
       "    </tr>\n",
       "    <tr>\n",
       "      <th>2</th>\n",
       "      <td>3.402059</td>\n",
       "      <td>3.269411</td>\n",
       "      <td>2.361675</td>\n",
       "      <td>3.406051</td>\n",
       "      <td>3.231040</td>\n",
       "    </tr>\n",
       "    <tr>\n",
       "      <th>3</th>\n",
       "      <td>4.324712</td>\n",
       "      <td>4.118461</td>\n",
       "      <td>3.830031</td>\n",
       "      <td>3.966737</td>\n",
       "      <td>3.916286</td>\n",
       "    </tr>\n",
       "    <tr>\n",
       "      <th>4</th>\n",
       "      <td>4.324712</td>\n",
       "      <td>4.101326</td>\n",
       "      <td>3.883392</td>\n",
       "      <td>4.033560</td>\n",
       "      <td>3.727528</td>\n",
       "    </tr>\n",
       "  </tbody>\n",
       "</table>\n",
       "</div>"
      ],
      "text/plain": [
       "   DecisionTreeRegressor5  RandomForestRegressor50  ExtraTreesRegressor100  \\\n",
       "0                3.402059                 3.507956                3.512940   \n",
       "1                3.957825                 3.955098                3.858310   \n",
       "2                3.402059                 3.269411                2.361675   \n",
       "3                4.324712                 4.118461                3.830031   \n",
       "4                4.324712                 4.101326                3.883392   \n",
       "\n",
       "   GradientBoostingRegressor50_md5     XGB46  \n",
       "0                         3.417132  3.833163  \n",
       "1                         3.900227  3.883547  \n",
       "2                         3.406051  3.231040  \n",
       "3                         3.966737  3.916286  \n",
       "4                         4.033560  3.727528  "
      ]
     },
     "execution_count": 106,
     "metadata": {},
     "output_type": "execute_result"
    }
   ],
   "source": [
    "# Procedemos a calcular\n",
    "for name, model in ensemble_models.items():\n",
    "    ensemble_models[name] = model.fit(X_train, y_log_train)\n",
    "    y_test_predict = ensemble_models[name].predict(X_test)\n",
    "    # Almacenamos la predicción de cada modelo\n",
    "    pred_ensemble_models[name] = y_test_predict\n",
    "    \n",
    "pred_ensemble_models.head()"
   ]
  },
  {
   "cell_type": "markdown",
   "metadata": {},
   "source": [
    "Utilizamos un rf para la predicción final"
   ]
  },
  {
   "cell_type": "code",
   "execution_count": 107,
   "metadata": {},
   "outputs": [
    {
     "name": "stdout",
     "output_type": "stream",
     "text": [
      "DecisionTreeRegressor5: 19.76465250876292\n",
      "RandomForestRegressor50: 18.299696101660945\n",
      "ExtraTreesRegressor100: 18.5464276492524\n",
      "GradientBoostingRegressor50_md5: 18.585116367292198\n",
      "XGB46: 18.334793777465848\n",
      "--------------------------------------------------\n",
      "Ensemble: 18.95082377140058\n"
     ]
    }
   ],
   "source": [
    "rf_ensemble_validation = RandomForestRegressor(max_depth=5, n_estimators = 25, random_state=0)\n",
    "rf_ensemble_validation = rf_ensemble_validation.fit(pred_ensemble_models, y_log_test)\n",
    "\n",
    "\n",
    "# Dataframe donde almacenaremos los resultados de nuestros modelos\n",
    "pred_ensemble_models_test = pd.DataFrame(data = np.zeros((X_test_ensemble.shape[0],len(ensemble_models))), \n",
    "                                    columns = list(ensemble_models.keys()))\n",
    "# Procedemos a calcular\n",
    "for name, model in ensemble_models.items():\n",
    "    # Predecimos con nuestros modelos sobre el conjunto de test\n",
    "    y_pred = ensemble_models[name].predict(X_test_ensemble)\n",
    "    pred_ensemble_models_test[name] = y_pred\n",
    "    print(name,': ', median_absolute_error(np.exp(y_log_test_ensemble)-1, np.exp(y_pred)-1), sep = '')\n",
    "    \n",
    "# Y lo corregimos con el rf_ensemble_validation\n",
    "y_final_pred = rf_ensemble_validation.predict(pred_ensemble_models_test)\n",
    "\n",
    "# Calculamos el error\n",
    "print('-'*50)\n",
    "print('Ensemble: ', median_absolute_error(np.exp(y_log_test_ensemble)-1, np.exp(y_final_pred)-1), sep = '')"
   ]
  },
  {
   "cell_type": "markdown",
   "metadata": {},
   "source": [
    "Razón por la que empleamos un rf: La propriedad **feature\\_importances\\_**"
   ]
  },
  {
   "cell_type": "code",
   "execution_count": 108,
   "metadata": {},
   "outputs": [
    {
     "data": {
      "image/png": "[encoded data removed]",
      "text/plain": [
       "<Figure size 432x288 with 1 Axes>"
      ]
     },
     "metadata": {
      "needs_background": "light"
     },
     "output_type": "display_data"
    }
   ],
   "source": [
    "plt.bar(range(len(ensemble_models.keys())), rf_ensemble_validation.feature_importances_)\n",
    "plt.xticks(range(len(ensemble_models.keys())), list(ensemble_models.keys()), rotation = 90)\n",
    "plt.show()"
   ]
  }
 ],
 "metadata": {
  "kernelspec": {
   "display_name": "Python 3",
   "language": "python",
   "name": "python3"
  },
  "language_info": {
   "codemirror_mode": {
    "name": "ipython",
    "version": 3
   },
   "file_extension": ".py",
   "mimetype": "text/x-python",
   "name": "python",
   "nbconvert_exporter": "python",
   "pygments_lexer": "ipython3",
   "version": "3.6.1"
  }
 },
 "nbformat": 4,
 "nbformat_minor": 2
}
