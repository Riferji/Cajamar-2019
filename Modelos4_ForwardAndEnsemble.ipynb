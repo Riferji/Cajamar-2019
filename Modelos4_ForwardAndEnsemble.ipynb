{
 "cells": [
  {
   "cell_type": "markdown",
   "metadata": {},
   "source": [
    "**Nota importante:** A la hora de quitar Outliers aumentamos la precisión de nuestro modelo, pero hay que tener en cuenta que si los quitamos en el conjunto general, es como si estubieramos \"achatando\" la data, por lo que el margen de error es menor y conseguimos una mejor medida. Ejemplo: el error medio de los modelos eliminando toda *y* mayor que *100* se encuentra sobre los *13* puntos en *median\\_absolute\\_error*"
   ]
  },
  {
   "cell_type": "code",
   "execution_count": 88,
   "metadata": {
    "collapsed": true
   },
   "outputs": [],
   "source": [
    "import pandas as pd\n",
    "import numpy as np\n",
    "from matplotlib import pyplot as plt\n",
    "\n",
    "from sklearn.model_selection import train_test_split\n",
    "\n",
    "from sklearn import linear_model\n",
    "from sklearn.linear_model import LogisticRegression\n",
    "from sklearn import svm\n",
    "from sklearn import neighbors\n",
    "from sklearn import tree\n",
    "from sklearn.ensemble import RandomForestRegressor\n",
    "from sklearn.ensemble import ExtraTreesRegressor\n",
    "from sklearn.ensemble import GradientBoostingRegressor\n",
    "from sklearn.neural_network import MLPRegressor\n",
    "\n",
    "import xgboost as xgb\n",
    "from xgboost.sklearn import XGBRegressor\n",
    "\n",
    "# Métrica\n",
    "from sklearn.metrics import median_absolute_error"
   ]
  },
  {
   "cell_type": "code",
   "execution_count": 2,
   "metadata": {
    "collapsed": true
   },
   "outputs": [],
   "source": [
    "df = pd.read_csv('Train_modificado_con_pca.csv', sep = '|', encoding='utf-8')\n",
    "\n",
    "X = df.drop(['Unnamed: 0', 'TARGET'],axis = 1)\n",
    "y = df.TARGET.copy()"
   ]
  },
  {
   "cell_type": "code",
   "execution_count": 91,
   "metadata": {
    "collapsed": true
   },
   "outputs": [],
   "source": [
    "models = {\n",
    "    'KNeighborsRegressor5':neighbors.KNeighborsRegressor(5, weights='uniform'),# Admite 'distance'\n",
    "    'KNeighborsRegressor10':neighbors.KNeighborsRegressor(10, weights='uniform'),\n",
    "    'KNeighborsRegressor15':neighbors.KNeighborsRegressor(15, weights='uniform'),\n",
    "    'KNeighborsRegressor25':neighbors.KNeighborsRegressor(25, weights='uniform'),\n",
    "    'KNeighborsRegressor15dist':neighbors.KNeighborsRegressor(15, weights='distance'),\n",
    "    'DecisionTreeRegressor5':tree.DecisionTreeRegressor(max_depth = 5),\n",
    "    'DecisionTreeRegressor10':tree.DecisionTreeRegressor(max_depth = 10),\n",
    "    'DecisionTreeRegressor20':tree.DecisionTreeRegressor(max_depth = 20),\n",
    "    'RandomForestRegressor20':RandomForestRegressor(max_depth=5, n_estimators = 20, random_state=0),\n",
    "    'RandomForestRegressor40':RandomForestRegressor(max_depth=3, n_estimators = 40, random_state=0),\n",
    "    'RandomForestRegressor50':RandomForestRegressor(max_depth=10, n_estimators = 50, random_state=0),\n",
    "    'RandomForestRegressor100':RandomForestRegressor(max_depth=10, n_estimators = 100, random_state=0),\n",
    "    'RandomForestRegressor150':RandomForestRegressor(max_depth=10, n_estimators = 150, random_state=0),\n",
    "    'ExtraTreesRegressor10':ExtraTreesRegressor(n_estimators=10,random_state=0),\n",
    "    'ExtraTreesRegressor50':ExtraTreesRegressor(n_estimators=50,random_state=0),\n",
    "    'ExtraTreesRegressor100':ExtraTreesRegressor(n_estimators=100, random_state=0),\n",
    "    'ExtraTreesRegressor150':ExtraTreesRegressor(n_estimators=150, random_state=0),\n",
    "    'GradientBoostingRegressor30':GradientBoostingRegressor(n_estimators=30, learning_rate=0.1, max_depth=1, random_state=0, loss='ls'),\n",
    "    'GradientBoostingRegressor50':GradientBoostingRegressor(n_estimators=50, learning_rate=0.1, max_depth=1, random_state=0, loss='ls'),\n",
    "    'GradientBoostingRegressor100':GradientBoostingRegressor(n_estimators=100, learning_rate=0.1, max_depth=1, random_state=0, loss='ls'),\n",
    "    'GradientBoostingRegressor30_md5':GradientBoostingRegressor(n_estimators=30, learning_rate=0.1, max_depth=5, random_state=0, loss='ls'),\n",
    "    'GradientBoostingRegressor50_md5':GradientBoostingRegressor(n_estimators=50, learning_rate=0.1, max_depth=5, random_state=0, loss='ls'),\n",
    "    'GradientBoostingRegressor100_md5':GradientBoostingRegressor(n_estimators=100, learning_rate=0.1, max_depth=5, random_state=0, loss='ls'),\n",
    "    'GradientBoostingRegressor30_md10':GradientBoostingRegressor(n_estimators=30, learning_rate=0.1, max_depth=10, random_state=0, loss='ls'),\n",
    "    'GradientBoostingRegressor50_md10':GradientBoostingRegressor(n_estimators=50, learning_rate=0.1, max_depth=10, random_state=0, loss='ls'),\n",
    "    'GradientBoostingRegressor100_md10':GradientBoostingRegressor(n_estimators=100, learning_rate=0.1, max_depth=10, random_state=0, loss='ls'),\n",
    "    'GradientBoostingRegressor30_nols':GradientBoostingRegressor(n_estimators=30, learning_rate=0.1, max_depth=1, random_state=0),\n",
    "    'GradientBoostingRegressor50_nols':GradientBoostingRegressor(n_estimators=50, learning_rate=0.1, max_depth=1, random_state=0),\n",
    "    'GradientBoostingRegressor100_nols':GradientBoostingRegressor(n_estimators=100, learning_rate=0.1, max_depth=1, random_state=0),\n",
    "    'GradientBoostingRegressor30_md5_nols':GradientBoostingRegressor(n_estimators=30, learning_rate=0.1, max_depth=5, random_state=0),\n",
    "    'GradientBoostingRegressor50_md5_nols':GradientBoostingRegressor(n_estimators=50, learning_rate=0.1, max_depth=5, random_state=0),\n",
    "    'GradientBoostingRegressor100_md5_nols':GradientBoostingRegressor(n_estimators=100, learning_rate=0.1, max_depth=5, random_state=0),\n",
    "    'GradientBoostingRegressor30_md10_nols':GradientBoostingRegressor(n_estimators=30, learning_rate=0.1, max_depth=10, random_state=0),\n",
    "    'GradientBoostingRegressor50_md10_nols':GradientBoostingRegressor(n_estimators=50, learning_rate=0.1, max_depth=10, random_state=0),\n",
    "    'GradientBoostingRegressor100_md10_nols':GradientBoostingRegressor(n_estimators=100, learning_rate=0.1, max_depth=10, random_state=0),\n",
    "    'XGB25':XGBRegressor(max_depth = 10, n_estimators=25, random_state=7),\n",
    "    'XGB46':XGBRegressor(max_depth = 10, n_estimators=46, random_state=7),\n",
    "    'XGB60':XGBRegressor(max_depth = 10, n_estimators=60, random_state=7),\n",
    "    'XGB100':XGBRegressor(max_depth = 10, n_estimators=100, random_state=7),\n",
    "    'XGB40_md15':XGBRegressor(max_depth = 15, n_estimators=50, random_state=7)\n",
    "    }"
   ]
  },
  {
   "cell_type": "code",
   "execution_count": 92,
   "metadata": {
    "collapsed": true
   },
   "outputs": [],
   "source": [
    "def EntrenarModelos(X, y, models, drop_vars):\n",
    "    X_train, X_test, y_train, y_test = train_test_split(X.drop(drop_vars, axis = 1), y, test_size=0.3, random_state=7)\n",
    "    \n",
    "    y_test_predict = {}\n",
    "    errores = {}\n",
    "    \n",
    "    for name, model in models.items():\n",
    "        #try:\n",
    "        model = model.fit(X_train, y_train)\n",
    "        y_test_predict[name] = model.predict(X_test)\n",
    "        errores[name] = median_absolute_error(np.exp(y_test)-1, np.exp(y_test_predict[name])-1)\n",
    "        \n",
    "        print(name,': ', errores[name], sep = '')"
   ]
  },
  {
   "cell_type": "code",
   "execution_count": 65,
   "metadata": {},
   "outputs": [
    {
     "name": "stdout",
     "output_type": "stream",
     "text": [
      "KNeighborsRegressor5: 25.335204324370252\n",
      "KNeighborsRegressor10: 23.732550395459665\n",
      "KNeighborsRegressor15: 23.41459256371895\n",
      "KNeighborsRegressor25: 23.196018310061106\n",
      "KNeighborsRegressor15dist: 23.045557634410315\n",
      "DecisionTreeRegressor5: 19.788694879834743\n",
      "DecisionTreeRegressor10: 20.910586663131248\n",
      "DecisionTreeRegressor20: 27.96999999999997\n",
      "RandomForestRegressor20: 19.264756554330653\n",
      "RandomForestRegressor40: 19.207574952085714\n",
      "RandomForestRegressor50: 18.883811313414633\n",
      "RandomForestRegressor100: 18.82939608390021\n",
      "RandomForestRegressor150: 19.02535867284067\n",
      "ExtraTreesRegressor10: 20.318600935270645\n",
      "ExtraTreesRegressor50: 18.99349028251843\n",
      "ExtraTreesRegressor100: 18.741159572500237\n",
      "ExtraTreesRegressor150: 18.566636496684666\n",
      "GradientBoostingRegressor30: 20.16491679131419\n",
      "GradientBoostingRegressor50: 19.9171002938324\n",
      "GradientBoostingRegressor100: 19.76170664993758\n",
      "GradientBoostingRegressor30_md5: 18.83199581621777\n",
      "GradientBoostingRegressor50_md5: 19.159453373848038\n",
      "GradientBoostingRegressor100_md5: 18.989840648858333\n",
      "GradientBoostingRegressor30_md10: 19.58250110574899\n",
      "GradientBoostingRegressor50_md10: 19.75556822459778\n",
      "GradientBoostingRegressor100_md10: 20.41302004384593\n",
      "GradientBoostingRegressor30_nols: 20.16491679131419\n",
      "GradientBoostingRegressor50_nols: 19.9171002938324\n",
      "GradientBoostingRegressor100_nols: 19.76170664993758\n",
      "GradientBoostingRegressor30_md5_nols: 18.83199581621777\n",
      "GradientBoostingRegressor50_md5_nols: 19.159453373848038\n",
      "GradientBoostingRegressor100_md5_nols: 18.989840648858333\n",
      "GradientBoostingRegressor30_md10_nols: 19.58250110574899\n",
      "GradientBoostingRegressor50_md10_nols: 19.75556822459778\n",
      "GradientBoostingRegressor100_md10_nols: 20.41302004384593\n",
      "XGB25: 18.71012069702148\n",
      "XGB46: 18.85689926147461\n",
      "XGB60: 19.035696868896494\n",
      "XGB100: 19.5373843383789\n",
      "XGB40_md15: 19.63963241577148\n"
     ]
    }
   ],
   "source": [
    "EntrenarModelos(X[['HY_metros_utiles', 'GA_page_views', 'HY_precio', 'PV_cantidad_imagenes',\n",
    "                  'GA_exit_rate', 'GA_quincena_ini', 'GA_quincena_ult']], y, models, [])"
   ]
  },
  {
   "cell_type": "code",
   "execution_count": 57,
   "metadata": {},
   "outputs": [
    {
     "name": "stdout",
     "output_type": "stream",
     "text": [
      "KNeighborsRegressor5: 25.28569953035789\n",
      "KNeighborsRegressor10: 24.05007265581657\n",
      "KNeighborsRegressor15: 23.740993570275634\n",
      "KNeighborsRegressor25: 23.30775115037642\n",
      "KNeighborsRegressor15dist: 23.46014218169929\n",
      "DecisionTreeRegressor5: 19.750837066690167\n",
      "DecisionTreeRegressor10: 26.45000000000001\n",
      "RandomForestRegressor20: 19.172022758971586\n",
      "RandomForestRegressor40: 19.239924340953973\n",
      "RandomForestRegressor50: 18.56607118956455\n",
      "RandomForestRegressor100: 18.49729716739766\n",
      "RandomForestRegressor150: 18.568090029320828\n",
      "ExtraTreesRegressor10: 19.875597288616703\n",
      "ExtraTreesRegressor50: 19.022971811585457\n",
      "ExtraTreesRegressor100: 18.943868611957683\n",
      "ExtraTreesRegressor150: 18.79043867237103\n",
      "GradientBoostingRegressor30: 20.163402550669566\n",
      "GradientBoostingRegressor50: 19.85848210390693\n",
      "GradientBoostingRegressor100: 19.878878692761162\n",
      "GradientBoostingRegressor30_md5: 19.053975729660394\n",
      "GradientBoostingRegressor50_md5: 18.93921632472602\n",
      "GradientBoostingRegressor100_md5: 18.921776791778726\n",
      "GradientBoostingRegressor30_md10: 19.084216023010484\n",
      "GradientBoostingRegressor50_md10: 19.32821471319791\n",
      "GradientBoostingRegressor100_md10: 19.37698775403325\n",
      "XGB25: 18.404187011718662\n",
      "XGB46: 18.61378356933602\n",
      "XGB60: 19.181028137207036\n",
      "XGB100: 19.265481948852532\n",
      "XGB40_md15: 18.31868972778318\n"
     ]
    }
   ],
   "source": [
    "EntrenarModelos(X, y, models, ['PV_idea_pca', 'PV_idea_pca2', 'HY_metros_totales', 'HY_num_terrazas',\n",
    "       'HY_ascensor', 'HY_trastero', 'HY_precio_anterior', 'PV_ind_elasticidad','PV_precio_anterior', \n",
    "       'PV_longitud_distribucion'])"
   ]
  },
  {
   "cell_type": "code",
   "execution_count": 21,
   "metadata": {},
   "outputs": [
    {
     "name": "stdout",
     "output_type": "stream",
     "text": [
      "XGB1000: 18.776891708374023\n"
     ]
    }
   ],
   "source": [
    "EntrenarModelos(X, y, {'XGB1000':XGBRegressor(n_estimators=1000, random_state=7)}\n",
    "                , ['PV_idea_pca', 'PV_idea_pca2', 'HY_metros_totales', 'HY_num_terrazas',\n",
    "       'HY_ascensor', 'HY_trastero', 'HY_precio_anterior', 'PV_ind_elasticidad','PV_precio_anterior', \n",
    "       'PV_longitud_distribucion'])"
   ]
  },
  {
   "cell_type": "code",
   "execution_count": 31,
   "metadata": {},
   "outputs": [
    {
     "data": {
      "text/plain": [
       "54.98440202236172"
      ]
     },
     "execution_count": 31,
     "metadata": {},
     "output_type": "execute_result"
    }
   ],
   "source": [
    "X_train, X_test, y_train, y_test = train_test_split(X, y, test_size=0.3, random_state=7)\n",
    "\n",
    "gbm = xgb.XGBRegressor(objective='survival:cox',\n",
    "                       booster='gblinear',\n",
    "                       base_score=1,\n",
    "                       n_estimators=1000).fit(X_train, np.exp(y_train)-1)\n",
    "\n",
    "y_pred = gbm.predict(X_test, output_margin=True)\n",
    "\n",
    "#median_absolute_error(np.exp(y_test)-1, np.exp(y_pred)-1)\n",
    "median_absolute_error(np.exp(y_test)-1,y_pred)"
   ]
  },
  {
   "cell_type": "code",
   "execution_count": 49,
   "metadata": {},
   "outputs": [
    {
     "data": {
      "text/plain": [
       "56.76767061233522"
      ]
     },
     "execution_count": 49,
     "metadata": {},
     "output_type": "execute_result"
    }
   ],
   "source": [
    "X_train, X_test, y_train, y_test = train_test_split(X, y, test_size=0.3, random_state=7)\n",
    "\n",
    "gbm = xgb.XGBRegressor(objective='survival:cox',\n",
    "                       booster='gbtree',\n",
    "                       max_depth = 10,\n",
    "                       n_estimators=50).fit(X_train, y_train)\n",
    "\n",
    "y_pred = gbm.predict(X_test, output_margin=True)\n",
    "\n",
    "#median_absolute_error(np.exp(y_test)-1, np.exp(y_pred)-1)\n",
    "median_absolute_error(np.exp(y_test)-1,np.exp(y_pred)-1)"
   ]
  },
  {
   "cell_type": "code",
   "execution_count": 3,
   "metadata": {
    "collapsed": true
   },
   "outputs": [],
   "source": [
    "def FitEnsembles(X,y,base_models,ensemble_models):\n",
    "    '''\n",
    "    X,y --> nuestra data\n",
    "    base_models --> Los modelos de los que se nutrirá nuestro ensemble\n",
    "    ensemble_models --> Modelos que son la capa final del ensemble\n",
    "    '''\n",
    "    \n",
    "    X_train_ensemble, X_test_ensemble, y_train_ensemble, y_test_ensemble = train_test_split(X, y, test_size=0.4, random_state=7)\n",
    "    X_train, X_test, y_train, y_test = train_test_split(X_train_ensemble, y_train_ensemble, test_size=0.3, random_state=7)\n",
    "\n",
    "    # Dataframe donde almacenaremos los resultados de nuestros modelos\n",
    "    pred_ensemble_models = pd.DataFrame(data = np.zeros((X_test.shape[0],len(base_models))), \n",
    "                                        columns = list(base_models.keys()))\n",
    "    # Dataframe donde almacenaremos los resultados de nuestros modelos\n",
    "    pred_ensemble_models_test = pd.DataFrame(data = np.zeros((X_test_ensemble.shape[0],len(base_models))), \n",
    "                                    columns = list(base_models.keys()))\n",
    "    \n",
    "    # Procedemos a entrenar los base_models\n",
    "    for name, model in base_models.items():\n",
    "        base_models[name] = model.fit(X_train, y_train)\n",
    "        y_test_predict = base_models[name].predict(X_test)\n",
    "        # Almacenamos la predicción de cada modelo\n",
    "        pred_ensemble_models[name] = y_test_predict\n",
    "        pred_ensemble_models_test[name] = base_models[name].predict(X_test_ensemble)\n",
    "        \n",
    "        print(name,': ', median_absolute_error(np.exp(y_test_ensemble)-1, np.exp(pred_ensemble_models_test[name])-1), sep = '')\n",
    "    \n",
    "    print('-'*25+' Ensemble Time '+'-'*25)\n",
    "    # Predict con el ensemble\n",
    "    for name, model in ensemble_models.items():\n",
    "        ensemble_models[name] = ensemble_models[name].fit(pred_ensemble_models, y_test)\n",
    "        \n",
    "        y_final_pred = ensemble_models[name].predict(pred_ensemble_models_test)\n",
    "        print(name,': ', median_absolute_error(np.exp(y_test_ensemble)-1, np.exp(y_final_pred)-1), sep = '')\n",
    "        "
   ]
  },
  {
   "cell_type": "code",
   "execution_count": 63,
   "metadata": {},
   "outputs": [
    {
     "name": "stdout",
     "output_type": "stream",
     "text": [
      "DecisionTreeRegressor5: 21.063599910030348\n",
      "DecisionTreeRegressor10: 22.01110696831278\n",
      "RandomForestRegressor20: 19.372475940478832\n",
      "RandomForestRegressor100: 19.26256822222018\n",
      "ExtraTreesRegressor50: 19.92827828170691\n",
      "GradientBoostingRegressor30_md5: 19.946835169495973\n",
      "XGB46: 19.309225502014158\n",
      "XGB60: 19.94895050048829\n",
      "------------------------- Ensemble Time -------------------------\n",
      "KNeighborsRegressor5: 21.082019094108173\n",
      "KNeighborsRegressor10: 20.09800783504063\n",
      "KNeighborsRegressor15: 19.68056200099302\n",
      "KNeighborsRegressor25: 18.992289615862127\n",
      "KNeighborsRegressor15dist: 19.8575438176082\n",
      "DecisionTreeRegressor5: 19.75\n",
      "DecisionTreeRegressor10: 22.26581188110176\n",
      "DecisionTreeRegressor20: 26.35\n",
      "RandomForestRegressor20: 19.061197238625546\n",
      "RandomForestRegressor40: 18.863888858686458\n",
      "RandomForestRegressor50: 19.65385773634836\n",
      "RandomForestRegressor100: 19.6358077222474\n",
      "RandomForestRegressor150: 19.670201942488664\n",
      "ExtraTreesRegressor10: 21.235944741935334\n",
      "ExtraTreesRegressor50: 20.549132922981983\n",
      "ExtraTreesRegressor100: 20.328711896333253\n",
      "ExtraTreesRegressor150: 20.442105780028243\n",
      "GradientBoostingRegressor30: 19.11357858997468\n",
      "GradientBoostingRegressor50: 19.032144632006357\n",
      "GradientBoostingRegressor100: 18.809465799263428\n",
      "GradientBoostingRegressor30_md5: 19.44301895061057\n",
      "GradientBoostingRegressor50_md5: 19.69736268789196\n",
      "GradientBoostingRegressor100_md5: 20.201946367329242\n",
      "GradientBoostingRegressor30_md10: 21.07083520629434\n",
      "GradientBoostingRegressor50_md10: 21.543066981551156\n",
      "GradientBoostingRegressor100_md10: 22.104891708986308\n",
      "XGB25: 19.1661117553711\n",
      "XGB46: 19.884191665649418\n",
      "XGB60: 20.211036834716786\n",
      "XGB100: 20.90570384979248\n",
      "XGB40_md15: 20.345688171386705\n"
     ]
    }
   ],
   "source": [
    "models2 = {\n",
    "    'DecisionTreeRegressor5':tree.DecisionTreeRegressor(max_depth = 5),\n",
    "    'DecisionTreeRegressor10':tree.DecisionTreeRegressor(max_depth = 10),\n",
    "    'RandomForestRegressor20':RandomForestRegressor(max_depth=5, n_estimators = 20, random_state=0),\n",
    "    'RandomForestRegressor100':RandomForestRegressor(max_depth=10, n_estimators = 100, random_state=0),\n",
    "    'ExtraTreesRegressor50':ExtraTreesRegressor(n_estimators=50,random_state=0),\n",
    "    'GradientBoostingRegressor30_md5':GradientBoostingRegressor(n_estimators=30, learning_rate=0.1, max_depth=5, random_state=0, loss='ls'),\n",
    "    'XGB46':XGBRegressor(max_depth = 10, n_estimators=46, random_state=7),\n",
    "    'XGB60':XGBRegressor(max_depth = 10, n_estimators=60, random_state=7)\n",
    "    }\n",
    "models3 = {\n",
    "    'DecisionTreeRegressor2':tree.DecisionTreeRegressor(max_depth = 2),\n",
    "    'DecisionTreeRegressor5':tree.DecisionTreeRegressor(max_depth = 5),\n",
    "    'RandomForestRegressor10_md2':RandomForestRegressor(max_depth=2, n_estimators = 10, random_state=0),\n",
    "    'RandomForestRegressor20':RandomForestRegressor(max_depth=5, n_estimators = 20, random_state=0),\n",
    "    'RandomForestRegressor100':RandomForestRegressor(max_depth=10, n_estimators = 100, random_state=0),\n",
    "    'ExtraTreesRegressor10':ExtraTreesRegressor(n_estimators=10,random_state=0),\n",
    "    'ExtraTreesRegressor50':ExtraTreesRegressor(n_estimators=50,random_state=0),\n",
    "    'GradientBoostingRegressor30_md5':GradientBoostingRegressor(n_estimators=30, learning_rate=0.1, max_depth=5, random_state=0),\n",
    "    'XGB46':XGBRegressor(max_depth = 10, n_estimators=46, random_state=7),\n",
    "    'XGB60':XGBRegressor(max_depth = 10, n_estimators=60, random_state=7)\n",
    "    }\n",
    "\n",
    "FitEnsembles(X[['HY_metros_utiles', 'GA_page_views', 'HY_precio', 'PV_cantidad_imagenes',\n",
    "                  'GA_exit_rate', 'GA_quincena_ini', 'GA_quincena_ult']], y,\n",
    "             base_models = models2, ensemble_models = models3)"
   ]
  },
  {
   "cell_type": "markdown",
   "metadata": {},
   "source": [
    "# Clustering "
   ]
  },
  {
   "cell_type": "code",
   "execution_count": 62,
   "metadata": {
    "scrolled": true
   },
   "outputs": [
    {
     "name": "stdout",
     "output_type": "stream",
     "text": [
      "------------------------- 2 -------------------------\n",
      "KNeighborsRegressor5: 25.28569953035789\n",
      "KNeighborsRegressor10: 24.05007265581657\n",
      "KNeighborsRegressor15: 23.740993570275634\n",
      "KNeighborsRegressor25: 23.30775115037642\n",
      "KNeighborsRegressor15dist: 23.46014218169929\n",
      "DecisionTreeRegressor5: 19.750837066689805\n",
      "DecisionTreeRegressor10: 20.693648336791966\n",
      "DecisionTreeRegressor20: 26.760000000000034\n",
      "RandomForestRegressor20: 19.172022758971586\n",
      "RandomForestRegressor40: 19.23992434095395\n",
      "RandomForestRegressor50: 18.521233012652772\n",
      "RandomForestRegressor100: 18.620476591228808\n",
      "RandomForestRegressor150: 18.620877540710538\n",
      "ExtraTreesRegressor10: 19.338455769706428\n",
      "ExtraTreesRegressor50: 18.516684899104504\n",
      "ExtraTreesRegressor100: 18.772514044261307\n",
      "ExtraTreesRegressor150: 18.748164452845483\n",
      "GradientBoostingRegressor30: 20.163402550669566\n",
      "GradientBoostingRegressor50: 19.858482103906873\n",
      "GradientBoostingRegressor100: 19.80370243003101\n",
      "GradientBoostingRegressor30_md5: 19.122257633282615\n",
      "GradientBoostingRegressor50_md5: 18.741576309048014\n",
      "GradientBoostingRegressor100_md5: 18.745442699172692\n",
      "GradientBoostingRegressor30_md10: 19.07653238648874\n",
      "GradientBoostingRegressor50_md10: 19.19438084021158\n",
      "GradientBoostingRegressor100_md10: 19.64271485432102\n",
      "XGB25: 18.16492950439455\n",
      "XGB46: 18.697662200927724\n",
      "XGB60: 18.97105438232424\n",
      "XGB100: 19.155258789062472\n",
      "XGB40_md15: 19.02151321411131\n",
      "------------------------- 4 -------------------------\n",
      "KNeighborsRegressor5: 25.28569953035789\n",
      "KNeighborsRegressor10: 24.05007265581657\n",
      "KNeighborsRegressor15: 23.740993570275634\n",
      "KNeighborsRegressor25: 23.30775115037642\n",
      "KNeighborsRegressor15dist: 23.46014218169929\n",
      "DecisionTreeRegressor5: 19.750837066689904\n",
      "DecisionTreeRegressor10: 20.49762527319288\n",
      "DecisionTreeRegressor20: 27.04\n",
      "RandomForestRegressor20: 19.172022758971586\n",
      "RandomForestRegressor40: 19.23992434095395\n",
      "RandomForestRegressor50: 18.46837380461144\n",
      "RandomForestRegressor100: 18.439898713318883\n",
      "RandomForestRegressor150: 18.58924142358299\n",
      "ExtraTreesRegressor10: 19.78182357934969\n",
      "ExtraTreesRegressor50: 18.62059096355695\n",
      "ExtraTreesRegressor100: 18.810430031546176\n",
      "ExtraTreesRegressor150: 18.911319832164544\n",
      "GradientBoostingRegressor30: 20.163402550669566\n",
      "GradientBoostingRegressor50: 19.858482103906873\n",
      "GradientBoostingRegressor100: 19.878878692761162\n",
      "GradientBoostingRegressor30_md5: 19.248838888382295\n",
      "GradientBoostingRegressor50_md5: 19.09069404086469\n",
      "GradientBoostingRegressor100_md5: 18.96566898427797\n",
      "GradientBoostingRegressor30_md10: 19.562288438688388\n",
      "GradientBoostingRegressor50_md10: 19.27311461740741\n",
      "GradientBoostingRegressor100_md10: 19.649323160334177\n",
      "XGB25: 18.70788055419922\n",
      "XGB46: 18.47266937255857\n",
      "XGB60: 18.60947402954102\n",
      "XGB100: 18.911372070312495\n",
      "XGB40_md15: 18.873190917968735\n",
      "------------------------- 6 -------------------------\n",
      "KNeighborsRegressor5: 25.28569953035789\n",
      "KNeighborsRegressor10: 24.05007265581657\n",
      "KNeighborsRegressor15: 23.740993570275634\n",
      "KNeighborsRegressor25: 23.30775115037642\n",
      "KNeighborsRegressor15dist: 23.46041690672098\n",
      "DecisionTreeRegressor5: 19.750837066689954\n",
      "DecisionTreeRegressor10: 20.307401124536483\n",
      "DecisionTreeRegressor20: 27.54600183774548\n",
      "RandomForestRegressor20: 19.180972892348578\n",
      "RandomForestRegressor40: 19.239924340953934\n",
      "RandomForestRegressor50: 18.456497255588474\n",
      "RandomForestRegressor100: 18.596108007719984\n",
      "RandomForestRegressor150: 18.63509817394997\n",
      "ExtraTreesRegressor10: 20.910351815592463\n",
      "ExtraTreesRegressor50: 19.241068521560308\n",
      "ExtraTreesRegressor100: 18.900322470227252\n",
      "ExtraTreesRegressor150: 18.561816458928384\n",
      "GradientBoostingRegressor30: 20.163402550669566\n",
      "GradientBoostingRegressor50: 19.858482103906873\n",
      "GradientBoostingRegressor100: 19.878878692761162\n",
      "GradientBoostingRegressor30_md5: 19.12360085833349\n",
      "GradientBoostingRegressor50_md5: 18.937659703447498\n",
      "GradientBoostingRegressor100_md5: 19.044559597867156\n",
      "GradientBoostingRegressor30_md10: 18.91000004486466\n",
      "GradientBoostingRegressor50_md10: 19.32678456358784\n",
      "GradientBoostingRegressor100_md10: 19.34451886404063\n",
      "XGB25: 18.532440185546854\n",
      "XGB46: 18.488234558105503\n",
      "XGB60: 18.786720275878928\n",
      "XGB100: 18.652504730224635\n",
      "XGB40_md15: 19.210908889770494\n",
      "------------------------- 10 -------------------------\n",
      "KNeighborsRegressor5: 25.28569953035789\n",
      "KNeighborsRegressor10: 24.05007265581657\n",
      "KNeighborsRegressor15: 23.730982571820782\n",
      "KNeighborsRegressor25: 23.30775115037642\n",
      "KNeighborsRegressor15dist: 23.45940947246227\n",
      "DecisionTreeRegressor5: 19.750837066689805\n",
      "DecisionTreeRegressor10: 20.499999999999936\n",
      "DecisionTreeRegressor20: 26.34999999999999\n",
      "RandomForestRegressor20: 19.180972892348635\n",
      "RandomForestRegressor40: 19.23992434095395\n",
      "RandomForestRegressor50: 18.560239260166412\n",
      "RandomForestRegressor100: 18.444258693665944\n",
      "RandomForestRegressor150: 18.502705873837108\n",
      "ExtraTreesRegressor10: 19.374443218367325\n",
      "ExtraTreesRegressor50: 18.82431780223338\n",
      "ExtraTreesRegressor100: 19.061919816519513\n",
      "ExtraTreesRegressor150: 18.520584258992677\n",
      "GradientBoostingRegressor30: 20.163402550669566\n",
      "GradientBoostingRegressor50: 19.858482103906873\n",
      "GradientBoostingRegressor100: 19.878878692761162\n",
      "GradientBoostingRegressor30_md5: 18.999584253374564\n",
      "GradientBoostingRegressor50_md5: 18.896319503556875\n",
      "GradientBoostingRegressor100_md5: 18.944865885740114\n",
      "GradientBoostingRegressor30_md10: 18.90823151764632\n",
      "GradientBoostingRegressor50_md10: 18.793832513700835\n",
      "GradientBoostingRegressor100_md10: 18.782816886954116\n",
      "XGB25: 18.546423568725587\n",
      "XGB46: 18.505841522216794\n",
      "XGB60: 18.47613616943363\n",
      "XGB100: 18.480070495605446\n",
      "XGB40_md15: 18.886413269043075\n"
     ]
    }
   ],
   "source": [
    "from sklearn.cluster import KMeans\n",
    "\n",
    "for i in [2,4,6,10]:\n",
    "    print('-'*25+' {} '.format(i)+'-'*25)\n",
    "    kmeans = KMeans(n_clusters=i, random_state=0).fit(X)\n",
    "    X['PV_kmeans'] = kmeans.labels_\n",
    "    \n",
    "    EntrenarModelos(X, y, models, ['PV_idea_pca', 'PV_idea_pca2', 'HY_metros_totales', 'HY_num_terrazas',\n",
    "           'HY_ascensor', 'HY_trastero', 'HY_precio_anterior', 'PV_ind_elasticidad','PV_precio_anterior', \n",
    "           'PV_longitud_distribucion'])"
   ]
  },
  {
   "cell_type": "code",
   "execution_count": 69,
   "metadata": {},
   "outputs": [
    {
     "name": "stdout",
     "output_type": "stream",
     "text": [
      "KNeighborsRegressor5: 22.847764874669686\n",
      "KNeighborsRegressor10: 22.065836022935432\n",
      "KNeighborsRegressor15: 21.463244723813766\n",
      "KNeighborsRegressor25: 21.73459097677236\n",
      "KNeighborsRegressor15dist: 21.505503135942174\n",
      "DecisionTreeRegressor5: 18.22678446080793\n",
      "DecisionTreeRegressor10: 19.10487425310106\n",
      "DecisionTreeRegressor20: 24.4733629623258\n",
      "RandomForestRegressor20: 17.516599038626925\n",
      "RandomForestRegressor40: 17.652760252882466\n",
      "RandomForestRegressor50: 17.077362028923147\n",
      "RandomForestRegressor100: 17.234448777305328\n",
      "RandomForestRegressor150: 17.392189004063116\n",
      "ExtraTreesRegressor10: 18.854979688146578\n",
      "ExtraTreesRegressor50: 18.01307830581301\n",
      "ExtraTreesRegressor100: 17.74103535233655\n",
      "ExtraTreesRegressor150: 17.70387266247318\n",
      "GradientBoostingRegressor30: 18.38401639450595\n",
      "GradientBoostingRegressor50: 18.231492082094\n",
      "GradientBoostingRegressor100: 18.02409065967376\n",
      "GradientBoostingRegressor30_md5: 17.539776816582894\n",
      "GradientBoostingRegressor50_md5: 17.446090625053937\n",
      "GradientBoostingRegressor100_md5: 17.237831078993437\n",
      "GradientBoostingRegressor30_md10: 18.099705556389097\n",
      "GradientBoostingRegressor50_md10: 17.915846581922974\n",
      "GradientBoostingRegressor100_md10: 18.27494973455753\n",
      "GradientBoostingRegressor30_nols: 18.38401639450595\n",
      "GradientBoostingRegressor50_nols: 18.231492082094\n",
      "GradientBoostingRegressor100_nols: 18.02409065967376\n",
      "GradientBoostingRegressor30_md5_nols: 17.539776816582894\n",
      "GradientBoostingRegressor50_md5_nols: 17.446090625053937\n",
      "GradientBoostingRegressor100_md5_nols: 17.237831078993437\n",
      "GradientBoostingRegressor30_md10_nols: 18.099705556389097\n",
      "GradientBoostingRegressor50_md10_nols: 17.915846581922974\n",
      "GradientBoostingRegressor100_md10_nols: 18.27494973455753\n",
      "XGB25: 17.222003250122082\n",
      "XGB46: 17.78209228515625\n",
      "XGB60: 18.039080810546864\n",
      "XGB100: 18.192061500549322\n",
      "XGB40_md15: 17.77552314758303\n"
     ]
    }
   ],
   "source": [
    "EntrenarModelos(X[np.exp(y)-1<=200][['HY_metros_utiles', 'GA_page_views', 'HY_precio', 'PV_cantidad_imagenes',\n",
    "                  'GA_exit_rate', 'GA_quincena_ini', 'GA_quincena_ult']], y[np.exp(y)-1<=200], models, [])"
   ]
  },
  {
   "cell_type": "code",
   "execution_count": 93,
   "metadata": {},
   "outputs": [
    {
     "name": "stdout",
     "output_type": "stream",
     "text": [
      "KNeighborsRegressor5: 22.039799274538808\n",
      "KNeighborsRegressor10: 21.17396790183258\n",
      "KNeighborsRegressor15: 20.838028574996496\n",
      "KNeighborsRegressor25: 20.75587204792587\n",
      "KNeighborsRegressor15dist: 20.94536802283134\n",
      "DecisionTreeRegressor5: 17.470494662045944\n",
      "DecisionTreeRegressor10: 18.428009978198702\n",
      "DecisionTreeRegressor20: 23.770000000000017\n",
      "RandomForestRegressor20: 16.918607247292726\n",
      "RandomForestRegressor40: 16.82919679618275\n",
      "RandomForestRegressor50: 17.132772839492958\n",
      "RandomForestRegressor100: 16.862261122426347\n",
      "RandomForestRegressor150: 16.76267983805804\n",
      "ExtraTreesRegressor10: 17.7792824013638\n",
      "ExtraTreesRegressor50: 17.14800194934731\n",
      "ExtraTreesRegressor100: 17.083850245078555\n",
      "ExtraTreesRegressor150: 17.078946775482137\n",
      "GradientBoostingRegressor30: 17.685462614744477\n",
      "GradientBoostingRegressor50: 17.385016901052296\n",
      "GradientBoostingRegressor100: 17.153620421072695\n",
      "GradientBoostingRegressor30_md5: 16.893944057520628\n",
      "GradientBoostingRegressor50_md5: 16.977104910944654\n",
      "GradientBoostingRegressor100_md5: 17.29459120418405\n",
      "GradientBoostingRegressor30_md10: 17.901006061028077\n",
      "GradientBoostingRegressor50_md10: 18.08775572473366\n",
      "GradientBoostingRegressor100_md10: 18.122911113903996\n",
      "GradientBoostingRegressor30_nols: 17.685462614744477\n",
      "GradientBoostingRegressor50_nols: 17.385016901052296\n",
      "GradientBoostingRegressor100_nols: 17.153620421072695\n",
      "GradientBoostingRegressor30_md5_nols: 16.893944057520628\n",
      "GradientBoostingRegressor50_md5_nols: 16.977104910944654\n",
      "GradientBoostingRegressor100_md5_nols: 17.29459120418405\n",
      "GradientBoostingRegressor30_md10_nols: 17.901006061028077\n",
      "GradientBoostingRegressor50_md10_nols: 18.08775572473366\n",
      "GradientBoostingRegressor100_md10_nols: 18.122911113903996\n",
      "XGB25: 16.473443756103507\n",
      "XGB46: 16.625019073486314\n",
      "XGB60: 17.081892852783206\n",
      "XGB100: 17.351760864257812\n",
      "XGB40_md15: 16.901196136474603\n"
     ]
    }
   ],
   "source": [
    "EntrenarModelos(X[np.exp(y)-1<=172][['HY_metros_utiles', 'GA_page_views', 'HY_precio', 'PV_cantidad_imagenes',\n",
    "                  'GA_exit_rate', 'GA_quincena_ini', 'GA_quincena_ult']], y[np.exp(y)-1<=172], models, [])"
   ]
  },
  {
   "cell_type": "code",
   "execution_count": 94,
   "metadata": {},
   "outputs": [
    {
     "data": {
      "text/plain": [
       "(7827, 28)"
      ]
     },
     "execution_count": 94,
     "metadata": {},
     "output_type": "execute_result"
    }
   ],
   "source": [
    "X[np.exp(y)-1<=172].shape"
   ]
  },
  {
   "cell_type": "code",
   "execution_count": 75,
   "metadata": {},
   "outputs": [
    {
     "name": "stdout",
     "output_type": "stream",
     "text": [
      "KNeighborsRegressor5: 23.03302207778817\n",
      "KNeighborsRegressor10: 21.251792561086393\n",
      "KNeighborsRegressor15: 21.454677310810908\n",
      "KNeighborsRegressor25: 21.26452965636928\n",
      "KNeighborsRegressor15dist: 21.22251775352023\n",
      "DecisionTreeRegressor5: 18.054235179784484\n",
      "DecisionTreeRegressor10: 19.335189607170218\n",
      "DecisionTreeRegressor20: 24.503505724148674\n",
      "RandomForestRegressor20: 17.458912367143473\n",
      "RandomForestRegressor40: 17.65314276772361\n",
      "RandomForestRegressor50: 17.174167377108624\n",
      "RandomForestRegressor100: 17.325746699523872\n",
      "RandomForestRegressor150: 17.085890829080263\n",
      "ExtraTreesRegressor10: 17.703134592902106\n",
      "ExtraTreesRegressor50: 17.483516469479163\n",
      "ExtraTreesRegressor100: 17.19423585567175\n",
      "ExtraTreesRegressor150: 17.01482687807235\n",
      "GradientBoostingRegressor30: 18.32805468901148\n",
      "GradientBoostingRegressor50: 17.99676647307614\n",
      "GradientBoostingRegressor100: 17.933807072325536\n",
      "GradientBoostingRegressor30_md5: 17.671536501090493\n",
      "GradientBoostingRegressor50_md5: 17.524663782441607\n",
      "GradientBoostingRegressor100_md5: 17.370996680042495\n",
      "GradientBoostingRegressor30_md10: 17.645782125238995\n",
      "GradientBoostingRegressor50_md10: 17.795885151421555\n",
      "GradientBoostingRegressor100_md10: 17.71800565878085\n",
      "GradientBoostingRegressor30_nols: 18.32805468901148\n",
      "GradientBoostingRegressor50_nols: 17.99676647307614\n",
      "GradientBoostingRegressor100_nols: 17.933807072325536\n",
      "GradientBoostingRegressor30_md5_nols: 17.671536501090493\n",
      "GradientBoostingRegressor50_md5_nols: 17.524663782441607\n",
      "GradientBoostingRegressor100_md5_nols: 17.370996680042495\n",
      "GradientBoostingRegressor30_md10_nols: 17.645782125238995\n",
      "GradientBoostingRegressor50_md10_nols: 17.795885151421555\n",
      "GradientBoostingRegressor100_md10_nols: 17.71800565878085\n",
      "XGB25: 17.26624290466308\n",
      "XGB46: 17.14101913452148\n",
      "XGB60: 17.735567092895508\n",
      "XGB100: 17.9232068634033\n",
      "XGB40_md15: 17.991216812133818\n"
     ]
    }
   ],
   "source": [
    "EntrenarModelos(X[np.exp(y)-1<=200], y[np.exp(y)-1<=200], models, [])"
   ]
  },
  {
   "cell_type": "markdown",
   "metadata": {},
   "source": [
    "# Algoritmo forward"
   ]
  },
  {
   "cell_type": "code",
   "execution_count": 74,
   "metadata": {
    "collapsed": true
   },
   "outputs": [],
   "source": [
    "def Entrenar(X,y,model):\n",
    "    X_train, X_test, y_train, y_test = train_test_split(X, y, test_size=0.3, random_state=7)\n",
    "    \n",
    "    model = model.fit(X_train, y_train)\n",
    "    \n",
    "    y_pred = model.predict(X_test)\n",
    "    error = median_absolute_error(np.exp(y_test)-1, np.exp(y_pred)-1)\n",
    "    \n",
    "    return error\n",
    "\n",
    "def EntrenarForward(X, y, model, ini_vars):\n",
    "    '''\n",
    "    X,y --> Nuestra data\n",
    "    model --> un modelo\n",
    "    ini_vars --> variables con las que comenzamos\n",
    "    '''\n",
    "    # Variable que indica si hemos terminado\n",
    "    fin = False\n",
    "    \n",
    "    # Variables con las que estamos trabajando\n",
    "    current_vars = ini_vars\n",
    "    all_vars = X.columns\n",
    "    possible_vars = np.setdiff1d(all_vars, current_vars)\n",
    "    \n",
    "    while not fin and len(possible_vars) > 0: # Lo que antes pase\n",
    "        possible_vars = np.setdiff1d(all_vars, current_vars)\n",
    "        \n",
    "        if len(current_vars) == 0:\n",
    "            # Si no tenemos variables, cuestro error es inf\n",
    "            best_error = np.inf\n",
    "        else:\n",
    "            base_error = Entrenar(X[current_vars], y, model)\n",
    "            best_error = base_error\n",
    "        \n",
    "        best_var = ''\n",
    "        for var in possible_vars:\n",
    "            var_error = Entrenar(X[current_vars+[var]],y,model)\n",
    "            \n",
    "            if var_error < best_error:\n",
    "                best_error = var_error\n",
    "                best_var = var\n",
    "        \n",
    "        print('Best var: {} --> {:.4f}'.format(best_var, best_error))\n",
    "        # Si tenemos una best_var        \n",
    "        if len(best_var) > 0:\n",
    "            current_vars += [best_var]\n",
    "        else: \n",
    "            fin = True\n",
    "            \n",
    "    print('Best vars:', current_vars)\n",
    "    print('Best error:', best_error)\n",
    "    \n",
    "    return best_error"
   ]
  },
  {
   "cell_type": "code",
   "execution_count": 5,
   "metadata": {},
   "outputs": [
    {
     "name": "stdout",
     "output_type": "stream",
     "text": [
      "Best var: GA_exit_rate --> 20.4554\n",
      "Best var: PV_pca2 --> 19.5107\n",
      "Best var: PV_longitud_descripcion --> 19.0807\n",
      "Best var: GA_page_views --> 18.5486\n",
      "Best var: PV_cantidad_imagenes --> 18.2466\n",
      "Best var: GA_quincena_ini --> 17.9110\n",
      "Best var: PV_idea_pca --> 17.6864\n",
      "Best var:  --> 17.6864\n",
      "Best vars: ['HY_precio', 'GA_exit_rate', 'PV_pca2', 'PV_longitud_descripcion', 'GA_page_views', 'PV_cantidad_imagenes', 'GA_quincena_ini', 'PV_idea_pca']\n",
      "Best error: 17.68644958496104\n"
     ]
    },
    {
     "data": {
      "text/plain": [
       "17.68644958496104"
      ]
     },
     "execution_count": 5,
     "metadata": {},
     "output_type": "execute_result"
    }
   ],
   "source": [
    "EntrenarForward(X, y, XGBRegressor(max_depth = 10, n_estimators=46, random_state=7), ['HY_precio'])"
   ]
  },
  {
   "cell_type": "code",
   "execution_count": 8,
   "metadata": {},
   "outputs": [
    {
     "name": "stdout",
     "output_type": "stream",
     "text": [
      "Best var: GA_exit_rate --> 19.9742\n",
      "Best var: PV_pca1 --> 19.2516\n",
      "Best var: GA_page_views --> 19.0631\n",
      "Best var: GA_quincena_ini --> 18.7087\n",
      "Best var: PV_cantidad_imagenes --> 18.6170\n",
      "Best var: HY_metros_totales --> 18.2472\n",
      "Best var:  --> 18.2472\n",
      "Best vars: ['HY_precio', 'GA_exit_rate', 'PV_pca1', 'GA_page_views', 'GA_quincena_ini', 'PV_cantidad_imagenes', 'HY_metros_totales']\n",
      "Best error: 18.24720764160149\n"
     ]
    },
    {
     "data": {
      "text/plain": [
       "18.24720764160149"
      ]
     },
     "execution_count": 8,
     "metadata": {},
     "output_type": "execute_result"
    }
   ],
   "source": [
    "EntrenarForward(X, y, XGBRegressor(max_depth = 10, \n",
    "    n_estimators = 46, \n",
    "    reg_lambda = 0.8,\n",
    "    learning_rate = 0.1,\n",
    "    subsample = 0.5,\n",
    "    colsample_bytree = 0.6,\n",
    "    objective = 'reg:linear',\n",
    "    random_state = 7),\n",
    "                ['HY_precio'])"
   ]
  },
  {
   "cell_type": "code",
   "execution_count": 77,
   "metadata": {},
   "outputs": [
    {
     "name": "stdout",
     "output_type": "stream",
     "text": [
      "Best var: GA_exit_rate --> 19.9742\n",
      "Best var: PV_pca1 --> 19.2516\n",
      "Best var: GA_page_views --> 19.0631\n",
      "Best var: GA_quincena_ini --> 18.7087\n",
      "Best var: PV_cantidad_imagenes --> 18.6170\n",
      "Best var: HY_metros_totales --> 18.2472\n",
      "Best var:  --> 18.2472\n",
      "Best vars: ['HY_precio', 'GA_exit_rate', 'PV_pca1', 'GA_page_views', 'GA_quincena_ini', 'PV_cantidad_imagenes', 'HY_metros_totales']\n",
      "Best error: 18.24720764160149\n"
     ]
    },
    {
     "data": {
      "text/plain": [
       "18.24720764160149"
      ]
     },
     "execution_count": 77,
     "metadata": {},
     "output_type": "execute_result"
    }
   ],
   "source": [
    "EntrenarForward(X, y, XGBRegressor(max_depth = 10, \n",
    "    n_estimators = 46, \n",
    "    reg_lambda = 0.8,\n",
    "    learning_rate = 0.1,\n",
    "    subsample = 0.5,\n",
    "    colsample_bytree = 0.6,\n",
    "    objective = 'reg:linear',\n",
    "    random_state = 7),\n",
    "                ['HY_precio'])"
   ]
  },
  {
   "cell_type": "code",
   "execution_count": 80,
   "metadata": {},
   "outputs": [
    {
     "name": "stdout",
     "output_type": "stream",
     "text": [
      "Best var: GA_exit_rate --> 19.4558\n",
      "Best var: PV_pca2 --> 18.9989\n",
      "Best var: PV_precio_anterior --> 18.9127\n",
      "Best var: HY_num_terrazas --> 18.6914\n",
      "Best var:  --> 18.6914\n",
      "Best vars: ['GA_exit_rate', 'PV_pca2', 'PV_precio_anterior', 'HY_num_terrazas']\n",
      "Best error: 18.691410522460913\n"
     ]
    },
    {
     "data": {
      "text/plain": [
       "18.691410522460913"
      ]
     },
     "execution_count": 80,
     "metadata": {},
     "output_type": "execute_result"
    }
   ],
   "source": [
    "EntrenarForward(X_norm, y, XGBRegressor(max_depth = 10, \n",
    "    n_estimators = 46, \n",
    "    reg_lambda = 0.8,\n",
    "    learning_rate = 0.1,\n",
    "    subsample = 0.5,\n",
    "    colsample_bytree = 0.6,\n",
    "    objective = 'reg:linear',\n",
    "    random_state = 7),\n",
    "                [])"
   ]
  },
  {
   "cell_type": "code",
   "execution_count": 81,
   "metadata": {},
   "outputs": [
    {
     "name": "stdout",
     "output_type": "stream",
     "text": [
      "Best var: GA_exit_rate --> 19.8759\n",
      "Best var: PV_pca2 --> 19.0018\n",
      "Best var: PV_cantidad_imagenes --> 18.6689\n",
      "Best var: HY_ascensor --> 18.5837\n",
      "Best var:  --> 18.5837\n",
      "Best vars: ['GA_exit_rate', 'PV_pca2', 'PV_cantidad_imagenes', 'HY_ascensor']\n",
      "Best error: 18.583722534179728\n"
     ]
    },
    {
     "data": {
      "text/plain": [
       "18.583722534179728"
      ]
     },
     "execution_count": 81,
     "metadata": {},
     "output_type": "execute_result"
    }
   ],
   "source": [
    "EntrenarForward(X, y, XGBRegressor(max_d = 9,\n",
    "                                        min_child = 7,\n",
    "                                        subs = 1.0,\n",
    "                                        col_sample = 0.5,\n",
    "                                        n_est = 80,\n",
    "                                        learn_rate = 0.05 ,\n",
    "                                        rg_alpha = 0.4,\n",
    "                                        rg_lambda = 0.5,\n",
    "                                        random_state = 7),\n",
    "                [])"
   ]
  },
  {
   "cell_type": "code",
   "execution_count": 86,
   "metadata": {},
   "outputs": [
    {
     "name": "stdout",
     "output_type": "stream",
     "text": [
      "Best var: GA_exit_rate --> 19.8759\n",
      "Best var: PV_pca2 --> 19.0018\n",
      "Best var: PV_cantidad_imagenes --> 18.6689\n",
      "Best var: HY_ascensor --> 18.5837\n",
      "Best var:  --> 18.5837\n",
      "Best vars: ['GA_exit_rate', 'PV_pca2', 'PV_cantidad_imagenes', 'HY_ascensor']\n",
      "Best error: 18.583722534179728\n"
     ]
    },
    {
     "data": {
      "text/plain": [
       "18.583722534179728"
      ]
     },
     "execution_count": 86,
     "metadata": {},
     "output_type": "execute_result"
    }
   ],
   "source": [
    "EntrenarForward(X_norm, y, XGBRegressor(max_d = 9,\n",
    "                                        min_child = 7,\n",
    "                                        subs = 1.0,\n",
    "                                        col_sample = 0.5,\n",
    "                                        n_est = 80,\n",
    "                                        learn_rate = 0.05 ,\n",
    "                                        rg_alpha = 0.4,\n",
    "                                        rg_lambda = 0.5,\n",
    "                                        random_state = 7),\n",
    "                [])"
   ]
  },
  {
   "cell_type": "code",
   "execution_count": 93,
   "metadata": {
    "collapsed": true
   },
   "outputs": [],
   "source": [
    "models = {\n",
    "    'DecisionTreeRegressor5':tree.DecisionTreeRegressor(max_depth = 5),\n",
    "    'DecisionTreeRegressor10':tree.DecisionTreeRegressor(max_depth = 10),\n",
    "    'RandomForestRegressor20':RandomForestRegressor(max_depth=5, n_estimators = 20, random_state=0),\n",
    "    'RandomForestRegressor40':RandomForestRegressor(max_depth=3, n_estimators = 40, random_state=0),\n",
    "    'RandomForestRegressor50':RandomForestRegressor(max_depth=10, n_estimators = 50, random_state=0),\n",
    "    'RandomForestRegressor100':RandomForestRegressor(max_depth=10, n_estimators = 100, random_state=0),\n",
    "    'RandomForestRegressor150':RandomForestRegressor(max_depth=10, n_estimators = 150, random_state=0),\n",
    "    'ExtraTreesRegressor10':ExtraTreesRegressor(n_estimators=10,random_state=0),\n",
    "    'ExtraTreesRegressor50':ExtraTreesRegressor(n_estimators=50,random_state=0),\n",
    "    'ExtraTreesRegressor100':ExtraTreesRegressor(n_estimators=100, random_state=0),\n",
    "    'ExtraTreesRegressor150':ExtraTreesRegressor(n_estimators=150, random_state=0),\n",
    "    'GradientBoostingRegressor30_md5':GradientBoostingRegressor(n_estimators=30, learning_rate=0.1, max_depth=5, random_state=0, loss='ls'),\n",
    "    'GradientBoostingRegressor50_md5':GradientBoostingRegressor(n_estimators=50, learning_rate=0.1, max_depth=5, random_state=0, loss='ls'),\n",
    "    'GradientBoostingRegressor100_md5':GradientBoostingRegressor(n_estimators=100, learning_rate=0.1, max_depth=5, random_state=0, loss='ls'),\n",
    "    'GradientBoostingRegressor30_md10':GradientBoostingRegressor(n_estimators=30, learning_rate=0.1, max_depth=10, random_state=0, loss='ls'),\n",
    "    'GradientBoostingRegressor50_md10':GradientBoostingRegressor(n_estimators=50, learning_rate=0.1, max_depth=10, random_state=0, loss='ls'),\n",
    "    'GradientBoostingRegressor100_md10':GradientBoostingRegressor(n_estimators=100, learning_rate=0.1, max_depth=10, random_state=0, loss='ls'),\n",
    "    'XGB25':XGBRegressor(max_depth = 10, n_estimators=25, random_state=7),\n",
    "    'XGB46':XGBRegressor(max_depth = 10, n_estimators=46, random_state=7),\n",
    "    'XGB60':XGBRegressor(max_depth = 10, n_estimators=60, random_state=7),\n",
    "    'XGB100':XGBRegressor(max_depth = 10, n_estimators=100, random_state=7),\n",
    "    'XGB40_md15':XGBRegressor(max_depth = 15, n_estimators=50, random_state=7)\n",
    "    }"
   ]
  },
  {
   "cell_type": "code",
   "execution_count": 94,
   "metadata": {
    "scrolled": true
   },
   "outputs": [
    {
     "name": "stdout",
     "output_type": "stream",
     "text": [
      "************************* DecisionTreeRegressor5 *************************\n",
      "Best var: GA_page_views --> 20.3559\n",
      "Best var: GA_exit_rate --> 19.0029\n",
      "Best var: IDEA_pc_1990_99 --> 18.9813\n",
      "Best var: HY_trastero --> 18.9791\n",
      "Best var: GA_quincena_ult --> 18.9457\n",
      "Best var: PV_pca2 --> 18.8873\n",
      "Best var: GA_mean_bounce --> 18.8873\n",
      "Best var: HY_ascensor --> 18.8873\n",
      "Best var:  --> 18.8873\n",
      "Best vars: ['HY_precio', 'GA_page_views', 'GA_exit_rate', 'IDEA_pc_1990_99', 'HY_trastero', 'GA_quincena_ult', 'PV_pca2', 'GA_mean_bounce', 'HY_ascensor']\n",
      "Best error: 18.887303633375527\n",
      "************************* DecisionTreeRegressor10 *************************\n",
      "Best var: GA_exit_rate --> 21.2007\n",
      "Best var: PV_longitud_distribucion --> 20.7848\n",
      "Best var: HY_num_terrazas --> 20.7848\n",
      "Best var:  --> 20.7771\n",
      "Best vars: ['HY_precio', 'GA_exit_rate', 'PV_longitud_distribucion', 'HY_num_terrazas']\n",
      "Best error: 20.777084847169178\n",
      "************************* RandomForestRegressor20 *************************\n",
      "Best var: GA_page_views --> 20.2751\n",
      "Best var: GA_exit_rate --> 19.3324\n",
      "Best var: PV_pca3 --> 19.0018\n",
      "Best var: HY_ascensor --> 18.9794\n",
      "Best var: HY_metros_totales --> 18.9709\n",
      "Best var: PV_cantidad_imagenes --> 18.8336\n",
      "Best var: PV_precio_anterior --> 18.7916\n",
      "Best var:  --> 18.7916\n",
      "Best vars: ['HY_precio', 'GA_page_views', 'GA_exit_rate', 'PV_pca3', 'HY_ascensor', 'HY_metros_totales', 'PV_cantidad_imagenes', 'PV_precio_anterior']\n",
      "Best error: 18.79159834790957\n",
      "************************* RandomForestRegressor40 *************************\n",
      "Best var: GA_page_views --> 20.1686\n",
      "Best var: GA_exit_rate --> 19.2972\n",
      "Best var: PV_longitud_descripcion --> 19.0288\n",
      "Best var: IDEA_pc_1960_69 --> 18.9955\n",
      "Best var:  --> 18.9955\n",
      "Best vars: ['HY_precio', 'GA_page_views', 'GA_exit_rate', 'PV_longitud_descripcion', 'IDEA_pc_1960_69']\n",
      "Best error: 18.995464520946904\n",
      "************************* RandomForestRegressor50 *************************\n",
      "Best var: GA_exit_rate --> 20.6214\n",
      "Best var: GA_page_views --> 19.4959\n",
      "Best var: PV_longitud_descripcion --> 18.8212\n",
      "Best var: PV_pca1 --> 18.3600\n",
      "Best var: HY_ascensor --> 18.3314\n",
      "Best var: HY_num_terrazas --> 18.2808\n",
      "Best var:  --> 18.2808\n",
      "Best vars: ['HY_precio', 'GA_exit_rate', 'GA_page_views', 'PV_longitud_descripcion', 'PV_pca1', 'HY_ascensor', 'HY_num_terrazas']\n",
      "Best error: 18.28083248661629\n",
      "************************* RandomForestRegressor100 *************************\n",
      "Best var: GA_exit_rate --> 20.4638\n",
      "Best var: GA_page_views --> 19.4785\n",
      "Best var: PV_longitud_descripcion --> 18.6581\n",
      "Best var: PV_pca1 --> 18.5801\n",
      "Best var: HY_ascensor --> 18.4396\n",
      "Best var: HY_precio_anterior --> 18.3177\n",
      "Best var:  --> 18.3177\n",
      "Best vars: ['HY_precio', 'GA_exit_rate', 'GA_page_views', 'PV_longitud_descripcion', 'PV_pca1', 'HY_ascensor', 'HY_precio_anterior']\n",
      "Best error: 18.317690834529138\n",
      "************************* RandomForestRegressor150 *************************\n",
      "Best var: GA_exit_rate --> 20.3985\n",
      "Best var: GA_page_views --> 19.6128\n",
      "Best var: PV_longitud_descripcion --> 18.7433\n",
      "Best var: PV_pca1 --> 18.5164\n",
      "Best var: GA_quincena_ult --> 18.4669\n",
      "Best var: PV_precio_metro --> 18.3618\n",
      "Best var: IDEA_pc_1980_89 --> 18.2626\n",
      "Best var: PV_cantidad_imagenes --> 18.1670\n",
      "Best var: PV_longitud_distribucion --> 18.0013\n",
      "Best var:  --> 18.0013\n",
      "Best vars: ['HY_precio', 'GA_exit_rate', 'GA_page_views', 'PV_longitud_descripcion', 'PV_pca1', 'GA_quincena_ult', 'PV_precio_metro', 'IDEA_pc_1980_89', 'PV_cantidad_imagenes', 'PV_longitud_distribucion']\n",
      "Best error: 18.001296635527275\n",
      "************************* ExtraTreesRegressor10 *************************\n",
      "Best var: GA_mean_bounce --> 24.5033\n",
      "Best var: GA_exit_rate --> 22.7428\n",
      "Best var: PV_pca1 --> 22.0248\n",
      "Best var: GA_page_views --> 21.3453\n",
      "Best var: PV_precio_metro --> 19.9821\n",
      "Best var: PV_longitud_distribucion --> 19.8283\n",
      "Best var:  --> 19.8283\n",
      "Best vars: ['HY_precio', 'GA_mean_bounce', 'GA_exit_rate', 'PV_pca1', 'GA_page_views', 'PV_precio_metro', 'PV_longitud_distribucion']\n",
      "Best error: 19.82834009148654\n",
      "************************* ExtraTreesRegressor50 *************************\n",
      "Best var: GA_mean_bounce --> 24.4264\n",
      "Best var: GA_exit_rate --> 22.5389\n",
      "Best var: PV_pca2 --> 20.7479\n",
      "Best var: PV_precio_metro --> 20.4854\n",
      "Best var: GA_page_views --> 20.0305\n",
      "Best var: PV_pca3 --> 19.2786\n",
      "Best var: GA_quincena_ini --> 19.0252\n",
      "Best var: IDEA_pc_1970_79 --> 18.7538\n",
      "Best var:  --> 18.7538\n",
      "Best vars: ['HY_precio', 'GA_mean_bounce', 'GA_exit_rate', 'PV_pca2', 'PV_precio_metro', 'GA_page_views', 'PV_pca3', 'GA_quincena_ini', 'IDEA_pc_1970_79']\n",
      "Best error: 18.75384200892107\n",
      "************************* ExtraTreesRegressor100 *************************\n",
      "Best var: GA_page_views --> 24.1987\n",
      "Best var: GA_exit_rate --> 21.6593\n",
      "Best var: GA_quincena_ini --> 19.6153\n",
      "Best var: PV_pca3 --> 18.6582\n",
      "Best var: PV_idea_pca --> 18.4956\n",
      "Best var: IDEA_pc_1980_89 --> 18.1442\n",
      "Best var: HY_precio_anterior --> 17.9115\n",
      "Best var:  --> 17.9115\n",
      "Best vars: ['HY_precio', 'GA_page_views', 'GA_exit_rate', 'GA_quincena_ini', 'PV_pca3', 'PV_idea_pca', 'IDEA_pc_1980_89', 'HY_precio_anterior']\n",
      "Best error: 17.911452225155465\n",
      "************************* ExtraTreesRegressor150 *************************\n",
      "Best var: GA_exit_rate --> 24.1219\n",
      "Best var: GA_page_views --> 21.5883\n",
      "Best var: GA_quincena_ini --> 19.4943\n",
      "Best var: PV_idea_pca --> 18.5825\n",
      "Best var: PV_precio_metro --> 18.3623\n",
      "Best var: PV_pca3 --> 17.9488\n",
      "Best var:  --> 17.9488\n",
      "Best vars: ['HY_precio', 'GA_exit_rate', 'GA_page_views', 'GA_quincena_ini', 'PV_idea_pca', 'PV_precio_metro', 'PV_pca3']\n",
      "Best error: 17.948801037458182\n",
      "************************* GradientBoostingRegressor30_md5 *************************\n",
      "Best var: GA_exit_rate --> 19.9249\n",
      "Best var: GA_page_views --> 19.2929\n",
      "Best var: IDEA_pc_1990_99 --> 18.5949\n",
      "Best var: IDEA_pc_1980_89 --> 18.4868\n",
      "Best var: PV_kmeans --> 18.4629\n",
      "Best var:  --> 18.4629\n",
      "Best vars: ['HY_precio', 'GA_exit_rate', 'GA_page_views', 'IDEA_pc_1990_99', 'IDEA_pc_1980_89', 'PV_kmeans']\n",
      "Best error: 18.462914379735274\n",
      "************************* GradientBoostingRegressor50_md5 *************************\n",
      "Best var: GA_exit_rate --> 19.9403\n",
      "Best var: GA_page_views --> 19.2080\n",
      "Best var: GA_quincena_ini --> 18.5802\n",
      "Best var: PV_cantidad_imagenes --> 18.4956\n",
      "Best var: HY_num_terrazas --> 18.3223\n",
      "Best var:  --> 18.3223\n",
      "Best vars: ['HY_precio', 'GA_exit_rate', 'GA_page_views', 'GA_quincena_ini', 'PV_cantidad_imagenes', 'HY_num_terrazas']\n",
      "Best error: 18.322250157460417\n",
      "************************* GradientBoostingRegressor100_md5 *************************\n",
      "Best var: GA_exit_rate --> 19.8331\n",
      "Best var: GA_page_views --> 19.4908\n",
      "Best var: IDEA_pc_1980_89 --> 18.5523\n",
      "Best var: HY_num_terrazas --> 18.5437\n",
      "Best var:  --> 18.5437\n",
      "Best vars: ['HY_precio', 'GA_exit_rate', 'GA_page_views', 'IDEA_pc_1980_89', 'HY_num_terrazas']\n",
      "Best error: 18.54374150928759\n",
      "************************* GradientBoostingRegressor30_md10 *************************\n",
      "Best var: GA_exit_rate --> 21.1358\n",
      "Best var: GA_page_views --> 20.1363\n",
      "Best var: IDEA_pc_1970_79 --> 19.6662\n",
      "Best var: PV_longitud_descripcion --> 19.3338\n",
      "Best var:  --> 19.3338\n",
      "Best vars: ['HY_precio', 'GA_exit_rate', 'GA_page_views', 'IDEA_pc_1970_79', 'PV_longitud_descripcion']\n",
      "Best error: 19.333797011488436\n",
      "************************* GradientBoostingRegressor50_md10 *************************\n",
      "Best var: GA_exit_rate --> 21.1036\n",
      "Best var: IDEA_pc_2000_10 --> 20.4795\n",
      "Best var: HY_ascensor --> 20.1671\n",
      "Best var: PV_precio_anterior --> 19.9323\n",
      "Best var: HY_num_terrazas --> 19.9221\n",
      "Best var: PV_pca2 --> 19.9008\n",
      "Best var: PV_ind_elasticidad --> 19.7519\n",
      "Best var:  --> 19.7519\n",
      "Best vars: ['HY_precio', 'GA_exit_rate', 'IDEA_pc_2000_10', 'HY_ascensor', 'PV_precio_anterior', 'HY_num_terrazas', 'PV_pca2', 'PV_ind_elasticidad']\n",
      "Best error: 19.751859080885062\n",
      "************************* GradientBoostingRegressor100_md10 *************************\n",
      "Best var: GA_exit_rate --> 22.5195\n",
      "Best var: IDEA_pc_2000_10 --> 21.0648\n",
      "Best var: PV_pca3 --> 20.6477\n",
      "Best var: GA_page_views --> 20.3077\n",
      "Best var: HY_metros_utiles --> 19.7920\n",
      "Best var: GA_quincena_ini --> 19.6970\n",
      "Best var: PV_pca1 --> 19.5325\n",
      "Best var: PV_cantidad_imagenes --> 19.2632\n",
      "Best var: PV_longitud_descripcion --> 19.0376\n",
      "Best var: PV_idea_pca --> 18.8552\n",
      "Best var:  --> 18.8552\n",
      "Best vars: ['HY_precio', 'GA_exit_rate', 'IDEA_pc_2000_10', 'PV_pca3', 'GA_page_views', 'HY_metros_utiles', 'GA_quincena_ini', 'PV_pca1', 'PV_cantidad_imagenes', 'PV_longitud_descripcion', 'PV_idea_pca']\n",
      "Best error: 18.855179893391572\n",
      "************************* XGB25 *************************\n"
     ]
    },
    {
     "name": "stdout",
     "output_type": "stream",
     "text": [
      "Best var: GA_page_views --> 19.1198\n",
      "Best var: HY_metros_utiles --> 18.4707\n",
      "Best var: PV_ind_elasticidad --> 18.3096\n",
      "Best var: PV_pca3 --> 18.2652\n",
      "Best var: IDEA_pc_1980_89 --> 18.0938\n",
      "Best var:  --> 18.0938\n",
      "Best vars: ['HY_precio', 'GA_page_views', 'HY_metros_utiles', 'PV_ind_elasticidad', 'PV_pca3', 'IDEA_pc_1980_89']\n",
      "Best error: 18.093776626586916\n",
      "************************* XGB46 *************************\n",
      "Best var: GA_exit_rate --> 20.4554\n",
      "Best var: PV_pca2 --> 19.5107\n",
      "Best var: PV_longitud_descripcion --> 19.0807\n",
      "Best var: GA_page_views --> 18.5486\n",
      "Best var: PV_cantidad_imagenes --> 18.2466\n",
      "Best var: GA_quincena_ini --> 17.9110\n",
      "Best var: PV_idea_pca --> 17.6864\n",
      "Best var:  --> 17.6864\n",
      "Best vars: ['HY_precio', 'GA_exit_rate', 'PV_pca2', 'PV_longitud_descripcion', 'GA_page_views', 'PV_cantidad_imagenes', 'GA_quincena_ini', 'PV_idea_pca']\n",
      "Best error: 17.68644958496104\n",
      "************************* XGB60 *************************\n",
      "Best var: GA_exit_rate --> 20.6233\n",
      "Best var: PV_pca3 --> 19.7436\n",
      "Best var: IDEA_pc_2000_10 --> 19.6364\n",
      "Best var: HY_precio_anterior --> 19.5238\n",
      "Best var: PV_pca1 --> 19.3376\n",
      "Best var: IDEA_pc_1970_79 --> 19.2511\n",
      "Best var: HY_metros_totales --> 19.1473\n",
      "Best var: PV_ind_elasticidad --> 19.0811\n",
      "Best var: PV_cantidad_imagenes --> 18.8190\n",
      "Best var:  --> 18.8190\n",
      "Best vars: ['HY_precio', 'GA_exit_rate', 'PV_pca3', 'IDEA_pc_2000_10', 'HY_precio_anterior', 'PV_pca1', 'IDEA_pc_1970_79', 'HY_metros_totales', 'PV_ind_elasticidad', 'PV_cantidad_imagenes']\n",
      "Best error: 18.819046020507812\n",
      "************************* XGB100 *************************\n",
      "Best var: GA_exit_rate --> 21.2438\n",
      "Best var: HY_metros_totales --> 20.3047\n",
      "Best var: PV_pca2 --> 19.5734\n",
      "Best var: PV_ind_elasticidad --> 19.4747\n",
      "Best var:  --> 19.4747\n",
      "Best vars: ['HY_precio', 'GA_exit_rate', 'HY_metros_totales', 'PV_pca2', 'PV_ind_elasticidad']\n",
      "Best error: 19.474687805175776\n",
      "************************* XGB40_md15 *************************\n",
      "Best var: GA_page_views --> 21.4464\n",
      "Best var: PV_cantidad_imagenes --> 20.6003\n",
      "Best var: GA_mean_bounce --> 20.3582\n",
      "Best var: GA_quincena_ult --> 19.4914\n",
      "Best var:  --> 19.4914\n",
      "Best vars: ['HY_precio', 'GA_page_views', 'PV_cantidad_imagenes', 'GA_mean_bounce', 'GA_quincena_ult']\n",
      "Best error: 19.491403198242203\n"
     ]
    }
   ],
   "source": [
    "errores = []\n",
    "for name, model in models.items():\n",
    "    #try:\n",
    "    print('*'*25+' {} '.format(name)+'*'*25)\n",
    "    error = EntrenarForward(X, y, model, ['HY_precio'])\n",
    "    errores.append(error)\n",
    "\n",
    "list1, list2 = zip(*sorted(zip(errores, list(models.keys()))))\n",
    "print('Best model:', list2[0],'--->', list1[0])"
   ]
  },
  {
   "cell_type": "code",
   "execution_count": 96,
   "metadata": {},
   "outputs": [
    {
     "name": "stdout",
     "output_type": "stream",
     "text": [
      "Best model: XGB46 ---> 17.68644958496104\n"
     ]
    }
   ],
   "source": [
    "list1, list2 = zip(*sorted(zip(errores, list(models.keys()))))\n",
    "print('Best model:', list2[0],'--->', list1[0])"
   ]
  },
  {
   "cell_type": "code",
   "execution_count": 103,
   "metadata": {},
   "outputs": [
    {
     "name": "stdout",
     "output_type": "stream",
     "text": [
      "************************* KNeighborsRegressor10 *************************\n",
      "Best var: GA_page_views --> 24.0929\n",
      "Best var: GA_quincena_ini --> 23.1816\n",
      "Best var: PV_ind_elasticidad --> 23.0608\n",
      "Best var: PV_kmeans --> 23.0588\n",
      "Best var: IDEA_pc_2000_10 --> 23.0275\n",
      "Best var: IDEA_pc_1970_79 --> 23.0274\n",
      "Best var: IDEA_pc_1990_99 --> 23.0274\n",
      "Best var:  --> 23.0274\n",
      "Best vars: ['HY_precio', 'GA_page_views', 'GA_quincena_ini', 'PV_ind_elasticidad', 'PV_kmeans', 'IDEA_pc_2000_10', 'IDEA_pc_1970_79', 'IDEA_pc_1990_99']\n",
      "Best error: 23.02743565931774\n",
      "************************* KNeighborsRegressor30 *************************\n",
      "Best var: PV_idea_pca --> 22.9001\n",
      "Best var: HY_precio_anterior --> 22.4481\n",
      "Best var: GA_exit_rate --> 22.2789\n",
      "Best var: PV_cantidad_imagenes --> 22.2467\n",
      "Best var: GA_quincena_ini --> 22.2352\n",
      "Best var: PV_longitud_descripcion --> 22.2195\n",
      "Best var: PV_pca2 --> 22.2195\n",
      "Best var: PV_precio_anterior --> 22.2195\n",
      "Best var: HY_trastero --> 22.2195\n",
      "Best var:  --> 22.2195\n",
      "Best vars: ['HY_precio', 'PV_idea_pca', 'HY_precio_anterior', 'GA_exit_rate', 'PV_cantidad_imagenes', 'GA_quincena_ini', 'PV_longitud_descripcion', 'PV_pca2', 'PV_precio_anterior', 'HY_trastero']\n",
      "Best error: 22.21945809258112\n",
      "************************* KNeighborsRegressor50 *************************\n",
      "Best var: PV_idea_pca --> 22.5672\n",
      "Best var: GA_exit_rate --> 21.9504\n",
      "Best var: PV_precio_metro --> 21.7612\n",
      "Best var: GA_quincena_ini --> 21.7438\n",
      "Best var: PV_cantidad_imagenes --> 21.7226\n",
      "Best var: HY_metros_utiles --> 21.6773\n",
      "Best var: PV_longitud_distribucion --> 21.6773\n",
      "Best var: IDEA_pc_1960_69 --> 21.6773\n",
      "Best var:  --> 21.6773\n",
      "Best vars: ['HY_precio', 'PV_idea_pca', 'GA_exit_rate', 'PV_precio_metro', 'GA_quincena_ini', 'PV_cantidad_imagenes', 'HY_metros_utiles', 'PV_longitud_distribucion', 'IDEA_pc_1960_69']\n",
      "Best error: 21.677256204818306\n",
      "************************* KNeighborsRegressor70 *************************\n",
      "Best var: PV_idea_pca --> 22.6567\n",
      "Best var: GA_exit_rate --> 22.1949\n",
      "Best var: HY_precio_anterior --> 21.9528\n",
      "Best var: PV_precio_metro --> 21.8295\n",
      "Best var: PV_longitud_descripcion --> 21.6997\n",
      "Best var: GA_quincena_ini --> 21.6229\n",
      "Best var: PV_cantidad_imagenes --> 21.5750\n",
      "Best var: HY_metros_utiles --> 21.5745\n",
      "Best var: PV_ind_elasticidad --> 21.5745\n",
      "Best var: PV_longitud_distribucion --> 21.5745\n",
      "Best var: PV_precio_anterior --> 21.5745\n",
      "Best var: PV_pca2 --> 21.5745\n",
      "Best var: HY_ascensor --> 21.5745\n",
      "Best var: PV_pca1 --> 21.5745\n",
      "Best var: IDEA_pc_1980_89 --> 21.5745\n",
      "Best var: IDEA_pc_1960_69 --> 21.5745\n",
      "Best var: IDEA_pc_1970_79 --> 21.5745\n",
      "Best var: IDEA_pc_1990_99 --> 21.5745\n",
      "Best var:  --> 21.5745\n",
      "Best vars: ['HY_precio', 'PV_idea_pca', 'GA_exit_rate', 'HY_precio_anterior', 'PV_precio_metro', 'PV_longitud_descripcion', 'GA_quincena_ini', 'PV_cantidad_imagenes', 'HY_metros_utiles', 'PV_ind_elasticidad', 'PV_longitud_distribucion', 'PV_precio_anterior', 'PV_pca2', 'HY_ascensor', 'PV_pca1', 'IDEA_pc_1980_89', 'IDEA_pc_1960_69', 'IDEA_pc_1970_79', 'IDEA_pc_1990_99']\n",
      "Best error: 21.574504367922085\n",
      "************************* KNeighborsRegressor90 *************************\n",
      "Best var: PV_idea_pca --> 22.2875\n",
      "Best var: HY_precio_anterior --> 21.9585\n",
      "Best var: GA_exit_rate --> 21.7185\n",
      "Best var: GA_quincena_ini --> 21.5522\n",
      "Best var: PV_longitud_descripcion --> 21.4356\n",
      "Best var: PV_precio_metro --> 21.3413\n",
      "Best var: PV_cantidad_imagenes --> 21.3354\n",
      "Best var: GA_mean_bounce --> 21.2913\n",
      "Best var: PV_ind_elasticidad --> 21.2913\n",
      "Best var: PV_pca2 --> 21.2913\n",
      "Best var: PV_precio_anterior --> 21.2913\n",
      "Best var: PV_pca3 --> 21.2913\n",
      "Best var: PV_kmeans --> 21.2913\n",
      "Best var: PV_longitud_distribucion --> 21.2913\n",
      "Best var: PV_pca1 --> 21.2913\n",
      "Best var: IDEA_pc_1970_79 --> 21.2913\n",
      "Best var: IDEA_pc_2000_10 --> 21.2913\n",
      "Best var: IDEA_pc_1960_69 --> 21.2913\n",
      "Best var: IDEA_pc_1980_89 --> 21.2913\n",
      "Best var: HY_trastero --> 21.2913\n",
      "Best var: IDEA_pc_1990_99 --> 21.2913\n",
      "Best var: HY_num_terrazas --> 21.2913\n",
      "Best var: PV_idea_pca2 --> 21.2913\n",
      "Best var:  --> 21.2913\n",
      "Best vars: ['HY_precio', 'PV_idea_pca', 'HY_precio_anterior', 'GA_exit_rate', 'GA_quincena_ini', 'PV_longitud_descripcion', 'PV_precio_metro', 'PV_cantidad_imagenes', 'GA_mean_bounce', 'PV_ind_elasticidad', 'PV_pca2', 'PV_precio_anterior', 'PV_pca3', 'PV_kmeans', 'PV_longitud_distribucion', 'PV_pca1', 'IDEA_pc_1970_79', 'IDEA_pc_2000_10', 'IDEA_pc_1960_69', 'IDEA_pc_1980_89', 'HY_trastero', 'IDEA_pc_1990_99', 'HY_num_terrazas', 'PV_idea_pca2']\n",
      "Best error: 21.291341124785106\n",
      "************************* KNeighborsRegressor110 *************************\n",
      "Best var: PV_idea_pca --> 22.4040\n",
      "Best var: GA_exit_rate --> 21.9351\n",
      "Best var: PV_precio_metro --> 21.6637\n",
      "Best var: GA_quincena_ini --> 21.5962\n",
      "Best var: PV_cantidad_imagenes --> 21.4611\n",
      "Best var: PV_pca2 --> 21.4611\n",
      "Best var: PV_kmeans --> 21.4611\n",
      "Best var: PV_pca3 --> 21.4611\n",
      "Best var: HY_ascensor --> 21.4611\n",
      "Best var: PV_precio_anterior --> 21.4611\n",
      "Best var: PV_longitud_distribucion --> 21.4611\n",
      "Best var: IDEA_pc_2000_10 --> 21.4611\n",
      "Best var:  --> 21.4611\n",
      "Best vars: ['HY_precio', 'PV_idea_pca', 'GA_exit_rate', 'PV_precio_metro', 'GA_quincena_ini', 'PV_cantidad_imagenes', 'PV_pca2', 'PV_kmeans', 'PV_pca3', 'HY_ascensor', 'PV_precio_anterior', 'PV_longitud_distribucion', 'IDEA_pc_2000_10']\n",
      "Best error: 21.461122465170618\n",
      "************************* KNeighborsRegressor130 *************************\n",
      "Best var: PV_idea_pca --> 22.2629\n",
      "Best var: GA_exit_rate --> 21.7652\n",
      "Best var: PV_precio_metro --> 21.5798\n",
      "Best var: GA_quincena_ini --> 21.5422\n",
      "Best var: GA_quincena_ult --> 21.5134\n",
      "Best var: PV_longitud_descripcion --> 21.4230\n",
      "Best var: HY_metros_totales --> 21.4226\n",
      "Best var: PV_cantidad_imagenes --> 21.4225\n",
      "Best var: HY_metros_utiles --> 21.4225\n",
      "Best var: PV_pca3 --> 21.4225\n",
      "Best var: PV_pca1 --> 21.4225\n",
      "Best var: PV_longitud_distribucion --> 21.4225\n",
      "Best var: PV_pca2 --> 21.4225\n",
      "Best var: PV_ind_elasticidad --> 21.4225\n",
      "Best var: IDEA_pc_1990_99 --> 21.4225\n",
      "Best var: HY_ascensor --> 21.4225\n",
      "Best var: PV_precio_anterior --> 21.4225\n",
      "Best var: IDEA_pc_2000_10 --> 21.4225\n",
      "Best var: IDEA_pc_1960_69 --> 21.4225\n",
      "Best var: IDEA_pc_1970_79 --> 21.4225\n",
      "Best var: IDEA_pc_1980_89 --> 21.4225\n",
      "Best var: PV_kmeans --> 21.4225\n",
      "Best var: PV_idea_pca2 --> 21.4225\n",
      "Best var:  --> 21.4225\n",
      "Best vars: ['HY_precio', 'PV_idea_pca', 'GA_exit_rate', 'PV_precio_metro', 'GA_quincena_ini', 'GA_quincena_ult', 'PV_longitud_descripcion', 'HY_metros_totales', 'PV_cantidad_imagenes', 'HY_metros_utiles', 'PV_pca3', 'PV_pca1', 'PV_longitud_distribucion', 'PV_pca2', 'PV_ind_elasticidad', 'IDEA_pc_1990_99', 'HY_ascensor', 'PV_precio_anterior', 'IDEA_pc_2000_10', 'IDEA_pc_1960_69', 'IDEA_pc_1970_79', 'IDEA_pc_1980_89', 'PV_kmeans', 'PV_idea_pca2']\n",
      "Best error: 21.42253685475532\n",
      "************************* KNeighborsRegressor150 *************************\n",
      "Best var: PV_idea_pca --> 21.9259\n",
      "Best var: GA_exit_rate --> 21.4829\n",
      "Best var: PV_precio_metro --> 21.2517\n",
      "Best var: GA_quincena_ult --> 21.2331\n",
      "Best var: GA_quincena_ini --> 21.1296\n",
      "Best var: PV_cantidad_imagenes --> 21.1294\n",
      "Best var: PV_longitud_descripcion --> 21.1195\n",
      "Best var: PV_precio_anterior --> 21.1195\n",
      "Best var: IDEA_pc_1990_99 --> 21.1195\n",
      "Best var: IDEA_pc_1970_79 --> 21.1195\n",
      "Best var:  --> 21.1195\n",
      "Best vars: ['HY_precio', 'PV_idea_pca', 'GA_exit_rate', 'PV_precio_metro', 'GA_quincena_ult', 'GA_quincena_ini', 'PV_cantidad_imagenes', 'PV_longitud_descripcion', 'PV_precio_anterior', 'IDEA_pc_1990_99', 'IDEA_pc_1970_79']\n",
      "Best error: 21.11947902314091\n",
      "Best model: XGB46 ---> 17.68644958496104\n"
     ]
    }
   ],
   "source": [
    "models2 = {}\n",
    "\n",
    "for i in range(10,155,20):\n",
    "    models2['KNeighborsRegressor{}'.format(i)] = neighbors.KNeighborsRegressor(i, weights='distance')\n",
    "    \n",
    "errores2 = []\n",
    "for name, model in models2.items():\n",
    "    #try:\n",
    "    print('*'*25+' {} '.format(name)+'*'*25)\n",
    "    error = EntrenarForward(X, y, model, ['HY_precio'])\n",
    "    errores2.append(error)\n",
    "    \n",
    "list1, list2 = zip(*sorted(zip(errores2, list(models2.keys()))))\n",
    "print('Best model:', list2[0],'--->', list1[0])"
   ]
  },
  {
   "cell_type": "markdown",
   "metadata": {},
   "source": [
    "# Neural network"
   ]
  },
  {
   "cell_type": "code",
   "execution_count": 15,
   "metadata": {},
   "outputs": [
    {
     "data": {
      "text/plain": [
       "21.08579306284118"
      ]
     },
     "execution_count": 15,
     "metadata": {},
     "output_type": "execute_result"
    }
   ],
   "source": [
    "from sklearn.neural_network import MLPRegressor\n",
    "\n",
    "X_norm = X.copy()\n",
    "X_norm['PV_precio_anterior'] = X_norm['PV_precio_anterior'].apply(np.sum)\n",
    "\n",
    "for var in X_norm.columns:\n",
    "    X_norm[var] = (X_norm[var] - X_norm[var].min())/(X_norm[var].max() - X_norm[var].min())\n",
    "\n",
    "X_train, X_test, y_train, y_test = train_test_split(X_norm, y, test_size=0.3, random_state=7)\n",
    "\n",
    "\n",
    "mlp = MLPRegressor(hidden_layer_sizes = (X_norm.shape[1], 20, 20), max_iter = 1250, random_state=0)\n",
    "\n",
    "mlp.fit(X_train, y_train)\n",
    "y_pred = mlp.predict(X_test)\n",
    "\n",
    "median_absolute_error(np.exp(y_test)-1, np.exp(y_pred)-1)"
   ]
  },
  {
   "cell_type": "code",
   "execution_count": 19,
   "metadata": {},
   "outputs": [
    {
     "data": {
      "text/plain": [
       "20.684910053600355"
      ]
     },
     "execution_count": 19,
     "metadata": {},
     "output_type": "execute_result"
    }
   ],
   "source": [
    "X_train, X_test, y_train, y_test = train_test_split(X_norm.drop(['PV_idea_pca'], axis = 1), y, test_size=0.3, random_state=7)\n",
    "\n",
    "\n",
    "mlp = MLPRegressor(hidden_layer_sizes = (X_norm.shape[1],20, 20), max_iter = 1250, random_state=0)\n",
    "\n",
    "mlp.fit(X_train, y_train)\n",
    "y_pred = mlp.predict(X_test)\n",
    "\n",
    "median_absolute_error(np.exp(y_test)-1, np.exp(y_pred)-1)"
   ]
  },
  {
   "cell_type": "code",
   "execution_count": 18,
   "metadata": {},
   "outputs": [
    {
     "data": {
      "text/plain": [
       "19.61167966626285"
      ]
     },
     "execution_count": 18,
     "metadata": {},
     "output_type": "execute_result"
    }
   ],
   "source": [
    "X_train, X_test, y_train, y_test = train_test_split(X_norm.drop(['PV_idea_pca'], axis = 1), y, test_size=0.3, random_state=7)\n",
    "\n",
    "\n",
    "mlp = MLPRegressor(hidden_layer_sizes = (20, 20), max_iter = 10000, random_state=0)\n",
    "\n",
    "mlp.fit(X_train, y_train)\n",
    "y_pred = mlp.predict(X_test)\n",
    "\n",
    "median_absolute_error(np.exp(y_test)-1, np.exp(y_pred)-1)"
   ]
  },
  {
   "cell_type": "code",
   "execution_count": 107,
   "metadata": {},
   "outputs": [
    {
     "name": "stdout",
     "output_type": "stream",
     "text": [
      "DecisionTreeRegressor5: 20.7408125732859\n",
      "DecisionTreeRegressor10: 22.76637136023087\n",
      "RandomForestRegressor20: 19.37295818019001\n",
      "RandomForestRegressor100: 19.274800775039246\n",
      "ExtraTreesRegressor50: 19.70540462712999\n",
      "GradientBoostingRegressor30_md5: 19.329757443666548\n",
      "XGB46: 19.378790817260736\n",
      "XGB60: 19.70291030883788\n"
     ]
    },
    {
     "name": "stderr",
     "output_type": "stream",
     "text": [
      "C:\\Users\\ricardfe\\AppData\\Local\\Continuum\\anaconda3\\lib\\site-packages\\sklearn\\neural_network\\multilayer_perceptron.py:562: ConvergenceWarning: Stochastic Optimizer: Maximum iterations (250) reached and the optimization hasn't converged yet.\n",
      "  % self.max_iter, ConvergenceWarning)\n"
     ]
    },
    {
     "name": "stdout",
     "output_type": "stream",
     "text": [
      "nn250: 22.16388414528361\n",
      "nn1250: 19.79379090364247\n",
      "------------------------- Ensemble Time -------------------------\n",
      "DecisionTreeRegressor2: 19.82707506402739\n",
      "DecisionTreeRegressor5: 20.369154781279487\n",
      "RandomForestRegressor10_md2: 18.853723324359773\n",
      "RandomForestRegressor20: 18.951559826891277\n",
      "RandomForestRegressor100: 19.251920933183342\n",
      "ExtraTreesRegressor10: 20.576541832096698\n",
      "ExtraTreesRegressor50: 19.560026681357165\n",
      "GradientBoostingRegressor30_md5: 19.134232552717698\n",
      "XGB46: 19.853542976379394\n",
      "XGB60: 20.35949661254888\n",
      "nn20: 19.14771009093324\n"
     ]
    },
    {
     "name": "stderr",
     "output_type": "stream",
     "text": [
      "C:\\Users\\ricardfe\\AppData\\Local\\Continuum\\anaconda3\\lib\\site-packages\\sklearn\\neural_network\\multilayer_perceptron.py:562: ConvergenceWarning: Stochastic Optimizer: Maximum iterations (250) reached and the optimization hasn't converged yet.\n",
      "  % self.max_iter, ConvergenceWarning)\n"
     ]
    },
    {
     "name": "stdout",
     "output_type": "stream",
     "text": [
      "nn10: 18.811937715852117\n",
      "nn20_10: 19.167607236994737\n"
     ]
    }
   ],
   "source": [
    "models2 = {\n",
    "    'DecisionTreeRegressor5':tree.DecisionTreeRegressor(max_depth = 5),\n",
    "    'DecisionTreeRegressor10':tree.DecisionTreeRegressor(max_depth = 10),\n",
    "    'RandomForestRegressor20':RandomForestRegressor(max_depth=5, n_estimators = 20, random_state=0),\n",
    "    'RandomForestRegressor100':RandomForestRegressor(max_depth=10, n_estimators = 100, random_state=0),\n",
    "    'ExtraTreesRegressor50':ExtraTreesRegressor(n_estimators=50,random_state=0),\n",
    "    'GradientBoostingRegressor30_md5':GradientBoostingRegressor(n_estimators=30, learning_rate=0.1, max_depth=5, random_state=0, loss='ls'),\n",
    "    'XGB46':XGBRegressor(max_depth = 10, n_estimators=46, random_state=7),\n",
    "    'XGB60':XGBRegressor(max_depth = 10, n_estimators=60, random_state=7),\n",
    "    'nn250': MLPRegressor(hidden_layer_sizes = (X_norm.shape[1], 30, 20), max_iter = 250),\n",
    "    'nn1250': MLPRegressor(hidden_layer_sizes = (X_norm.shape[1], 30, 20), max_iter = 1250),\n",
    "    }\n",
    "models3 = {\n",
    "    'DecisionTreeRegressor2':tree.DecisionTreeRegressor(max_depth = 2),\n",
    "    'DecisionTreeRegressor5':tree.DecisionTreeRegressor(max_depth = 5),\n",
    "    'RandomForestRegressor10_md2':RandomForestRegressor(max_depth=2, n_estimators = 10, random_state=0),\n",
    "    'RandomForestRegressor20':RandomForestRegressor(max_depth=5, n_estimators = 20, random_state=0),\n",
    "    'RandomForestRegressor100':RandomForestRegressor(max_depth=10, n_estimators = 100, random_state=0),\n",
    "    'ExtraTreesRegressor10':ExtraTreesRegressor(n_estimators=10,random_state=0),\n",
    "    'ExtraTreesRegressor50':ExtraTreesRegressor(n_estimators=50,random_state=0),\n",
    "    'GradientBoostingRegressor30_md5':GradientBoostingRegressor(n_estimators=30, learning_rate=0.1, max_depth=5, random_state=0),\n",
    "    'XGB46':XGBRegressor(max_depth = 10, n_estimators=46, random_state=7),\n",
    "    'XGB60':XGBRegressor(max_depth = 10, n_estimators=60, random_state=7),\n",
    "    'nn20': MLPRegressor(hidden_layer_sizes = (20, 20), max_iter = 250, random_state=0),\n",
    "    'nn10': MLPRegressor(hidden_layer_sizes = (10, 10), max_iter = 250, random_state=0),\n",
    "    'nn20_10': MLPRegressor(hidden_layer_sizes = (20, 10), max_iter = 250, random_state=0),\n",
    "    }\n",
    "\n",
    "FitEnsembles(X_norm[['HY_precio', 'GA_exit_rate', 'PV_pca2', 'PV_longitud_descripcion', \n",
    "                'GA_page_views', 'PV_cantidad_imagenes', 'GA_quincena_ini', 'PV_idea_pca']], y,\n",
    "             base_models = models2, ensemble_models = models3)"
   ]
  },
  {
   "cell_type": "code",
   "execution_count": 108,
   "metadata": {},
   "outputs": [
    {
     "name": "stdout",
     "output_type": "stream",
     "text": [
      "DecisionTreeRegressor5: 20.74081257328566\n",
      "DecisionTreeRegressor10: 22.84212493082875\n",
      "RandomForestRegressor20: 19.37295818019001\n",
      "RandomForestRegressor100: 19.27734319222118\n",
      "ExtraTreesRegressor50: 19.70540462712999\n",
      "GradientBoostingRegressor30_md5: 19.329757443666548\n",
      "XGB46: 19.44871681213377\n",
      "XGB60: 19.71019577026368\n"
     ]
    },
    {
     "name": "stderr",
     "output_type": "stream",
     "text": [
      "C:\\Users\\ricardfe\\AppData\\Local\\Continuum\\anaconda3\\lib\\site-packages\\sklearn\\neural_network\\multilayer_perceptron.py:562: ConvergenceWarning: Stochastic Optimizer: Maximum iterations (250) reached and the optimization hasn't converged yet.\n",
      "  % self.max_iter, ConvergenceWarning)\n"
     ]
    },
    {
     "name": "stdout",
     "output_type": "stream",
     "text": [
      "nn250: 115.86614716345832\n",
      "nn1250: 86.15780881508857\n",
      "------------------------- Ensemble Time -------------------------\n",
      "DecisionTreeRegressor2: 19.827075064027362\n",
      "DecisionTreeRegressor5: 20.457182287274385\n",
      "RandomForestRegressor10_md2: 18.9262305377024\n",
      "RandomForestRegressor20: 19.070659166105422\n",
      "RandomForestRegressor100: 19.6142712108636\n",
      "ExtraTreesRegressor10: 21.47731879345462\n",
      "ExtraTreesRegressor50: 20.305930263762324\n",
      "GradientBoostingRegressor30_md5: 19.317487501614092\n",
      "XGB46: 20.076716766357407\n",
      "XGB60: 20.618359375000015\n",
      "nn20: 20.867092899278482\n"
     ]
    },
    {
     "name": "stderr",
     "output_type": "stream",
     "text": [
      "C:\\Users\\ricardfe\\AppData\\Local\\Continuum\\anaconda3\\lib\\site-packages\\sklearn\\neural_network\\multilayer_perceptron.py:562: ConvergenceWarning: Stochastic Optimizer: Maximum iterations (250) reached and the optimization hasn't converged yet.\n",
      "  % self.max_iter, ConvergenceWarning)\n"
     ]
    },
    {
     "name": "stdout",
     "output_type": "stream",
     "text": [
      "nn10: 20.044461177632613\n",
      "nn20_10: 19.69320788334054\n"
     ]
    }
   ],
   "source": [
    "models2 = {\n",
    "    'DecisionTreeRegressor5':tree.DecisionTreeRegressor(max_depth = 5),\n",
    "    'DecisionTreeRegressor10':tree.DecisionTreeRegressor(max_depth = 10),\n",
    "    'RandomForestRegressor20':RandomForestRegressor(max_depth=5, n_estimators = 20, random_state=0),\n",
    "    'RandomForestRegressor100':RandomForestRegressor(max_depth=10, n_estimators = 100, random_state=0),\n",
    "    'ExtraTreesRegressor50':ExtraTreesRegressor(n_estimators=50,random_state=0),\n",
    "    'GradientBoostingRegressor30_md5':GradientBoostingRegressor(n_estimators=30, learning_rate=0.1, max_depth=5, random_state=0, loss='ls'),\n",
    "    'XGB46':XGBRegressor(max_depth = 10, n_estimators=46, random_state=7),\n",
    "    'XGB60':XGBRegressor(max_depth = 10, n_estimators=60, random_state=7),\n",
    "    'nn250': MLPRegressor(hidden_layer_sizes = (X_norm.shape[1], 30, 20), max_iter = 250),\n",
    "    'nn1250': MLPRegressor(hidden_layer_sizes = (X_norm.shape[1], 30, 20), max_iter = 1250),\n",
    "    }\n",
    "models3 = {\n",
    "    'DecisionTreeRegressor2':tree.DecisionTreeRegressor(max_depth = 2),\n",
    "    'DecisionTreeRegressor5':tree.DecisionTreeRegressor(max_depth = 5),\n",
    "    'RandomForestRegressor10_md2':RandomForestRegressor(max_depth=2, n_estimators = 10, random_state=0),\n",
    "    'RandomForestRegressor20':RandomForestRegressor(max_depth=5, n_estimators = 20, random_state=0),\n",
    "    'RandomForestRegressor100':RandomForestRegressor(max_depth=10, n_estimators = 100, random_state=0),\n",
    "    'ExtraTreesRegressor10':ExtraTreesRegressor(n_estimators=10,random_state=0),\n",
    "    'ExtraTreesRegressor50':ExtraTreesRegressor(n_estimators=50,random_state=0),\n",
    "    'GradientBoostingRegressor30_md5':GradientBoostingRegressor(n_estimators=30, learning_rate=0.1, max_depth=5, random_state=0),\n",
    "    'XGB46':XGBRegressor(max_depth = 10, n_estimators=46, random_state=7),\n",
    "    'XGB60':XGBRegressor(max_depth = 10, n_estimators=60, random_state=7),\n",
    "    'nn20': MLPRegressor(hidden_layer_sizes = (20, 20), max_iter = 250),\n",
    "    'nn10': MLPRegressor(hidden_layer_sizes = (10, 10), max_iter = 250),\n",
    "    'nn20_10': MLPRegressor(hidden_layer_sizes = (20, 10), max_iter = 250),\n",
    "    }\n",
    "\n",
    "FitEnsembles(X[['HY_precio', 'GA_exit_rate', 'PV_pca2', 'PV_longitud_descripcion', \n",
    "                'GA_page_views', 'PV_cantidad_imagenes', 'GA_quincena_ini', 'PV_idea_pca']], y,\n",
    "             base_models = models2, ensemble_models = models3)"
   ]
  },
  {
   "cell_type": "code",
   "execution_count": 122,
   "metadata": {},
   "outputs": [
    {
     "name": "stdout",
     "output_type": "stream",
     "text": [
      "DecisionTreeRegressor5: 20.7408125732861\n",
      "RandomForestRegressor20: 19.55495022967462\n",
      "ExtraTreesRegressor50: 19.70540462712999\n",
      "GradientBoostingRegressor30_md5: 19.329757443666548\n",
      "XGB46: 19.44871681213377\n",
      "nn250: 67.7249999925248\n",
      "------------------------- Ensemble Time -------------------------\n",
      "DecisionTreeRegressor2: 19.97334996579884\n",
      "DecisionTreeRegressor5: 19.752758681964856\n",
      "RandomForestRegressor10_md2: 18.988389886828408\n",
      "RandomForestRegressor20: 19.09491260528273\n",
      "RandomForestRegressor100: 19.05518337297692\n",
      "ExtraTreesRegressor10: 21.34307364141214\n",
      "ExtraTreesRegressor50: 20.484818874927065\n",
      "GradientBoostingRegressor30_md5: 19.37748004285087\n",
      "XGB15: 27.738711643218988\n",
      "XGB30: 18.768319168090816\n",
      "XGB46: 19.82226776123052\n",
      "XGB60: 20.386732978820817\n",
      "nn20: 19.23867134466152\n"
     ]
    },
    {
     "name": "stderr",
     "output_type": "stream",
     "text": [
      "C:\\Users\\ricardfe\\AppData\\Local\\Continuum\\anaconda3\\lib\\site-packages\\sklearn\\neural_network\\multilayer_perceptron.py:562: ConvergenceWarning: Stochastic Optimizer: Maximum iterations (250) reached and the optimization hasn't converged yet.\n",
      "  % self.max_iter, ConvergenceWarning)\n"
     ]
    },
    {
     "name": "stdout",
     "output_type": "stream",
     "text": [
      "nn10: 19.50427516476138\n",
      "nn20_10: 18.950444181205626\n"
     ]
    }
   ],
   "source": [
    "models2 = {\n",
    "    'DecisionTreeRegressor5':tree.DecisionTreeRegressor(max_depth = 5),\n",
    "    'RandomForestRegressor20':RandomForestRegressor(max_depth=10, n_estimators = 20, random_state=0),\n",
    "    'ExtraTreesRegressor50':ExtraTreesRegressor(n_estimators=50,random_state=0),\n",
    "    'GradientBoostingRegressor30_md5':GradientBoostingRegressor(n_estimators=30, learning_rate=0.1, max_depth=5, random_state=0, loss='ls'),\n",
    "    'XGB46':XGBRegressor(max_depth = 10, n_estimators=46, random_state=7),\n",
    "    'nn250': MLPRegressor(hidden_layer_sizes = (30, 20), max_iter = 500),\n",
    "    }\n",
    "models3 = {\n",
    "    'DecisionTreeRegressor2':tree.DecisionTreeRegressor(max_depth = 2),\n",
    "    'DecisionTreeRegressor5':tree.DecisionTreeRegressor(max_depth = 5),\n",
    "    'RandomForestRegressor10_md2':RandomForestRegressor(max_depth=2, n_estimators = 10, random_state=0),\n",
    "    'RandomForestRegressor20':RandomForestRegressor(max_depth=5, n_estimators = 20, random_state=0),\n",
    "    'RandomForestRegressor100':RandomForestRegressor(max_depth=10, n_estimators = 100, random_state=0),\n",
    "    'ExtraTreesRegressor10':ExtraTreesRegressor(n_estimators=10,random_state=0),\n",
    "    'ExtraTreesRegressor50':ExtraTreesRegressor(n_estimators=50,random_state=0),\n",
    "    'GradientBoostingRegressor30_md5':GradientBoostingRegressor(n_estimators=30, learning_rate=0.1, max_depth=5, random_state=0),\n",
    "    'XGB15':XGBRegressor(max_depth = 10, n_estimators=15, random_state=7),\n",
    "    'XGB30':XGBRegressor(max_depth = 10, n_estimators=30, random_state=7),\n",
    "    'XGB46':XGBRegressor(max_depth = 10, n_estimators=46, random_state=7),\n",
    "    'XGB60':XGBRegressor(max_depth = 10, n_estimators=60, random_state=7),\n",
    "    'nn20': MLPRegressor(hidden_layer_sizes = (20, 20), max_iter = 250),\n",
    "    'nn10': MLPRegressor(hidden_layer_sizes = (10, 10), max_iter = 250),\n",
    "    'nn20_10': MLPRegressor(hidden_layer_sizes = (20, 10), max_iter = 250),\n",
    "    }\n",
    "\n",
    "FitEnsembles(X[['HY_precio', 'GA_exit_rate', 'PV_pca2', 'PV_longitud_descripcion', \n",
    "                'GA_page_views', 'PV_cantidad_imagenes', 'GA_quincena_ini', 'PV_idea_pca']], y,\n",
    "             base_models = models2, ensemble_models = models3)"
   ]
  },
  {
   "cell_type": "markdown",
   "metadata": {},
   "source": [
    "# Mezclar Forward y Ensemble"
   ]
  },
  {
   "cell_type": "code",
   "execution_count": 20,
   "metadata": {},
   "outputs": [
    {
     "name": "stdout",
     "output_type": "stream",
     "text": [
      "DecisionTreeRegressor5: 21.25391903041519\n",
      "RandomForestRegressor20: 19.75468022879491\n",
      "ExtraTreesRegressor50: 19.98785532323138\n",
      "GradientBoostingRegressor30_md5: 19.687520697512582\n",
      "XGB46: 19.215244140625003\n",
      "nn250: 149.98646619881055\n",
      "------------------------- Ensemble Time -------------------------\n",
      "DecisionTreeRegressor2: 19.948260376261025\n",
      "DecisionTreeRegressor5: 19.824308244576898\n",
      "RandomForestRegressor10_md2: 19.099547831268765\n",
      "RandomForestRegressor20: 18.99717835593423\n",
      "XGB15: 27.9524559020996\n",
      "XGB30: 19.206618118286137\n",
      "XGB46: 20.099474716186496\n",
      "************************* DecisionTreeRegressor2 *************************\n",
      "Best var: GradientBoostingRegressor30_md5 --> 19.6769\n",
      "Best var: DecisionTreeRegressor5 --> 19.6769\n",
      "Best var:  --> 19.6769\n",
      "Best vars: ['XGB46', 'GradientBoostingRegressor30_md5', 'DecisionTreeRegressor5']\n",
      "Best error: 19.676861761167288\n",
      "************************* DecisionTreeRegressor5 *************************\n",
      "Best var: GradientBoostingRegressor30_md5 --> 19.9885\n",
      "Best var: DecisionTreeRegressor5 --> 19.5608\n",
      "Best var:  --> 19.5608\n",
      "Best vars: ['XGB46', 'GradientBoostingRegressor30_md5', 'DecisionTreeRegressor5']\n",
      "Best error: 19.560789389760455\n",
      "************************* RandomForestRegressor10_md2 *************************\n",
      "Best var: RandomForestRegressor20 --> 19.3541\n",
      "Best var:  --> 19.3541\n",
      "Best vars: ['XGB46', 'RandomForestRegressor20']\n",
      "Best error: 19.354071362125374\n",
      "************************* RandomForestRegressor20 *************************\n",
      "Best var: RandomForestRegressor20 --> 19.8253\n",
      "Best var:  --> 19.8253\n",
      "Best vars: ['XGB46', 'RandomForestRegressor20']\n",
      "Best error: 19.825289633017547\n",
      "************************* XGB15 *************************\n",
      "Best var:  --> 25.5202\n",
      "Best vars: ['XGB46']\n",
      "Best error: 25.52017211914061\n",
      "************************* XGB30 *************************\n",
      "Best var: nn250 --> 18.6064\n",
      "Best var:  --> 18.6064\n",
      "Best vars: ['XGB46', 'nn250']\n",
      "Best error: 18.606411056518557\n",
      "************************* XGB46 *************************\n",
      "Best var:  --> 20.1465\n",
      "Best vars: ['XGB46']\n",
      "Best error: 20.146453704833988\n"
     ]
    },
    {
     "ename": "NameError",
     "evalue": "name 'models' is not defined",
     "output_type": "error",
     "traceback": [
      "\u001b[1;31m---------------------------------------------------------------------------\u001b[0m",
      "\u001b[1;31mNameError\u001b[0m                                 Traceback (most recent call last)",
      "\u001b[1;32m<ipython-input-20-27d8f4d4f84e>\u001b[0m in \u001b[0;36m<module>\u001b[1;34m()\u001b[0m\n\u001b[0;32m     64\u001b[0m     \u001b[0merrores\u001b[0m\u001b[1;33m.\u001b[0m\u001b[0mappend\u001b[0m\u001b[1;33m(\u001b[0m\u001b[0merror\u001b[0m\u001b[1;33m)\u001b[0m\u001b[1;33m\u001b[0m\u001b[0m\n\u001b[0;32m     65\u001b[0m \u001b[1;33m\u001b[0m\u001b[0m\n\u001b[1;32m---> 66\u001b[1;33m \u001b[0mlist1\u001b[0m\u001b[1;33m,\u001b[0m \u001b[0mlist2\u001b[0m \u001b[1;33m=\u001b[0m \u001b[0mzip\u001b[0m\u001b[1;33m(\u001b[0m\u001b[1;33m*\u001b[0m\u001b[0msorted\u001b[0m\u001b[1;33m(\u001b[0m\u001b[0mzip\u001b[0m\u001b[1;33m(\u001b[0m\u001b[0merrores\u001b[0m\u001b[1;33m,\u001b[0m \u001b[0mlist\u001b[0m\u001b[1;33m(\u001b[0m\u001b[0mmodels\u001b[0m\u001b[1;33m.\u001b[0m\u001b[0mkeys\u001b[0m\u001b[1;33m(\u001b[0m\u001b[1;33m)\u001b[0m\u001b[1;33m)\u001b[0m\u001b[1;33m)\u001b[0m\u001b[1;33m)\u001b[0m\u001b[1;33m)\u001b[0m\u001b[1;33m\u001b[0m\u001b[0m\n\u001b[0m\u001b[0;32m     67\u001b[0m \u001b[0mprint\u001b[0m\u001b[1;33m(\u001b[0m\u001b[1;34m'Best model:'\u001b[0m\u001b[1;33m,\u001b[0m \u001b[0mlist2\u001b[0m\u001b[1;33m[\u001b[0m\u001b[1;36m0\u001b[0m\u001b[1;33m]\u001b[0m\u001b[1;33m,\u001b[0m\u001b[1;34m'--->'\u001b[0m\u001b[1;33m,\u001b[0m \u001b[0mlist1\u001b[0m\u001b[1;33m[\u001b[0m\u001b[1;36m0\u001b[0m\u001b[1;33m]\u001b[0m\u001b[1;33m)\u001b[0m\u001b[1;33m\u001b[0m\u001b[0m\n",
      "\u001b[1;31mNameError\u001b[0m: name 'models' is not defined"
     ]
    }
   ],
   "source": [
    "def FitEnsembles(X,y,base_models,ensemble_models):\n",
    "    '''\n",
    "    X,y --> nuestra data\n",
    "    base_models --> Los modelos de los que se nutrirá nuestro ensemble\n",
    "    ensemble_models --> Modelos que son la capa final del ensemble\n",
    "    '''\n",
    "    \n",
    "    X_train_ensemble, X_test_ensemble, y_train_ensemble, y_test_ensemble = train_test_split(X, y, test_size=0.4, random_state=7)\n",
    "    X_train, X_test, y_train, y_test = train_test_split(X_train_ensemble, y_train_ensemble, test_size=0.3, random_state=7)\n",
    "\n",
    "    # Dataframe donde almacenaremos los resultados de nuestros modelos\n",
    "    pred_ensemble_models = pd.DataFrame(data = np.zeros((X_test.shape[0],len(base_models))), \n",
    "                                        columns = list(base_models.keys()))\n",
    "    # Dataframe donde almacenaremos los resultados de nuestros modelos\n",
    "    pred_ensemble_models_test = pd.DataFrame(data = np.zeros((X_test_ensemble.shape[0],len(base_models))), \n",
    "                                    columns = list(base_models.keys()))\n",
    "    \n",
    "    # Procedemos a entrenar los base_models\n",
    "    for name, model in base_models.items():\n",
    "        base_models[name] = model.fit(X_train, y_train)\n",
    "        y_test_predict = base_models[name].predict(X_test)\n",
    "        # Almacenamos la predicción de cada modelo\n",
    "        pred_ensemble_models[name] = y_test_predict\n",
    "        pred_ensemble_models_test[name] = base_models[name].predict(X_test_ensemble)\n",
    "        \n",
    "        print(name,': ', median_absolute_error(np.exp(y_test_ensemble)-1, np.exp(pred_ensemble_models_test[name])-1), sep = '')\n",
    "    \n",
    "    print('-'*25+' Ensemble Time '+'-'*25)\n",
    "    # Predict con el ensemble\n",
    "    for name, model in ensemble_models.items():\n",
    "        ensemble_models[name] = ensemble_models[name].fit(pred_ensemble_models, y_test)\n",
    "        \n",
    "        y_final_pred = ensemble_models[name].predict(pred_ensemble_models_test)\n",
    "        print(name,': ', median_absolute_error(np.exp(y_test_ensemble)-1, np.exp(y_final_pred)-1), sep = '')\n",
    "    \n",
    "    # Devolvemos los df con los que entrenamos el ensemble \n",
    "    return pred_ensemble_models, pred_ensemble_models_test, y_test, y_test_ensemble\n",
    "\n",
    "\n",
    "models2 = {\n",
    "    'DecisionTreeRegressor5':tree.DecisionTreeRegressor(max_depth = 5),\n",
    "    'RandomForestRegressor20':RandomForestRegressor(max_depth=10, n_estimators = 20, random_state=0),\n",
    "    'ExtraTreesRegressor50':ExtraTreesRegressor(n_estimators=50,random_state=0),\n",
    "    'GradientBoostingRegressor30_md5':GradientBoostingRegressor(n_estimators=30, learning_rate=0.1, max_depth=5, random_state=0, loss='ls'),\n",
    "    'XGB46':XGBRegressor(max_depth = 10, n_estimators=46, random_state=7),\n",
    "    'nn250': MLPRegressor(hidden_layer_sizes = (30, 20), max_iter = 500),\n",
    "    }\n",
    "models3 = {\n",
    "    'DecisionTreeRegressor2':tree.DecisionTreeRegressor(max_depth = 2),\n",
    "    'DecisionTreeRegressor5':tree.DecisionTreeRegressor(max_depth = 5),\n",
    "    'RandomForestRegressor10_md2':RandomForestRegressor(max_depth=2, n_estimators = 10, random_state=0),\n",
    "    'RandomForestRegressor20':RandomForestRegressor(max_depth=5, n_estimators = 20, random_state=0),\n",
    "    'XGB15':XGBRegressor(max_depth = 10, n_estimators=15, random_state=7),\n",
    "    'XGB30':XGBRegressor(max_depth = 10, n_estimators=30, random_state=7),\n",
    "    'XGB46':XGBRegressor(max_depth = 10, n_estimators=46, random_state=7),\n",
    "    }\n",
    "\n",
    "X_train_ensemble, X_test_ensemble, y_train_ensemble, y_test_ensemble = FitEnsembles(X.drop(['PV_idea_pca'], axis = 1),y,models2,models3)\n",
    "errores = []\n",
    "for name, model in models3.items():\n",
    "    #try:\n",
    "    print('*'*25+' {} '.format(name)+'*'*25)\n",
    "    error = EntrenarForward(X_train_ensemble, y_train_ensemble, model, ['XGB46'])\n",
    "    errores.append(error)"
   ]
  },
  {
   "cell_type": "code",
   "execution_count": 29,
   "metadata": {},
   "outputs": [
    {
     "name": "stdout",
     "output_type": "stream",
     "text": [
      "DecisionTreeRegressor5: 21.25391903041517\n",
      "RandomForestRegressor20: 19.75468022879491\n",
      "ExtraTreesRegressor50: 19.98785532323138\n",
      "GradientBoostingRegressor30_md5: 19.687520697512582\n",
      "XGB46: 19.25421409606934\n",
      "nn250: 20.411276825466455\n",
      "------------------------- Ensemble Time -------------------------\n",
      "DecisionTreeRegressor2: 19.94826037626116\n",
      "DecisionTreeRegressor5: 19.636297634679536\n",
      "RandomForestRegressor10_md2: 19.090839909539106\n",
      "RandomForestRegressor20: 18.88948569582935\n",
      "XGB15: 28.020206909179677\n",
      "XGB30: 19.0473624420166\n",
      "XGB46: 20.152078590393057\n",
      "************************* DecisionTreeRegressor2 *************************\n",
      "Best var: GradientBoostingRegressor30_md5 --> 19.6769\n",
      "Best var: DecisionTreeRegressor5 --> 19.6769\n",
      "Best var: nn250 --> 19.6769\n",
      "Best var:  --> 19.6769\n",
      "Best vars: ['XGB46', 'GradientBoostingRegressor30_md5', 'DecisionTreeRegressor5', 'nn250']\n",
      "Best error: 19.676861761167345\n",
      "************************* DecisionTreeRegressor5 *************************\n",
      "Best var: GradientBoostingRegressor30_md5 --> 19.7383\n",
      "Best var: RandomForestRegressor20 --> 19.3383\n",
      "Best var: DecisionTreeRegressor5 --> 19.0198\n",
      "Best var:  --> 19.0198\n",
      "Best vars: ['XGB46', 'GradientBoostingRegressor30_md5', 'RandomForestRegressor20', 'DecisionTreeRegressor5']\n",
      "Best error: 19.01975029845347\n",
      "************************* RandomForestRegressor10_md2 *************************\n",
      "Best var: RandomForestRegressor20 --> 19.6705\n",
      "Best var:  --> 19.6705\n",
      "Best vars: ['XGB46', 'RandomForestRegressor20']\n",
      "Best error: 19.670454786380056\n",
      "************************* RandomForestRegressor20 *************************\n",
      "Best var: RandomForestRegressor20 --> 19.7451\n",
      "Best var:  --> 19.7451\n",
      "Best vars: ['XGB46', 'RandomForestRegressor20']\n",
      "Best error: 19.745107654545333\n",
      "************************* XGB15 *************************\n",
      "Best var: nn250 --> 24.8120\n",
      "Best var:  --> 24.8120\n",
      "Best vars: ['XGB46', 'nn250']\n",
      "Best error: 24.811996383667022\n",
      "************************* XGB30 *************************\n",
      "Best var:  --> 19.1678\n",
      "Best vars: ['XGB46']\n",
      "Best error: 19.1678494262695\n",
      "************************* XGB46 *************************\n",
      "Best var:  --> 20.2916\n",
      "Best vars: ['XGB46']\n",
      "Best error: 20.291594390869143\n"
     ]
    }
   ],
   "source": [
    "def FitEnsembles(X,y,base_models,ensemble_models):\n",
    "    '''\n",
    "    X,y --> nuestra data\n",
    "    base_models --> Los modelos de los que se nutrirá nuestro ensemble\n",
    "    ensemble_models --> Modelos que son la capa final del ensemble\n",
    "    '''\n",
    "    \n",
    "    X_train_ensemble, X_test_ensemble, y_train_ensemble, y_test_ensemble = train_test_split(X, y, test_size=0.4, random_state=7)\n",
    "    X_train, X_test, y_train, y_test = train_test_split(X_train_ensemble, y_train_ensemble, test_size=0.3, random_state=7)\n",
    "\n",
    "    # Dataframe donde almacenaremos los resultados de nuestros modelos\n",
    "    pred_ensemble_models = pd.DataFrame(data = np.zeros((X_test.shape[0],len(base_models))), \n",
    "                                        columns = list(base_models.keys()))\n",
    "    # Dataframe donde almacenaremos los resultados de nuestros modelos\n",
    "    pred_ensemble_models_test = pd.DataFrame(data = np.zeros((X_test_ensemble.shape[0],len(base_models))), \n",
    "                                    columns = list(base_models.keys()))\n",
    "    \n",
    "    # Procedemos a entrenar los base_models\n",
    "    for name, model in base_models.items():\n",
    "        base_models[name] = model.fit(X_train, y_train)\n",
    "        y_test_predict = base_models[name].predict(X_test)\n",
    "        # Almacenamos la predicción de cada modelo\n",
    "        pred_ensemble_models[name] = y_test_predict\n",
    "        pred_ensemble_models_test[name] = base_models[name].predict(X_test_ensemble)\n",
    "        \n",
    "        print(name,': ', median_absolute_error(np.exp(y_test_ensemble)-1, np.exp(pred_ensemble_models_test[name])-1), sep = '')\n",
    "    \n",
    "    print('-'*25+' Ensemble Time '+'-'*25)\n",
    "    # Predict con el ensemble\n",
    "    for name, model in ensemble_models.items():\n",
    "        ensemble_models[name] = ensemble_models[name].fit(pred_ensemble_models, y_test)\n",
    "        \n",
    "        y_final_pred = ensemble_models[name].predict(pred_ensemble_models_test)\n",
    "        print(name,': ', median_absolute_error(np.exp(y_test_ensemble)-1, np.exp(y_final_pred)-1), sep = '')\n",
    "    \n",
    "    # Devolvemos los df con los que entrenamos el ensemble \n",
    "    return pred_ensemble_models, pred_ensemble_models_test, y_test, y_test_ensemble\n",
    "\n",
    "\n",
    "models2 = {\n",
    "    'DecisionTreeRegressor5':tree.DecisionTreeRegressor(max_depth = 5),\n",
    "    'RandomForestRegressor20':RandomForestRegressor(max_depth=10, n_estimators = 20, random_state=0),\n",
    "    'ExtraTreesRegressor50':ExtraTreesRegressor(n_estimators=50,random_state=0),\n",
    "    'GradientBoostingRegressor30_md5':GradientBoostingRegressor(n_estimators=30, learning_rate=0.1, max_depth=5, random_state=0, loss='ls'),\n",
    "    'XGB46':XGBRegressor(max_depth = 10, n_estimators=46, random_state=7),\n",
    "    'nn250': MLPRegressor(hidden_layer_sizes = (30, 20), max_iter = 500),\n",
    "    }\n",
    "models3 = {\n",
    "    'DecisionTreeRegressor2':tree.DecisionTreeRegressor(max_depth = 2),\n",
    "    'DecisionTreeRegressor5':tree.DecisionTreeRegressor(max_depth = 5),\n",
    "    'RandomForestRegressor10_md2':RandomForestRegressor(max_depth=2, n_estimators = 10, random_state=0),\n",
    "    'RandomForestRegressor20':RandomForestRegressor(max_depth=5, n_estimators = 20, random_state=0),\n",
    "    'XGB15':XGBRegressor(max_depth = 10, n_estimators=15, random_state=7),\n",
    "    'XGB30':XGBRegressor(max_depth = 10, n_estimators=30, random_state=7),\n",
    "    'XGB46':XGBRegressor(max_depth = 10, n_estimators=46, random_state=7),\n",
    "    }\n",
    "\n",
    "X_train_ensemble, X_test_ensemble, y_train_ensemble, y_test_ensemble = FitEnsembles(X_norm.drop(['PV_idea_pca'], axis = 1),y,models2,models3)\n",
    "errores = []\n",
    "for name, model in models3.items():\n",
    "    #try:\n",
    "    print('*'*25+' {} '.format(name)+'*'*25)\n",
    "    error = EntrenarForward(X_train_ensemble, y_train_ensemble, model, ['XGB46'])\n",
    "    errores.append(error)"
   ]
  },
  {
   "cell_type": "markdown",
   "metadata": {},
   "source": [
    "# Keras"
   ]
  },
  {
   "cell_type": "code",
   "execution_count": 32,
   "metadata": {},
   "outputs": [],
   "source": [
    "from keras.models import Sequential\n",
    "from keras.layers import Dense\n",
    "from keras.wrappers.scikit_learn import KerasRegressor"
   ]
  },
  {
   "cell_type": "code",
   "execution_count": 52,
   "metadata": {},
   "outputs": [
    {
     "data": {
      "text/plain": [
       "18.384207229614272"
      ]
     },
     "execution_count": 52,
     "metadata": {},
     "output_type": "execute_result"
    }
   ],
   "source": [
    "from sklearn.model_selection import cross_val_score\n",
    "from sklearn.model_selection import KFold\n",
    "\n",
    "X_train, X_test, y_train, y_test = train_test_split(X_norm, y, test_size=0.4, random_state=7)\n",
    "\n",
    "#estimator.fit(X_train, y_train)\n",
    "model = Sequential()\n",
    "model.add(Dense(13, input_dim=X_train.shape[1], kernel_initializer='normal', activation='relu'))\n",
    "model.add(Dense(1, kernel_initializer='normal'))\n",
    "# Compile model\n",
    "#model.compile(loss='mean_squared_error', optimizer='adam')\n",
    "#\n",
    "#estimator = KerasRegressor(build_fn = model, epochs=100, batch_size=5, verbose=0)\n",
    "\n",
    "model.compile(loss='mean_squared_error', optimizer='adam')\n",
    "results = model.fit(X_train.values, y_train.values, batch_size = 30, epochs=200, verbose=0)\n",
    "\n",
    "#print(\"Results: {:.2f} ({:.2f}) MSE\".format(results.mean(), results.std()))\n",
    "\n",
    "y_pred = model.predict(X_test.values)\n",
    "\n",
    "median_absolute_error(np.exp(y_test)-1, np.exp(y_pred)-1)"
   ]
  },
  {
   "cell_type": "code",
   "execution_count": 65,
   "metadata": {},
   "outputs": [
    {
     "data": {
      "text/plain": [
       "18.46817947387695"
      ]
     },
     "execution_count": 65,
     "metadata": {},
     "output_type": "execute_result"
    }
   ],
   "source": [
    "from sklearn.model_selection import cross_val_score\n",
    "from sklearn.model_selection import KFold\n",
    "\n",
    "X_train, X_test, y_train, y_test = train_test_split(X_norm[['HY_precio', 'GA_exit_rate', 'PV_pca2', 'PV_longitud_descripcion', \n",
    "                                                            'GA_page_views', 'PV_cantidad_imagenes', 'GA_quincena_ini', 'PV_idea_pca']], y, \n",
    "                                                    test_size=0.3, random_state=7)\n",
    "\n",
    "#estimator.fit(X_train, y_train)\n",
    "model = Sequential()\n",
    "model.add(Dense(13, input_dim=X_train.shape[1], kernel_initializer='normal', activation='relu'))\n",
    "model.add(Dense(1, kernel_initializer='normal'))\n",
    "# Compile model\n",
    "#model.compile(loss='mean_squared_error', optimizer='adam')\n",
    "#\n",
    "#estimator = KerasRegressor(build_fn = model, epochs=100, batch_size=5, verbose=0)\n",
    "\n",
    "model.compile(loss='mean_squared_error', optimizer='adam')\n",
    "results = model.fit(X_train.values, y_train.values, batch_size = 30, epochs=150, verbose=0)\n",
    "\n",
    "#print(\"Results: {:.2f} ({:.2f}) MSE\".format(results.mean(), results.std()))\n",
    "\n",
    "y_pred = model.predict(X_test.values)\n",
    "\n",
    "median_absolute_error(np.exp(y_test)-1, np.exp(y_pred)-1)"
   ]
  },
  {
   "cell_type": "code",
   "execution_count": 69,
   "metadata": {},
   "outputs": [
    {
     "name": "stdout",
     "output_type": "stream",
     "text": [
      "50 eps, 10 bs --> 23.3948\n",
      "50 eps, 15 bs --> 19.9649\n",
      "50 eps, 30 bs --> 19.3209\n",
      "50 eps, 50 bs --> 23.0016\n",
      "100 eps, 10 bs --> 21.3169\n",
      "100 eps, 15 bs --> 21.5905\n",
      "100 eps, 30 bs --> 19.3479\n",
      "100 eps, 50 bs --> 19.6670\n",
      "150 eps, 10 bs --> 22.3069\n",
      "150 eps, 15 bs --> 18.9892\n",
      "150 eps, 30 bs --> 21.3619\n",
      "150 eps, 50 bs --> 19.8038\n",
      "200 eps, 10 bs --> 19.8631\n",
      "200 eps, 15 bs --> 18.7639\n",
      "200 eps, 30 bs --> 21.5385\n",
      "200 eps, 50 bs --> 18.6925\n"
     ]
    }
   ],
   "source": [
    "for i in [50, 100, 150, 200]:\n",
    "    for j in [10, 15, 30, 50]:\n",
    "        X_train, X_test, y_train, y_test = train_test_split(X_norm[['HY_precio', 'GA_exit_rate', 'PV_pca2', 'PV_longitud_descripcion', \n",
    "                                                            'GA_page_views', 'PV_cantidad_imagenes', 'GA_quincena_ini', 'PV_idea_pca']], y, \n",
    "                                                    test_size=0.3, random_state=7)\n",
    "\n",
    "        #estimator.fit(X_train, y_train)\n",
    "        model = Sequential()\n",
    "        model.add(Dense(13, input_dim=X_train.shape[1], kernel_initializer='normal', activation='relu'))\n",
    "        model.add(Dense(1, kernel_initializer='normal'))\n",
    "        # Compile model\n",
    "        #model.compile(loss='mean_squared_error', optimizer='adam')\n",
    "        #\n",
    "        #estimator = KerasRegressor(build_fn = model, epochs=100, batch_size=5, verbose=0)\n",
    "        \n",
    "        model.compile(loss='mean_squared_error', optimizer='adam')\n",
    "        results = model.fit(X_train.values, y_train.values, batch_size = j, epochs=i, verbose=0)\n",
    "        \n",
    "        y_pred = model.predict(X_test.values)\n",
    "        \n",
    "        print('{} eps, {} bs --> {:.4f}'.format(i,j,median_absolute_error(np.exp(y_test)-1, np.exp(y_pred)-1)))"
   ]
  },
  {
   "cell_type": "code",
   "execution_count": 71,
   "metadata": {},
   "outputs": [
    {
     "name": "stdout",
     "output_type": "stream",
     "text": [
      "200 eps, 10 lay --> 19.2715\n",
      "200 eps, 15 lay --> 18.9075\n",
      "200 eps, 20 lay --> 18.6282\n",
      "300 eps, 10 lay --> 19.7295\n",
      "300 eps, 15 lay --> 18.9537\n",
      "300 eps, 20 lay --> 21.7513\n",
      "400 eps, 10 lay --> 23.0959\n",
      "400 eps, 15 lay --> 19.3344\n",
      "400 eps, 20 lay --> 18.0148\n",
      "500 eps, 10 lay --> 22.5386\n",
      "500 eps, 15 lay --> 18.2996\n",
      "500 eps, 20 lay --> 18.9575\n"
     ]
    }
   ],
   "source": [
    "for i in [200, 300, 400, 500]:\n",
    "    for j in [10, 15, 20]:\n",
    "        X_train, X_test, y_train, y_test = train_test_split(X_norm[['HY_precio', 'GA_exit_rate', 'PV_pca2', 'PV_longitud_descripcion', \n",
    "                                                            'GA_page_views', 'PV_cantidad_imagenes', 'GA_quincena_ini', 'PV_idea_pca']], y, \n",
    "                                                    test_size=0.3, random_state=7)\n",
    "\n",
    "        #estimator.fit(X_train, y_train)\n",
    "        model = Sequential()\n",
    "        model.add(Dense(j, input_dim=X_train.shape[1], kernel_initializer='normal', activation='relu'))\n",
    "        model.add(Dense(1, kernel_initializer='normal'))\n",
    "        # Compile model\n",
    "        #model.compile(loss='mean_squared_error', optimizer='adam')\n",
    "        #\n",
    "        #estimator = KerasRegressor(build_fn = model, epochs=100, batch_size=5, verbose=0)\n",
    "        \n",
    "        model.compile(loss='mean_squared_error', optimizer='adam')\n",
    "        results = model.fit(X_train.values, y_train.values, batch_size = 50, epochs=i, verbose=0)\n",
    "        \n",
    "        y_pred = model.predict(X_test.values)\n",
    "        \n",
    "        print('{} eps, {} lay --> {:.4f}'.format(i,j,median_absolute_error(np.exp(y_test)-1, np.exp(y_pred)-1)))"
   ]
  },
  {
   "cell_type": "markdown",
   "metadata": {},
   "source": [
    "# Todo junto:"
   ]
  },
  {
   "cell_type": "code",
   "execution_count": null,
   "metadata": {
    "collapsed": true
   },
   "outputs": [],
   "source": [
    "def FitEnsembles(X,y,base_models,ensemble_models):\n",
    "    '''\n",
    "    X,y --> nuestra data\n",
    "    base_models --> Los modelos de los que se nutrirá nuestro ensemble\n",
    "    ensemble_models --> Modelos que son la capa final del ensemble\n",
    "    '''\n",
    "    \n",
    "    X_train_ensemble, X_test_ensemble, y_train_ensemble, y_test_ensemble = train_test_split(X, y, test_size=0.4, random_state=7)\n",
    "    X_train, X_test, y_train, y_test = train_test_split(X_train_ensemble, y_train_ensemble, test_size=0.3, random_state=7)\n",
    "\n",
    "    # Dataframe donde almacenaremos los resultados de nuestros modelos\n",
    "    pred_ensemble_models = pd.DataFrame(data = np.zeros((X_test.shape[0],len(base_models))), \n",
    "                                        columns = list(base_models.keys()))\n",
    "    # Dataframe donde almacenaremos los resultados de nuestros modelos\n",
    "    pred_ensemble_models_test = pd.DataFrame(data = np.zeros((X_test_ensemble.shape[0],len(base_models))), \n",
    "                                    columns = list(base_models.keys()))\n",
    "    \n",
    "    # Procedemos a entrenar los base_models\n",
    "    for name, model in base_models.items():\n",
    "        base_models[name] = model.fit(X_train, y_train)\n",
    "        y_test_predict = base_models[name].predict(X_test)\n",
    "        # Almacenamos la predicción de cada modelo\n",
    "        pred_ensemble_models[name] = y_test_predict\n",
    "        pred_ensemble_models_test[name] = base_models[name].predict(X_test_ensemble)\n",
    "        \n",
    "        print(name,': ', median_absolute_error(np.exp(y_test_ensemble)-1, np.exp(pred_ensemble_models_test[name])-1), sep = '')\n",
    "    \n",
    "    print('-'*25+' Ensemble Time '+'-'*25)\n",
    "    # Predict con el ensemble\n",
    "    for name, model in ensemble_models.items():\n",
    "        ensemble_models[name] = ensemble_models[name].fit(pred_ensemble_models, y_test)\n",
    "        \n",
    "        y_final_pred = ensemble_models[name].predict(pred_ensemble_models_test)\n",
    "        print(name,': ', median_absolute_error(np.exp(y_test_ensemble)-1, np.exp(y_final_pred)-1), sep = '')\n",
    "    \n",
    "    # Devolvemos los df con los que entrenamos el ensemble \n",
    "    return pred_ensemble_models, pred_ensemble_models_test, y_test, y_test_ensemble\n",
    "\n",
    "\n",
    "models2 = {\n",
    "    'DecisionTreeRegressor5':tree.DecisionTreeRegressor(max_depth = 5),\n",
    "    'RandomForestRegressor20':RandomForestRegressor(max_depth=10, n_estimators = 20, random_state=0),\n",
    "    'ExtraTreesRegressor50':ExtraTreesRegressor(n_estimators=50,random_state=0),\n",
    "    'GradientBoostingRegressor30_md5':GradientBoostingRegressor(n_estimators=30, learning_rate=0.1, max_depth=5, random_state=0, loss='ls'),\n",
    "    'XGB46':XGBRegressor(max_depth = 10, n_estimators=46, random_state=7),\n",
    "    'nn250': MLPRegressor(hidden_layer_sizes = (30, 20), max_iter = 500),\n",
    "    }\n",
    "models3 = {\n",
    "    'DecisionTreeRegressor2':tree.DecisionTreeRegressor(max_depth = 2),\n",
    "    'DecisionTreeRegressor5':tree.DecisionTreeRegressor(max_depth = 5),\n",
    "    'RandomForestRegressor10_md2':RandomForestRegressor(max_depth=2, n_estimators = 10, random_state=0),\n",
    "    'RandomForestRegressor20':RandomForestRegressor(max_depth=5, n_estimators = 20, random_state=0),\n",
    "    'XGB15':XGBRegressor(max_depth = 10, n_estimators=15, random_state=7),\n",
    "    'XGB30':XGBRegressor(max_depth = 10, n_estimators=30, random_state=7),\n",
    "    'XGB46':XGBRegressor(max_depth = 10, n_estimators=46, random_state=7),\n",
    "    }\n",
    "\n",
    "X_train_ensemble, X_test_ensemble, y_train_ensemble, y_test_ensemble = FitEnsembles(X_norm.drop(['PV_idea_pca'], axis = 1),y,models2,models3)\n",
    "errores = []\n",
    "for name, model in models3.items():\n",
    "    #try:\n",
    "    print('*'*25+' {} '.format(name)+'*'*25)\n",
    "    error = EntrenarForward(X_train_ensemble, y_train_ensemble, model, ['XGB46'])\n",
    "    errores.append(error)"
   ]
  }
 ],
 "metadata": {
  "kernelspec": {
   "display_name": "Python 3",
   "language": "python",
   "name": "python3"
  },
  "language_info": {
   "codemirror_mode": {
    "name": "ipython",
    "version": 3
   },
   "file_extension": ".py",
   "mimetype": "text/x-python",
   "name": "python",
   "nbconvert_exporter": "python",
   "pygments_lexer": "ipython3",
   "version": "3.6.1"
  }
 },
 "nbformat": 4,
 "nbformat_minor": 2
}
