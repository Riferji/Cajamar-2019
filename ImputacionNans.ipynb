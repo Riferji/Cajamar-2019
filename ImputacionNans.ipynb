{
 "cells": [
  {
   "cell_type": "code",
   "execution_count": 1,
   "metadata": {
    "collapsed": true
   },
   "outputs": [],
   "source": [
    "import pandas as pd\n",
    "import numpy as np\n",
    "from matplotlib import pyplot as plt\n",
    "# import seaborn as sns # En los boxplot de seaborn no se aprecian los outliers\n",
    "\n",
    "df = pd.read_csv('df_todas_limpias.csv', sep = '|', encoding='utf-8')"
   ]
  },
  {
   "cell_type": "markdown",
   "metadata": {},
   "source": [
    "# Imputació de 'IDEA_pc_1960', 'IDEA_pc_1960_69', 'IDEA_pc_1970_79', 'IDEA_pc_1980_89','IDEA_pc_1990_99', 'IDEA_pc_2000_10'"
   ]
  },
  {
   "cell_type": "markdown",
   "metadata": {},
   "source": [
    "Primero tenemos que comprobar el principio _O todas o ninguna_"
   ]
  },
  {
   "cell_type": "code",
   "execution_count": 2,
   "metadata": {},
   "outputs": [
    {
     "name": "stdout",
     "output_type": "stream",
     "text": [
      "Hay 7234 registros sin ningún Nan\n",
      "Hay 2700 registros con todo Nan\n",
      "Hay 0 con mix\n"
     ]
    }
   ],
   "source": [
    "vars_zona = ['IDEA_pc_1960', 'IDEA_pc_1960_69', 'IDEA_pc_1970_79', 'IDEA_pc_1980_89','IDEA_pc_1990_99', 'IDEA_pc_2000_10']\n",
    "nans_zona = df[vars_zona].isnull().sum(axis = 1)\n",
    "print('Hay {} registros sin ningún Nan'.format(np.sum(nans_zona == 0)))\n",
    "print('Hay {} registros con todo Nan'.format(np.sum(nans_zona == 6)))\n",
    "print('Hay {} con mix'.format(nans_zona.shape[0]-np.sum(nans_zona == 0)-np.sum(nans_zona == 6)))"
   ]
  },
  {
   "cell_type": "markdown",
   "metadata": {},
   "source": [
    "Como son Nans al mismo tiempo, el problema se simplifica\n",
    "\n",
    "Primero tenemos que realizar dos groupby, uno por CP y el otro por provincias sobre los datos sin Nans"
   ]
  },
  {
   "cell_type": "code",
   "execution_count": 3,
   "metadata": {
    "collapsed": true
   },
   "outputs": [],
   "source": [
    "group_cp = df[['HY_cod_postal']+vars_zona].dropna().groupby('HY_cod_postal').mean()\n",
    "group_provincia = df[['HY_provincia']+vars_zona].dropna().groupby('HY_provincia').mean()"
   ]
  },
  {
   "cell_type": "code",
   "execution_count": 4,
   "metadata": {},
   "outputs": [
    {
     "name": "stdout",
     "output_type": "stream",
     "text": [
      "Se han descartado 114 códigos postales por ser todo Nans\n"
     ]
    }
   ],
   "source": [
    "print('Se han descartado {} códigos postales por ser todo Nans'.format(df['HY_cod_postal'].unique().shape[0]-group_cp.shape[0]))"
   ]
  },
  {
   "cell_type": "markdown",
   "metadata": {},
   "source": [
    "Por lo que para esos 114 casos emplearemos las provincias."
   ]
  },
  {
   "cell_type": "code",
   "execution_count": 5,
   "metadata": {},
   "outputs": [
    {
     "name": "stdout",
     "output_type": "stream",
     "text": [
      "Se han descartado 0 provincias por ser todo Nans\n"
     ]
    }
   ],
   "source": [
    "print('Se han descartado {} provincias por ser todo Nans'.format(df['HY_provincia'].unique().shape[0]-group_provincia.shape[0]))"
   ]
  },
  {
   "cell_type": "markdown",
   "metadata": {},
   "source": [
    "Por lo tanto, procedamos con la imputación por códigos postales.\n",
    "\n",
    "Primero necesitamos obtener los códigos postales en los que hay Nans"
   ]
  },
  {
   "cell_type": "code",
   "execution_count": 6,
   "metadata": {
    "collapsed": true
   },
   "outputs": [],
   "source": [
    "# Aprovechando la propiedad de que las seis variables son Nans simultaneamente podemmos hacer lo siguiente para obtener\n",
    "#      dichos códigos\n",
    "codigos_nans = df.HY_cod_postal[df.IDEA_pc_1960.isnull()] # Valdría cualquiera de las 6 variables."
   ]
  },
  {
   "cell_type": "code",
   "execution_count": 7,
   "metadata": {},
   "outputs": [
    {
     "name": "stdout",
     "output_type": "stream",
     "text": [
      "Dentro de los 552 codigos de codigos_nans, hay 438 códigos que conseguiremos completar y 114 que no (El CP que no están registrados en group_cp)\n"
     ]
    }
   ],
   "source": [
    "a = codigos_nans.unique().shape[0]\n",
    "b = np.intersect1d(codigos_nans.unique(),group_cp.index).shape[0]\n",
    "print('Dentro de los {} codigos de codigos_nans, hay {} códigos que conseguiremos completar y {} que no (El CP que no están registrados en group_cp)'.format(a,b,a-b))"
   ]
  },
  {
   "cell_type": "markdown",
   "metadata": {},
   "source": [
    "Por lo que sabiendo que vamos a conseguir reducir el número de Nans podemos proceder."
   ]
  },
  {
   "cell_type": "code",
   "execution_count": 8,
   "metadata": {
    "collapsed": true
   },
   "outputs": [],
   "source": [
    "# Como sabemos que códigos podremos completar y cuales no, solo utilizaremos los que se pueden completar\n",
    "cods = np.intersect1d(codigos_nans.unique(),group_cp.index)\n",
    "# Cuales son los índices de los Nans\n",
    "index_nan = df.index[df.IDEA_pc_1960.isnull()]\n",
    "for cod in cods:\n",
    "    # Explicación del indexado: De todos los códigos que coinciden con el nuestro nos quedamos con los que tienen índice\n",
    "    #      nan, y para poder acceder a df, necesitamos los índices de Nan que cumplen lo del código.\n",
    "    i = index_nan[(df.HY_cod_postal == cod)[index_nan]]\n",
    "    df.loc[i, vars_zona] = group_cp.loc[cod].values"
   ]
  },
  {
   "cell_type": "code",
   "execution_count": 9,
   "metadata": {},
   "outputs": [
    {
     "name": "stdout",
     "output_type": "stream",
     "text": [
      "Hay 9756 registros sin ningún Nan\n",
      "Hay 178 registros con todo Nan\n",
      "Hay 0 con mix\n"
     ]
    }
   ],
   "source": [
    "nans_zona = df[vars_zona].isnull().sum(axis = 1)\n",
    "print('Hay {} registros sin ningún Nan'.format(np.sum(nans_zona == 0)))\n",
    "print('Hay {} registros con todo Nan'.format(np.sum(nans_zona == 6)))\n",
    "print('Hay {} con mix'.format(nans_zona.shape[0]-np.sum(nans_zona == 0)-np.sum(nans_zona == 6)))"
   ]
  },
  {
   "cell_type": "markdown",
   "metadata": {},
   "source": [
    "Por lo que una vez imputados los valores por la media del código postal vamos a guardar _group\\_cp_ para luego poder imputar en test"
   ]
  },
  {
   "cell_type": "code",
   "execution_count": 10,
   "metadata": {
    "collapsed": true
   },
   "outputs": [],
   "source": [
    "group_cp.to_csv('group_cp_fill_atiguedad_zonas.csv', sep = '|', encoding='utf-8')"
   ]
  },
  {
   "cell_type": "markdown",
   "metadata": {},
   "source": [
    "Ahora obtendremos los CP de una manera similar a la anterior y procederemos por provincias"
   ]
  },
  {
   "cell_type": "code",
   "execution_count": 11,
   "metadata": {
    "collapsed": true
   },
   "outputs": [],
   "source": [
    "provincias_nans = df.HY_provincia[df.IDEA_pc_1960.isnull()] # Valdría cualquiera de las 6 variables.\n",
    "# Como sabemos que códigos podremos completar y cuales no, solo utilizaremos los que se pueden completar\n",
    "provincias = np.intersect1d(provincias_nans.unique(),group_provincia.index)\n",
    "# Cuales son los índices de los Nans\n",
    "index_nan = df.index[df.IDEA_pc_1960.isnull()]\n",
    "\n",
    "for provincia in provincias:\n",
    "    # Idem\n",
    "    i = index_nan[(df.HY_provincia == provincia)[index_nan]]\n",
    "    df.loc[i, vars_zona] = group_provincia.loc[provincia].values"
   ]
  },
  {
   "cell_type": "code",
   "execution_count": 12,
   "metadata": {},
   "outputs": [
    {
     "name": "stdout",
     "output_type": "stream",
     "text": [
      "Hay 9934 registros sin ningún Nan\n",
      "Hay 0 registros con todo Nan\n",
      "Hay 0 con mix\n"
     ]
    }
   ],
   "source": [
    "nans_zona = df[vars_zona].isnull().sum(axis = 1)\n",
    "print('Hay {} registros sin ningún Nan'.format(np.sum(nans_zona == 0)))\n",
    "print('Hay {} registros con todo Nan'.format(np.sum(nans_zona == 6)))\n",
    "print('Hay {} con mix'.format(nans_zona.shape[0]-np.sum(nans_zona == 0)-np.sum(nans_zona == 6)))"
   ]
  },
  {
   "cell_type": "markdown",
   "metadata": {},
   "source": [
    "Guardamos el grupo de provincias"
   ]
  },
  {
   "cell_type": "code",
   "execution_count": 13,
   "metadata": {
    "collapsed": true
   },
   "outputs": [],
   "source": [
    "group_provincia.to_csv('group_provincia_fill_atiguedad_zonas.csv', sep = '|', encoding='utf-8')"
   ]
  },
  {
   "cell_type": "markdown",
   "metadata": {},
   "source": [
    "Y el DataFrame nuevo"
   ]
  },
  {
   "cell_type": "code",
   "execution_count": 14,
   "metadata": {
    "collapsed": true
   },
   "outputs": [],
   "source": [
    "df.to_csv('df_atiguedadIDEA_filled.csv', sep = '|', encoding='utf-8', index = False)"
   ]
  },
  {
   "cell_type": "markdown",
   "metadata": {},
   "source": [
    "### Caso en el que aun siga habiendo Nans\n",
    "\n",
    "Si continuaramos con Nans en nuestras observaciones, no tendríamos mas remedio que poner todas las variables a 1/6. (Si la cantidad de nans fuera significativa, lo que tendríamos que hacer es crear una nueva clase llamada _No\\_consta_ o similares)"
   ]
  },
  {
   "cell_type": "code",
   "execution_count": 15,
   "metadata": {
    "collapsed": true
   },
   "outputs": [],
   "source": [
    "if np.sum(df.IDEA_pc_1960.isnull())>0:\n",
    "    index_nan = df.index[df.IDEA_pc_1960.isnull()]\n",
    "    df.loc[index_nan, vars_zona] = 1/6"
   ]
  },
  {
   "cell_type": "markdown",
   "metadata": {},
   "source": [
    "# Generalizando:\n",
    "\n",
    "Tomando como referencia el código anterior vamos a implementar varias funciones para poderlas aplicar en los siguientes grupos de variables venideros.\n",
    "\n",
    "La idea es que las funciones nos ahorren código y nos faciliten la tarea de imputar valores faltantes.\n",
    "\n",
    "**Nota:** Las funciones que diseñamos se supone que estan diseñadas para funcionar con toda la fila de Nans."
   ]
  },
  {
   "cell_type": "code",
   "execution_count": 16,
   "metadata": {
    "collapsed": true
   },
   "outputs": [],
   "source": [
    "vars_imput = ['IDEA_pc_comercio','IDEA_pc_industria', 'IDEA_pc_oficina', 'IDEA_pc_otros','IDEA_pc_residencial', 'IDEA_pc_trast_parking']"
   ]
  },
  {
   "cell_type": "code",
   "execution_count": 17,
   "metadata": {
    "collapsed": true
   },
   "outputs": [],
   "source": [
    "def InfoNans(df, vars_imput):\n",
    "    nans_zona = df[vars_imput].isnull().sum(axis = 1)\n",
    "    print('Hay {} registros sin ningún Nan'.format(np.sum(nans_zona == 0)))\n",
    "    print('Hay {} registros con todo Nan'.format(np.sum(nans_zona == len(vars_imput))))\n",
    "    print('Hay {} con mix'.format(nans_zona.shape[0]-np.sum(nans_zona == 0)-np.sum(nans_zona == len(vars_imput))))\n",
    "\n",
    "def InfoImputarNans(df, vars_imput):\n",
    "    # Vemos cuantos Nans hay.\n",
    "    InfoNans(df, vars_imput)\n",
    "    \n",
    "    # Obtenemos nuestros df\n",
    "    group_cp = df[['HY_cod_postal']+vars_imput].dropna().groupby('HY_cod_postal').mean()\n",
    "    group_provincia = df[['HY_provincia']+vars_imput].dropna().groupby('HY_provincia').mean()\n",
    "    \n",
    "    # Info útil\n",
    "    print('Se han descartado {} códigos postales por ser todo Nans'.format(df['HY_cod_postal'].unique().shape[0]-group_cp.shape[0]))\n",
    "    print('Se han descartado {} provincias por ser todo Nans'.format(df['HY_provincia'].unique().shape[0]-group_provincia.shape[0]))\n",
    "    \n",
    "    # Aprovechando la propiedad de que las seis variables son Nans simultaneamente podemmos hacer lo siguiente para obtener\n",
    "    #      dichos códigos\n",
    "    codigos_nans = df.HY_cod_postal[df[vars_imput[0]].isnull()] # Valdría cualquiera de las 6 variables.\n",
    "    \n",
    "    a = codigos_nans.unique().shape[0]\n",
    "    b = np.intersect1d(codigos_nans.unique(),group_cp.index).shape[0]\n",
    "    print('Dentro de los {} codigos de codigos_nans, hay {} códigos que conseguiremos completar y {} que no (Los CP que no están registrados en group_cp)'.format(a,b,a-b))\n",
    "\n",
    "def ImputarNans_cp(df, vars_imput, var):\n",
    "    '''\n",
    "    df --> Nuestro dataframe a modificar\n",
    "    vars_imput --> Variables que queremos imputar.\n",
    "    var --> Variable por la que queremos realizar la agrupación (HY_cod_postal ó HY_provincia)\n",
    "    '''\n",
    "    # Obtenemos nuestros df de grupos\n",
    "    group_cp = df[[var]+vars_imput].dropna().groupby(var).mean()\n",
    "    \n",
    "    # Obtenemos los CP que son Nans\n",
    "    codigos_nans = df.loc[df[vars_imput[0]].isnull(), var] # Valdría cualquiera de las 6 variables.\n",
    "    \n",
    "    # Como sabemos que códigos podremos completar y cuales no, solo utilizaremos los que se pueden completar\n",
    "    cods = np.intersect1d(codigos_nans.unique(),group_cp.index)\n",
    "    # Cuales son los índices de los Nans\n",
    "    index_nan = df.index[df[vars_imput[0]].isnull()]\n",
    "    for cod in cods:\n",
    "        # Explicación del indexado: De todos los códigos que coinciden con el nuestro nos quedamos con los que tienen índice\n",
    "        #      nan, y para poder acceder a df, necesitamos los índices de Nan que cumplen lo del código.\n",
    "        i = index_nan[(df[var] == cod)[index_nan]]\n",
    "        df.loc[i, vars_imput] = group_cp.loc[cod].values\n",
    "        \n",
    "    # Vemos cuantos Nans hay.\n",
    "    InfoNans(df, vars_imput)\n",
    "    \n",
    "    # Devolvemos los dataframes\n",
    "    return df, group_cp"
   ]
  },
  {
   "cell_type": "markdown",
   "metadata": {},
   "source": [
    "Primero comprobamos que se cumple el principio _o todas o ninguna_ con las filas de Nans"
   ]
  },
  {
   "cell_type": "code",
   "execution_count": 18,
   "metadata": {},
   "outputs": [
    {
     "name": "stdout",
     "output_type": "stream",
     "text": [
      "Hay 7234 registros sin ningún Nan\n",
      "Hay 2700 registros con todo Nan\n",
      "Hay 0 con mix\n"
     ]
    }
   ],
   "source": [
    "InfoNans(df, vars_imput)"
   ]
  },
  {
   "cell_type": "markdown",
   "metadata": {},
   "source": [
    "Y una vez comprobado, ya podemos pasar a la imputación"
   ]
  },
  {
   "cell_type": "code",
   "execution_count": 19,
   "metadata": {},
   "outputs": [
    {
     "name": "stdout",
     "output_type": "stream",
     "text": [
      "Hay 9756 registros sin ningún Nan\n",
      "Hay 178 registros con todo Nan\n",
      "Hay 0 con mix\n",
      "Hay 9756 registros sin ningún Nan\n",
      "Hay 178 registros con todo Nan\n",
      "Hay 0 con mix\n",
      "------------------------------\n",
      "Hay 9934 registros sin ningún Nan\n",
      "Hay 0 registros con todo Nan\n",
      "Hay 0 con mix\n",
      "Hay 9934 registros sin ningún Nan\n",
      "Hay 0 registros con todo Nan\n",
      "Hay 0 con mix\n"
     ]
    }
   ],
   "source": [
    "df, group_cp = ImputarNans_cp(df, vars_imput, var = 'HY_cod_postal')\n",
    "InfoNans(df, vars_imput)\n",
    "print('-'*30)\n",
    "df, group_provincia = ImputarNans_cp(df, vars_imput, var = 'HY_provincia')\n",
    "InfoNans(df, vars_imput)"
   ]
  },
  {
   "cell_type": "markdown",
   "metadata": {},
   "source": [
    "Guardamos los df de resultado"
   ]
  },
  {
   "cell_type": "code",
   "execution_count": 20,
   "metadata": {
    "collapsed": true
   },
   "outputs": [],
   "source": [
    "df.to_csv('./DF_grupos/df_filled_{}.csv'.format(vars_imput[0]), sep = '|', encoding='utf-8', index = False)\n",
    "group_cp.to_csv('./DF_grupos/group_cp_{}.csv'.format(vars_imput[0]), sep = '|', encoding='utf-8')\n",
    "group_provincia.to_csv('./DF_grupos/group_prov_{}.csv'.format(vars_imput[0]), sep = '|', encoding='utf-8')"
   ]
  },
  {
   "cell_type": "markdown",
   "metadata": {},
   "source": [
    "# Resto de variables\n",
    "\n",
    "Una vez demostrado que nuestras funciones son operativas, vamos a proceder a utilizarlas con los siguientes grupos de variables:\n",
    "+ 'IDEA_ind_tienda', 'IDEA_ind_turismo', 'IDEA_ind_alimentacion'\n",
    "+ 'IDEA_ind_riqueza'\n",
    "+ 'IDEA_rent_alquiler'\n",
    "+ 'IDEA_ind_elasticidad', 'IDEA_ind_liquidez'\n",
    "+ 'IDEA_unitprice_sale_residential', 'IDEA_price_sale_residential', 'IDEA_stock_sale_residential'\n",
    "+ 'IDEA_demand_sale_residential'\n",
    "+ 'IDEA_unitprice_rent_residential', 'IDEA_price_rent_residential', 'IDEA_stock_rent_residential'\n",
    "+ 'IDEA_demand_rent_residential'\n",
    "\n",
    "Pero primero vamos a comprobar si cumplen la condición de todo nans:"
   ]
  },
  {
   "cell_type": "code",
   "execution_count": 21,
   "metadata": {
    "collapsed": true
   },
   "outputs": [],
   "source": [
    "# Lista con la lista de variables a tratar\n",
    "var_list = [\n",
    "    ['IDEA_ind_tienda', 'IDEA_ind_turismo', 'IDEA_ind_alimentacion'],\n",
    "    ['IDEA_ind_riqueza'],\n",
    "    ['IDEA_rent_alquiler'],\n",
    "    ['IDEA_ind_elasticidad', 'IDEA_ind_liquidez'],\n",
    "    ['IDEA_unitprice_sale_residential', 'IDEA_price_sale_residential', 'IDEA_stock_sale_residential'],\n",
    "    ['IDEA_demand_sale_residential'],\n",
    "    ['IDEA_unitprice_rent_residential', 'IDEA_price_rent_residential', 'IDEA_stock_rent_residential'],\n",
    "    ['IDEA_demand_rent_residential']   \n",
    "]"
   ]
  },
  {
   "cell_type": "code",
   "execution_count": 22,
   "metadata": {},
   "outputs": [
    {
     "name": "stdout",
     "output_type": "stream",
     "text": [
      "**************************************************\n",
      "Hay 7227 registros sin ningún Nan\n",
      "Hay 2707 registros con todo Nan\n",
      "Hay 0 con mix\n",
      "**************************************************\n",
      "Hay 7313 registros sin ningún Nan\n",
      "Hay 2621 registros con todo Nan\n",
      "Hay 0 con mix\n",
      "**************************************************\n",
      "Hay 6882 registros sin ningún Nan\n",
      "Hay 3052 registros con todo Nan\n",
      "Hay 0 con mix\n",
      "**************************************************\n",
      "Hay 4844 registros sin ningún Nan\n",
      "Hay 5090 registros con todo Nan\n",
      "Hay 0 con mix\n",
      "**************************************************\n",
      "Hay 7309 registros sin ningún Nan\n",
      "Hay 2625 registros con todo Nan\n",
      "Hay 0 con mix\n",
      "**************************************************\n",
      "Hay 7251 registros sin ningún Nan\n",
      "Hay 2683 registros con todo Nan\n",
      "Hay 0 con mix\n",
      "**************************************************\n",
      "Hay 6946 registros sin ningún Nan\n",
      "Hay 2988 registros con todo Nan\n",
      "Hay 0 con mix\n",
      "**************************************************\n",
      "Hay 7309 registros sin ningún Nan\n",
      "Hay 2625 registros con todo Nan\n",
      "Hay 0 con mix\n",
      "**************************************************\n"
     ]
    }
   ],
   "source": [
    "print('*'*50)\n",
    "for vars_group in var_list:\n",
    "    InfoNans(df, vars_group)\n",
    "    print('*'*50)"
   ]
  },
  {
   "cell_type": "markdown",
   "metadata": {},
   "source": [
    "Por lo que podemos aplicar nuestras funciones."
   ]
  },
  {
   "cell_type": "code",
   "execution_count": 23,
   "metadata": {
    "scrolled": true
   },
   "outputs": [
    {
     "name": "stdout",
     "output_type": "stream",
     "text": [
      "**************************************************\n",
      "Variables: ['IDEA_ind_tienda', 'IDEA_ind_turismo', 'IDEA_ind_alimentacion']\n",
      "---------- CP ----------\n",
      "Hay 9755 registros sin ningún Nan\n",
      "Hay 179 registros con todo Nan\n",
      "Hay 0 con mix\n",
      "Hay 9755 registros sin ningún Nan\n",
      "Hay 179 registros con todo Nan\n",
      "Hay 0 con mix\n",
      "---------- Provincias ----------\n",
      "Hay 9934 registros sin ningún Nan\n",
      "Hay 0 registros con todo Nan\n",
      "Hay 0 con mix\n",
      "Hay 9934 registros sin ningún Nan\n",
      "Hay 0 registros con todo Nan\n",
      "Hay 0 con mix\n",
      "**************************************************\n",
      "Variables: ['IDEA_ind_riqueza']\n",
      "---------- CP ----------\n",
      "Hay 9812 registros sin ningún Nan\n",
      "Hay 122 registros con todo Nan\n",
      "Hay 0 con mix\n",
      "Hay 9812 registros sin ningún Nan\n",
      "Hay 122 registros con todo Nan\n",
      "Hay 0 con mix\n",
      "---------- Provincias ----------\n",
      "Hay 9934 registros sin ningún Nan\n",
      "Hay 0 registros con todo Nan\n",
      "Hay 0 con mix\n",
      "Hay 9934 registros sin ningún Nan\n",
      "Hay 0 registros con todo Nan\n",
      "Hay 0 con mix\n",
      "**************************************************\n",
      "Variables: ['IDEA_rent_alquiler']\n",
      "---------- CP ----------\n",
      "Hay 9448 registros sin ningún Nan\n",
      "Hay 486 registros con todo Nan\n",
      "Hay 0 con mix\n",
      "Hay 9448 registros sin ningún Nan\n",
      "Hay 486 registros con todo Nan\n",
      "Hay 0 con mix\n",
      "---------- Provincias ----------\n",
      "Hay 9934 registros sin ningún Nan\n",
      "Hay 0 registros con todo Nan\n",
      "Hay 0 con mix\n",
      "Hay 9934 registros sin ningún Nan\n",
      "Hay 0 registros con todo Nan\n",
      "Hay 0 con mix\n",
      "**************************************************\n",
      "Variables: ['IDEA_ind_elasticidad', 'IDEA_ind_liquidez']\n",
      "---------- CP ----------\n",
      "Hay 7845 registros sin ningún Nan\n",
      "Hay 2089 registros con todo Nan\n",
      "Hay 0 con mix\n",
      "Hay 7845 registros sin ningún Nan\n",
      "Hay 2089 registros con todo Nan\n",
      "Hay 0 con mix\n",
      "---------- Provincias ----------\n",
      "Hay 9934 registros sin ningún Nan\n",
      "Hay 0 registros con todo Nan\n",
      "Hay 0 con mix\n",
      "Hay 9934 registros sin ningún Nan\n",
      "Hay 0 registros con todo Nan\n",
      "Hay 0 con mix\n",
      "**************************************************\n",
      "Variables: ['IDEA_unitprice_sale_residential', 'IDEA_price_sale_residential', 'IDEA_stock_sale_residential']\n",
      "---------- CP ----------\n",
      "Hay 9809 registros sin ningún Nan\n",
      "Hay 125 registros con todo Nan\n",
      "Hay 0 con mix\n",
      "Hay 9809 registros sin ningún Nan\n",
      "Hay 125 registros con todo Nan\n",
      "Hay 0 con mix\n",
      "---------- Provincias ----------\n",
      "Hay 9934 registros sin ningún Nan\n",
      "Hay 0 registros con todo Nan\n",
      "Hay 0 con mix\n",
      "Hay 9934 registros sin ningún Nan\n",
      "Hay 0 registros con todo Nan\n",
      "Hay 0 con mix\n",
      "**************************************************\n",
      "Variables: ['IDEA_demand_sale_residential']\n",
      "---------- CP ----------\n",
      "Hay 9751 registros sin ningún Nan\n",
      "Hay 183 registros con todo Nan\n",
      "Hay 0 con mix\n",
      "Hay 9751 registros sin ningún Nan\n",
      "Hay 183 registros con todo Nan\n",
      "Hay 0 con mix\n",
      "---------- Provincias ----------\n",
      "Hay 9934 registros sin ningún Nan\n",
      "Hay 0 registros con todo Nan\n",
      "Hay 0 con mix\n",
      "Hay 9934 registros sin ningún Nan\n",
      "Hay 0 registros con todo Nan\n",
      "Hay 0 con mix\n",
      "**************************************************\n",
      "Variables: ['IDEA_unitprice_rent_residential', 'IDEA_price_rent_residential', 'IDEA_stock_rent_residential']\n",
      "---------- CP ----------\n",
      "Hay 9507 registros sin ningún Nan\n",
      "Hay 427 registros con todo Nan\n",
      "Hay 0 con mix\n",
      "Hay 9507 registros sin ningún Nan\n",
      "Hay 427 registros con todo Nan\n",
      "Hay 0 con mix\n",
      "---------- Provincias ----------\n",
      "Hay 9934 registros sin ningún Nan\n",
      "Hay 0 registros con todo Nan\n",
      "Hay 0 con mix\n",
      "Hay 9934 registros sin ningún Nan\n",
      "Hay 0 registros con todo Nan\n",
      "Hay 0 con mix\n",
      "**************************************************\n",
      "Variables: ['IDEA_demand_rent_residential']\n",
      "---------- CP ----------\n",
      "Hay 9809 registros sin ningún Nan\n",
      "Hay 125 registros con todo Nan\n",
      "Hay 0 con mix\n",
      "Hay 9809 registros sin ningún Nan\n",
      "Hay 125 registros con todo Nan\n",
      "Hay 0 con mix\n",
      "---------- Provincias ----------\n",
      "Hay 9934 registros sin ningún Nan\n",
      "Hay 0 registros con todo Nan\n",
      "Hay 0 con mix\n",
      "Hay 9934 registros sin ningún Nan\n",
      "Hay 0 registros con todo Nan\n",
      "Hay 0 con mix\n"
     ]
    }
   ],
   "source": [
    "for vars_group in var_list:\n",
    "    print('*'*50)\n",
    "    print('Variables:', vars_group)\n",
    "    print('-'*10+' CP '+'-'*10)\n",
    "    df, group_cp = ImputarNans_cp(df, vars_group, var = 'HY_cod_postal')\n",
    "    InfoNans(df, vars_group)\n",
    "    print('-'*10+' Provincias '+'-'*10)\n",
    "    df, group_provincia = ImputarNans_cp(df, vars_group, var = 'HY_provincia')\n",
    "    InfoNans(df, vars_group)\n",
    "    \n",
    "    df.to_csv('./DF_grupos/df_filled_{}.csv'.format(vars_group[0]), sep = '|', encoding='utf-8', index = False)\n",
    "    group_cp.to_csv('./DF_grupos/group_cp_{}.csv'.format(vars_group[0]), sep = '|', encoding='utf-8')\n",
    "    group_provincia.to_csv('./DF_grupos/group_prov_{}.csv'.format(vars_group[0]), sep = '|', encoding='utf-8')"
   ]
  },
  {
   "cell_type": "markdown",
   "metadata": {},
   "source": [
    "Comprobamos cuantos Nans hay en cada variable"
   ]
  },
  {
   "cell_type": "code",
   "execution_count": 24,
   "metadata": {},
   "outputs": [
    {
     "data": {
      "text/plain": [
       "HY_id                                 0\n",
       "HY_cod_postal                         0\n",
       "HY_provincia                          0\n",
       "HY_descripcion                     3926\n",
       "HY_distribucion                    6728\n",
       "HY_tipo                               0\n",
       "HY_antiguedad                      5463\n",
       "HY_metros_utiles                      0\n",
       "HY_metros_totales                     0\n",
       "HY_num_banos                          0\n",
       "HY_cert_energ                         0\n",
       "HY_num_terrazas                       0\n",
       "HY_ascensor                           0\n",
       "HY_trastero                           0\n",
       "HY_num_garajes                        0\n",
       "HY_precio                             0\n",
       "HY_precio_anterior                    0\n",
       "IDEA_area                          2621\n",
       "IDEA_poblacion                     2625\n",
       "IDEA_densidad                      2625\n",
       "IDEA_pc_1960                          0\n",
       "IDEA_pc_1960_69                       0\n",
       "IDEA_pc_1970_79                       0\n",
       "IDEA_pc_1980_89                       0\n",
       "IDEA_pc_1990_99                       0\n",
       "IDEA_pc_2000_10                       0\n",
       "IDEA_pc_comercio                      0\n",
       "IDEA_pc_industria                     0\n",
       "IDEA_pc_oficina                       0\n",
       "IDEA_pc_otros                         0\n",
       "IDEA_pc_residencial                   0\n",
       "IDEA_pc_trast_parking                 0\n",
       "IDEA_ind_tienda                       0\n",
       "IDEA_ind_turismo                      0\n",
       "IDEA_ind_alimentacion                 0\n",
       "IDEA_ind_riqueza                      0\n",
       "IDEA_rent_alquiler                    0\n",
       "IDEA_ind_elasticidad                  0\n",
       "IDEA_ind_liquidez                     0\n",
       "IDEA_unitprice_sale_residential       0\n",
       "IDEA_price_sale_residential           0\n",
       "IDEA_stock_sale_residential           0\n",
       "IDEA_demand_sale_residential          0\n",
       "IDEA_unitprice_rent_residential       0\n",
       "IDEA_price_rent_residential           0\n",
       "IDEA_stock_rent_residential           0\n",
       "IDEA_demand_rent_residential          0\n",
       "GA_page_views                         0\n",
       "GA_mean_bounce                        0\n",
       "GA_exit_rate                          0\n",
       "GA_quincena_ini                       0\n",
       "GA_quincena_ult                       0\n",
       "TARGET                                0\n",
       "PV_longitud_descripcion               0\n",
       "PV_longitud_distribucion              0\n",
       "PV_ind_elasticidad                 5090\n",
       "PV_precio_metro                       0\n",
       "dtype: int64"
      ]
     },
     "execution_count": 24,
     "metadata": {},
     "output_type": "execute_result"
    }
   ],
   "source": [
    "df.isnull().sum(axis = 0)"
   ]
  },
  {
   "cell_type": "markdown",
   "metadata": {},
   "source": [
    "Por lo que tenemos que las únicas variables que quedan con Nans son:\n",
    "+ IDEA_area, IDEA_poblacion, IDEA_densidad $\\longrightarrow$ Las completaremos con datos externos.\n",
    "+ HY_descripcion, HY_distribucion $\\longrightarrow$ Las eliminaremos ya que tenemos sus variables asociadas PV_longitud_descripcion, PV_longitud_distribucion\n",
    "+ PV_ind_elasticidad $\\longrightarrow$ La cambiaremos por su variante sn Nans\n",
    "+ HY_antiguedad $\\longrightarrow$ La intentaremos predecir mediante las variables de antigüedad de las zonas.\n",
    "\n",
    "\n",
    "# Guardamos el dataframe final con todo arreglado"
   ]
  },
  {
   "cell_type": "code",
   "execution_count": 25,
   "metadata": {
    "collapsed": true
   },
   "outputs": [],
   "source": [
    "df.to_csv('df_filled_final.csv', sep = '|', encoding='utf-8', index = False)"
   ]
  }
 ],
 "metadata": {
  "kernelspec": {
   "display_name": "Python 3",
   "language": "python",
   "name": "python3"
  },
  "language_info": {
   "codemirror_mode": {
    "name": "ipython",
    "version": 3
   },
   "file_extension": ".py",
   "mimetype": "text/x-python",
   "name": "python",
   "nbconvert_exporter": "python",
   "pygments_lexer": "ipython3",
   "version": "3.7.4"
  }
 },
 "nbformat": 4,
 "nbformat_minor": 2
}
